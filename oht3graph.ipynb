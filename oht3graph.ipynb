{
 "cells": [
  {
   "cell_type": "code",
   "execution_count": null,
   "id": "d083a42c-c52b-4a6a-b6c3-966f0b260ab6",
   "metadata": {},
   "outputs": [],
   "source": [
    "# filename: graph.ipynb\n",
    "# purpose: data visualize analysis"
   ]
  },
  {
   "cell_type": "markdown",
   "id": "20f72892-e2ae-45dd-b6cc-8448ae2fd159",
   "metadata": {},
   "source": [
    "# OHT data visualize & Analysis "
   ]
  },
  {
   "cell_type": "markdown",
   "id": "8dced393-7cb5-4e2d-9c50-ffe3630527d3",
   "metadata": {},
   "source": [
    "### Proessing flow\n",
    "- 데이터 체크 - column, type, value and volumn\n",
    "- 통계 분석 - statistics\n",
    "- 추이 분석 - lineplot,\n",
    "- 분산 분석 - historam, boxplot, violinplot\n",
    "- 상관관계 분석 - heatmap, scatterplot"
   ]
  },
  {
   "cell_type": "code",
   "execution_count": null,
   "id": "0cdefb88-870e-4075-824b-53840ddb6f5b",
   "metadata": {},
   "outputs": [],
   "source": [
    "# packages\n",
    "import time\n",
    "import pathlib\n",
    "import pandas as pd\n",
    "\n",
    "import humanfriendly as human\n",
    "\n",
    "import ohtconf as conf\n",
    "import ohtcomm as comm\n",
    "import ohtgraph as graph"
   ]
  },
  {
   "cell_type": "markdown",
   "id": "ef876ffe-f89c-48dc-84dc-8157022161cc",
   "metadata": {},
   "source": [
    "## Main"
   ]
  },
  {
   "cell_type": "code",
   "execution_count": null,
   "id": "4ec7b5c8-0431-43ac-8fb9-ec8476a88467",
   "metadata": {},
   "outputs": [],
   "source": [
    "mainstart = time.time()"
   ]
  },
  {
   "cell_type": "code",
   "execution_count": null,
   "id": "51555163-daf2-4814-942f-55b0293a2635",
   "metadata": {},
   "outputs": [],
   "source": [
    "# set float display format\n",
    "pd.set_option(\"display.float_format\", \"{:.1f}\".format)"
   ]
  },
  {
   "cell_type": "code",
   "execution_count": null,
   "id": "98b131dd-d7e5-421d-ac32-e283db98a038",
   "metadata": {},
   "outputs": [],
   "source": [
    "# recreate chart output directory\n",
    "comm.remove_directory(conf.DIRCHART)\n",
    "\n",
    "pathlib.Path(conf.DIRCHART).mkdir(parents=True, exist_ok=True)  # create directory of pngfiles"
   ]
  },
  {
   "cell_type": "code",
   "execution_count": null,
   "id": "4256f268-db28-4488-af45-864c0a98f66f",
   "metadata": {},
   "outputs": [],
   "source": [
    "# dataframe slice for chart\n",
    "xs = conf.CHARTSLICE\n",
    "# update this value to effect on this file\n",
    "# xs = slice(conf.CHARTSLICE.start, conf.CHARTSLICE.stop, conf.CHARTSLICE.step)\n",
    "print(f\"chart dataframe slice={xs}\")"
   ]
  },
  {
   "cell_type": "code",
   "execution_count": null,
   "id": "6c29d8c4-368f-4924-a310-7bce5d974276",
   "metadata": {},
   "outputs": [],
   "source": [
    "# default plot size\n",
    "# update conf.PLOTSIZE to effect on the graph.py functions\n",
    "conf.PLOTSIZE = [conf.PLOTSIZE[0], conf.PLOTSIZE[1]]\n",
    "print(f\"chart plotsize={conf.PLOTSIZE}\")"
   ]
  },
  {
   "cell_type": "markdown",
   "id": "71a7c575-6bad-4d9c-b8d8-9c51358d4298",
   "metadata": {},
   "source": [
    "### 데이터 첵크 "
   ]
  },
  {
   "cell_type": "code",
   "execution_count": null,
   "id": "72ef1281-e169-41dd-a232-75f9abb2b8cf",
   "metadata": {},
   "outputs": [],
   "source": [
    "# read table data\n",
    "_start = time.time()\n",
    "\n",
    "dfnoise = comm.read_tabdf(conf.TABNAME_NOISE)\n",
    "dfnoise.sort_values(by=conf.COLUMN_NAMES[0], inplace=True)\n",
    "dfnoise.reset_index(drop=True, inplace=True)\n",
    "\n",
    "dfnorm = comm.read_tabdf(conf.TABNAME_NORM)\n",
    "dfnorm.sort_values(by=conf.COLUMN_NAMES[0], inplace=True)\n",
    "dfnorm.reset_index(drop=True, inplace=True)\n",
    "\n",
    "dfoutl = comm.read_tabdf(conf.TABNAME_OUTL)\n",
    "dfoutl.sort_values(by=conf.COLUMN_NAMES[0], inplace=True)\n",
    "dfoutl.reset_index(drop=True, inplace=True)\n",
    "\n",
    "_elapsed = time.time() - _start\n",
    "print(f\"Rea elapsed time: {human.format_timespan(_elapsed)}\")"
   ]
  },
  {
   "cell_type": "code",
   "execution_count": null,
   "id": "d4b06d30-1764-4536-90bb-a02549adfa4d",
   "metadata": {},
   "outputs": [],
   "source": [
    "# data count\n",
    "print(f\"row count noise={len(dfnoise)}, norm={len(dfnorm)}, outl={len(dfoutl)}\")"
   ]
  },
  {
   "cell_type": "code",
   "execution_count": null,
   "id": "16e8a5a1-9da5-45b9-80e0-ededaa40f3aa",
   "metadata": {},
   "outputs": [],
   "source": [
    "# null checking\n",
    "# dfnorm.info()"
   ]
  },
  {
   "cell_type": "code",
   "execution_count": null,
   "id": "36c34e8a-ab2a-4017-a7ce-7ad5371db46b",
   "metadata": {},
   "outputs": [],
   "source": [
    "# null checking\n",
    "# dfoutl.info()"
   ]
  },
  {
   "cell_type": "code",
   "execution_count": null,
   "id": "75a4ed50-2120-4e92-a260-005ba58db1ea",
   "metadata": {},
   "outputs": [],
   "source": [
    "# data sample check\n",
    "dfnorm.head()"
   ]
  },
  {
   "cell_type": "code",
   "execution_count": null,
   "id": "87e7bf0f-67dd-4733-950f-14f64aef5477",
   "metadata": {},
   "outputs": [],
   "source": [
    "# data sample check\n",
    "dfoutl.head()"
   ]
  },
  {
   "cell_type": "markdown",
   "id": "a742177b-8256-4244-bcac-ccce122234ce",
   "metadata": {},
   "source": [
    "### 테이터 통계 분석"
   ]
  },
  {
   "cell_type": "code",
   "execution_count": null,
   "id": "4a03c970-1911-4388-b4f7-865d3d520050",
   "metadata": {},
   "outputs": [],
   "source": [
    "# data statistics\n",
    "dfnorm.describe()"
   ]
  },
  {
   "cell_type": "code",
   "execution_count": null,
   "id": "752b4102-39b9-49cc-86d4-857097c44466",
   "metadata": {},
   "outputs": [],
   "source": [
    "# data statistics\n",
    "dfoutl.describe()"
   ]
  },
  {
   "cell_type": "markdown",
   "id": "f36a3dbb-9bc4-4bd7-8995-db9ce7bf5866",
   "metadata": {},
   "source": [
    "### 데이터 추이 분석"
   ]
  },
  {
   "cell_type": "code",
   "execution_count": null,
   "id": "59d51543-3290-4030-a1a8-c40925931c77",
   "metadata": {},
   "outputs": [],
   "source": [
    "# line chart\n",
    "ggrids = [[\"tem\", (1, 1)], [\"pma\", (1, 3)], [\"coa\", (1, 2)], [\"cta\", (2, 2)]]\n",
    "for ggrid, cols in zip(ggrids, [conf.COLUMN_TEM, conf.COLUMN_PMA, conf.COLUMN_COA, conf.COLUMN_CTA]):\n",
    "    graph.linechart(\n",
    "        dfs=[dfoutl[xs], dfnorm[xs]],\n",
    "        labels=[\"outlier\", \"normal\"],\n",
    "        cols=cols,\n",
    "        grid=ggrid[1],\n",
    "        pngfile=f\"outl-norm-line-{ggrid[0]}.png\",\n",
    "    )"
   ]
  },
  {
   "cell_type": "code",
   "execution_count": null,
   "id": "d29d14cd-a89a-4b5a-b31b-36242197fda5",
   "metadata": {},
   "outputs": [],
   "source": [
    "# line chart - moving average\n",
    "mvs = slice(\n",
    "    conf.CHARTSLICE.start, min(len(dfoutl), conf.CHARTSLICE.start + conf.POINTS[\"MOVING\"] * 100), conf.POINTS[\"MOVING\"]\n",
    ")\n",
    "\n",
    "mvavg_tem = [conf.MVAVG + col for col in conf.COLUMN_TEM]\n",
    "mvavg_pma = [conf.MVAVG + col for col in conf.COLUMN_PMA]\n",
    "mvavg_coa = [conf.MVAVG + col for col in conf.COLUMN_COA]\n",
    "mvavg_cta = [conf.MVAVG + col for col in conf.COLUMN_CTA]\n",
    "\n",
    "ggrids = [[\"tem\", (1, 1)], [\"pma\", (1, 3)], [\"coa\", (1, 2)], [\"cta\", (2, 2)]]\n",
    "for ggrid, cols in zip(ggrids, [mvavg_tem, mvavg_pma, mvavg_coa, mvavg_cta]):\n",
    "    graph.linechart(\n",
    "        dfs=[dfoutl[mvs], dfnorm[mvs]],\n",
    "        labels=[\"outlier\", \"normal\"],\n",
    "        cols=cols,\n",
    "        grid=ggrid[1],\n",
    "        title=\"Moving Average by Line chart\",\n",
    "        pngfile=f\"outl-norm-mvavg-line-{ggrid[0]}.png\",\n",
    "    )"
   ]
  },
  {
   "cell_type": "markdown",
   "id": "e7a956dd-a693-4776-ad0b-60007e8c0ec9",
   "metadata": {},
   "source": [
    "### 데이터 분산 분석"
   ]
  },
  {
   "cell_type": "code",
   "execution_count": null,
   "id": "7748a18b-c337-437f-81db-44eb6da24bb4",
   "metadata": {},
   "outputs": [],
   "source": [
    "# histogram chart\n",
    "ggrids = [[\"tem\", (1, 1)], [\"pma\", (1, 3)], [\"coa\", (1, 2)], [\"cta\", (2, 2)]]\n",
    "for ggrid, cols in zip(ggrids, [conf.COLUMN_TEM, conf.COLUMN_PMA, conf.COLUMN_COA, conf.COLUMN_CTA]):\n",
    "    graph.histchart(\n",
    "        dfs=[dfoutl, dfnorm.iloc[: len(dfoutl)]],\n",
    "        labels=[\"outlier\", \"normal\"],\n",
    "        cols=cols,\n",
    "        grid=ggrid[1],\n",
    "        pngfile=f\"outl-norm-hist-{ggrid[0]}.png\",\n",
    "    )"
   ]
  },
  {
   "cell_type": "code",
   "execution_count": null,
   "id": "343c4637-b452-42e2-841c-98f0bdd08ba6",
   "metadata": {},
   "outputs": [],
   "source": [
    "# box chart\n",
    "ggrids = [[\"tem\", (1, 1)], [\"pma\", (1, 3)], [\"coa\", (1, 2)], [\"cta\", (2, 2)]]\n",
    "for ggrid, cols in zip(ggrids, [conf.COLUMN_TEM, conf.COLUMN_PMA, conf.COLUMN_COA, conf.COLUMN_CTA]):\n",
    "    graph.boxchart(\n",
    "        dfs=[dfoutl, dfnorm.iloc[: len(dfoutl)]],\n",
    "        labels=[\"outlier\", \"normal\"],\n",
    "        cols=cols,\n",
    "        grid=ggrid[1],\n",
    "        pngfile=f\"outl-norm-box-{ggrid[0]}.png\",\n",
    "    )"
   ]
  },
  {
   "cell_type": "code",
   "execution_count": null,
   "id": "c1cfac2c-0755-44c0-910a-c642124a75d3",
   "metadata": {},
   "outputs": [],
   "source": [
    "# violin chart\n",
    "ggrids = [[\"tem\", (1, 1)], [\"pma\", (1, 3)], [\"coa\", (1, 2)], [\"cta\", (2, 2)]]\n",
    "for ggrid, cols in zip(ggrids, [conf.COLUMN_TEM, conf.COLUMN_PMA, conf.COLUMN_COA, conf.COLUMN_CTA]):\n",
    "    graph.violinchart(\n",
    "        dfs=[dfoutl, dfnorm.iloc[: len(dfoutl)]],\n",
    "        labels=[\"outlier\", \"normal\"],\n",
    "        cols=cols,\n",
    "        grid=ggrid[1],\n",
    "        pngfile=f\"outl-norm-violin-{ggrid[0]}.png\",\n",
    "    )"
   ]
  },
  {
   "cell_type": "markdown",
   "id": "c917517d-a6a5-4c17-bf60-c978a35550f0",
   "metadata": {},
   "source": [
    "### 데이터 상관관계 분석"
   ]
  },
  {
   "cell_type": "code",
   "execution_count": null,
   "id": "1b21a3ad-0f76-4a28-9ca9-b53907abbda4",
   "metadata": {},
   "outputs": [],
   "source": [
    "# heatmap chart based on correlation\n",
    "graph.heatmapchart(dfnorm[conf.COLUMN_GRAPH], pngfile=\"norm-heatmap-all.png\")\n",
    "\n",
    "# NOTE: with large dataset, found strong(>0.75) and moderate(>0.50) correationship\n",
    "# TEM-NH3: 0.88, PM1-PM2_5: 0.92, PM1-PM10: 0.98, PM2_5:PM10: 0.95, PM2_5-CT1: 0.56, CO-CT1: 0.57"
   ]
  },
  {
   "cell_type": "code",
   "execution_count": null,
   "id": "88c1872b-dbdc-44da-bf88-03928a226896",
   "metadata": {},
   "outputs": [],
   "source": [
    "# scatter chart\n",
    "if conf.SCATTER_INCLUDE:\n",
    "    for c1idx, c1name in enumerate(conf.COLUMN_GRAPH):\n",
    "        if c1idx < (len(conf.COLUMN_NAMES) - 1):\n",
    "            for c2idx, c2name in enumerate(conf.COLUMN_GRAPH[c1idx + 1 :]):\n",
    "                graph.scatterchart(\n",
    "                    dfnorm, cols=[c1name, c2name], pngfile=\"norm-scatter-\" + \"-\".join([c1name, c2name]) + \".png\"\n",
    "                )\n",
    "\n",
    "# \"\"\"\n",
    "# Correlation in between features:\n",
    "# - TEM has no correlation with the other features.\n",
    "# - PM1,2_5,10 has some liner correlation\n",
    "# - CO, NH3 has some linear correlaton.\n",
    "# - CO, NH3 and CT1~4 has some linear correlation\n",
    "# - CT1~CT4 have no correlation in between them.\n",
    "# \"\"\""
   ]
  },
  {
   "cell_type": "code",
   "execution_count": null,
   "id": "a088d92a-7990-4e0a-95e8-48ef77093188",
   "metadata": {},
   "outputs": [],
   "source": [
    "_elapsed = time.time() - mainstart\n",
    "print(f\"main elapsed time: {human.format_timespan(_elapsed)}\")\n",
    "# 1 min. for conf.INPUT_MAXSIZE = 400 MB"
   ]
  },
  {
   "cell_type": "markdown",
   "id": "04a6b3ad-421a-41da-b314-793754cb9bef",
   "metadata": {},
   "source": [
    "### eof"
   ]
  }
 ],
 "metadata": {
  "kernelspec": {
   "display_name": "Python 3 (ipykernel)",
   "language": "python",
   "name": "python3"
  },
  "language_info": {
   "codemirror_mode": {
    "name": "ipython",
    "version": 3
   },
   "file_extension": ".py",
   "mimetype": "text/x-python",
   "name": "python",
   "nbconvert_exporter": "python",
   "pygments_lexer": "ipython3",
   "version": "3.12.3"
  }
 },
 "nbformat": 4,
 "nbformat_minor": 5
}
