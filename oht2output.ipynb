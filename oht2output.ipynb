{
 "cells": [
  {
   "cell_type": "code",
   "execution_count": 1,
   "id": "d083a42c-c52b-4a6a-b6c3-966f0b260ab6",
   "metadata": {},
   "outputs": [],
   "source": [
    "# filename: output.ipynb\n",
    "# purpose: generate output data"
   ]
  },
  {
   "cell_type": "markdown",
   "id": "20f72892-e2ae-45dd-b6cc-8448ae2fd159",
   "metadata": {},
   "source": [
    "# OHT noise, normal and outlier data generation"
   ]
  },
  {
   "cell_type": "markdown",
   "id": "8dced393-7cb5-4e2d-9c50-ffe3630527d3",
   "metadata": {},
   "source": [
    "### Outlier detection method\n",
    "- Outlier data will be detected and generated based on Moving Average and Moving Standard Deviation \n",
    "\n",
    "### Processing flow\n",
    "- Read Raw table, ohtraw from duckdb filedb, which was created in previous step, parse notebook\n",
    "- Create a Work table, work in memory duckdb with additional columns MVAVG_,MVSTD_,MVSIG_,FLAG columns.\n",
    "- Calculate Moving Average, Standard Devidation\n",
    "- Calculate Sigma value of the column data based on Moving Average and Standard Deviation\n",
    "- Calcuate FLAG column value based on Sigma value\n",
    "- Fetch the work table into work dataframe\n",
    "- Split noise and normal dataframe from work dataframe based on FLAG value\n",
    "- Create outlier dataframe based on normal dataframe\n",
    "- Update outlier dataframe by applying outlier pattern \n",
    "- Save noise, normal, outler dataframe to duckdb tables for later graphing.\n",
    "- Save noise, normal, outler csvfle\n",
    "- Check csvfile size "
   ]
  },
  {
   "cell_type": "code",
   "execution_count": 2,
   "id": "0cdefb88-870e-4075-824b-53840ddb6f5b",
   "metadata": {},
   "outputs": [],
   "source": [
    "# packages\n",
    "import time\n",
    "import pathlib\n",
    "import textwrap\n",
    "import pandas as pd\n",
    "\n",
    "import humanfriendly as human\n",
    "import duckdb\n",
    "\n",
    "import ohtconf as conf\n",
    "import ohtcomm as comm"
   ]
  },
  {
   "cell_type": "markdown",
   "id": "ef876ffe-f89c-48dc-84dc-8157022161cc",
   "metadata": {},
   "source": [
    "## Main"
   ]
  },
  {
   "cell_type": "code",
   "execution_count": 3,
   "id": "14141f00-7847-446e-9e64-a5be64984692",
   "metadata": {},
   "outputs": [],
   "source": [
    "mainstart = time.time()"
   ]
  },
  {
   "cell_type": "markdown",
   "id": "d7eaf629-aa81-4178-a17e-802bda4680d7",
   "metadata": {},
   "source": [
    "### Prepare in-memory work table base on in-file raw table "
   ]
  },
  {
   "cell_type": "code",
   "execution_count": 4,
   "id": "0a2a56b9-3418-4849-9b2a-da1add197550",
   "metadata": {},
   "outputs": [],
   "source": [
    "# open in-memory db\n",
    "\n",
    "con = duckdb.connect(database=\":memory:\")"
   ]
  },
  {
   "cell_type": "code",
   "execution_count": 5,
   "id": "73f4f68b-90ef-4db5-a9ac-15bd316a95d5",
   "metadata": {},
   "outputs": [
    {
     "data": {
      "text/plain": [
       "<duckdb.duckdb.DuckDBPyConnection at 0x2a9fff2a030>"
      ]
     },
     "execution_count": 5,
     "metadata": {},
     "output_type": "execute_result"
    }
   ],
   "source": [
    "# create in-memory work table\n",
    "\n",
    "query = \"DROP TABLE IF EXISTS work\"\n",
    "con.execute(query)\n",
    "\n",
    "coldef = \"\"\n",
    "for name, dtype in zip(conf.COLUMN_NAMES, conf.COLUMN_DBTYPES):\n",
    "    if coldef:\n",
    "        coldef += \", \" + name + \" \" + dtype\n",
    "    else:\n",
    "        coldef += name + \" \" + dtype\n",
    "\n",
    "for col in conf.COLUMN_GRAPH:\n",
    "    coldef += \", \" + conf.MVAVG + col + \" \" + \"FLOAT\"\n",
    "    coldef += \", \" + conf.MVSTD + col + \" \" + \"FLOAT\"\n",
    "    coldef += \", \" + conf.MVSIG + col + \" \" + \"INTEGER\"\n",
    "\n",
    "coldef += \", \" + f\"{conf.COLUMN_FLAG}  INTEGER\"\n",
    "\n",
    "query = f\"CREATE TABLE work ( {coldef} )\"\n",
    "# print(textwrap.fill(query, width=120))\n",
    "\n",
    "con.execute(query)"
   ]
  },
  {
   "cell_type": "code",
   "execution_count": 6,
   "id": "ad98b522-6cec-4930-bc9e-1b44beab5e71",
   "metadata": {},
   "outputs": [
    {
     "data": {
      "text/plain": [
       "<duckdb.duckdb.DuckDBPyConnection at 0x2a9fff2a030>"
      ]
     },
     "execution_count": 6,
     "metadata": {},
     "output_type": "execute_result"
    }
   ],
   "source": [
    "# attach in-file db, raw table was prepared in the previous step, parse\n",
    "\n",
    "con.execute(f\"ATTACH DATABASE '{conf.DBFILE}' AS filedb (READ_ONLY)\")"
   ]
  },
  {
   "cell_type": "code",
   "execution_count": 7,
   "id": "a2e44da7-eef3-4a61-b825-92b350893351",
   "metadata": {},
   "outputs": [
    {
     "data": {
      "text/plain": [
       "<duckdb.duckdb.DuckDBPyConnection at 0x2a9fff2a030>"
      ]
     },
     "execution_count": 7,
     "metadata": {},
     "output_type": "execute_result"
    }
   ],
   "source": [
    "# insert into in-memory work table from in-file raw table with additional Moving Avg,Std and Flag=0\n",
    "\n",
    "coldef = \", \".join(conf.COLUMN_NAMES)\n",
    "\n",
    "for col in conf.COLUMN_GRAPH:\n",
    "    coldef += (\n",
    "        \", \"\n",
    "        + f\"AVG({col}) OVER (ORDER BY {conf.COLUMN_NAMES[0]} ROWS BETWEEN {conf.POINTS['MOVING']} PRECEDING AND CURRENT ROW) AS {conf.MVAVG}{col}\"\n",
    "    )\n",
    "    coldef += (\n",
    "        \", \"\n",
    "        + f\"STDDEV({col}) OVER (ORDER BY {conf.COLUMN_NAMES[0]} ROWS BETWEEN {conf.POINTS['MOVING']} PRECEDING AND CURRENT ROW) AS {conf.MVSTD}{col}\"\n",
    "    )\n",
    "    coldef += \", 0\"  # mvsig_\n",
    "coldef += \", 0\"  # flag\n",
    "\n",
    "query = f\"INSERT INTO work SELECT {coldef} FROM filedb.{conf.TABNAME_RAW} ORDER BY {conf.COLUMN_NAMES[0]}\"\n",
    "# print(textwrap.fill(query, width=120))\n",
    "\n",
    "con.execute(query)"
   ]
  },
  {
   "cell_type": "code",
   "execution_count": 8,
   "id": "4c7374b1-20e2-4d8d-8d54-e89299d7bc57",
   "metadata": {},
   "outputs": [
    {
     "data": {
      "text/plain": [
       "<duckdb.duckdb.DuckDBPyConnection at 0x2a9fff2a030>"
      ]
     },
     "execution_count": 8,
     "metadata": {},
     "output_type": "execute_result"
    }
   ],
   "source": [
    "# detach filedb\n",
    "\n",
    "con.execute(\"DETACH DATABASE filedb\")"
   ]
  },
  {
   "cell_type": "code",
   "execution_count": 9,
   "id": "d05097c7-b8cf-4bfd-9cf9-8d8f42e8aeff",
   "metadata": {},
   "outputs": [
    {
     "data": {
      "text/plain": [
       "<duckdb.duckdb.DuckDBPyConnection at 0x2a9fff2a030>"
      ]
     },
     "execution_count": 9,
     "metadata": {},
     "output_type": "execute_result"
    }
   ],
   "source": [
    "# Update NULL value after window function\n",
    "query = f\"SELECT * FROM work ORDER BY {conf.COLUMN_NAMES[0]}\"\n",
    "dfwork = con.execute(query).df()\n",
    "dfwork.bfill(inplace=True)\n",
    "\n",
    "# recreate work table base one work dataframe\n",
    "con.execute(\"DROP TABLE IF EXISTS work\")\n",
    "con.execute(\"CREATE TABLE work AS SELECT * FROM dfwork\")"
   ]
  },
  {
   "cell_type": "code",
   "execution_count": 10,
   "id": "cd502e22-e6cc-4196-a3af-2901490bb3f5",
   "metadata": {},
   "outputs": [
    {
     "data": {
      "text/plain": [
       "<duckdb.duckdb.DuckDBPyConnection at 0x2a9fff2a030>"
      ]
     },
     "execution_count": 10,
     "metadata": {},
     "output_type": "execute_result"
    }
   ],
   "source": [
    "# calculate Sigma value\n",
    "\n",
    "coldef = \"\"\n",
    "for col in conf.COLUMN_GRAPH:\n",
    "    setdef = textwrap.dedent(f\"\"\"{conf.MVSIG}{col} = CASE \n",
    "                  WHEN {col} >= ({col} - 1 * {conf.MVSTD}{col}) AND {col} <= ({col} + 1 * {conf.MVSTD}{col})  then 1\n",
    "                  WHEN {col} >= ({col} - 2 * {conf.MVSTD}{col}) AND {col} <= ({col} + 2 * {conf.MVSTD}{col})  then 2\n",
    "                  WHEN {col} >= ({col} - 3 * {conf.MVSTD}{col}) AND {col} <= ({col} + 3 * {conf.MVSTD}{col})  then 3\n",
    "                  WHEN {col} >= ({col} - 4 * {conf.MVSTD}{col}) AND {col} <= ({col} + 4 * {conf.MVSTD}{col})  then 4\n",
    "                  WHEN {col} >= ({col} - 5 * {conf.MVSTD}{col}) AND {col} <= ({col} + 5 * {conf.MVSTD}{col})  then 5\n",
    "                  ELSE 6\n",
    "                  END\"\"\")\n",
    "    if not coldef:\n",
    "        coldef = setdef\n",
    "    else:\n",
    "        coldef += f\", {setdef}\"\n",
    "\n",
    "query = f\"UPDATE work SET {coldef}\"\n",
    "# print(textwrap.fill(query, width=120))\n",
    "\n",
    "con.execute(query)"
   ]
  },
  {
   "cell_type": "code",
   "execution_count": 11,
   "id": "2f69bccf-9ced-46fc-8f4a-b7d4d3ec4218",
   "metadata": {},
   "outputs": [
    {
     "name": "stdout",
     "output_type": "stream",
     "text": [
      "UPDATE work SET FLAG=1 WHERE MVSIG_TEM > 2 OR MVSIG_PM1 > 2 OR MVSIG_PM2_5 > 2 OR MVSIG_PM10 > 2 OR MVSIG_CO > 2 OR\n",
      "MVSIG_NH3 > 2 OR MVSIG_CT1 > 2 OR MVSIG_CT2 > 2 OR MVSIG_CT3 > 2 OR MVSIG_CT4 > 2\n"
     ]
    },
    {
     "data": {
      "text/plain": [
       "<duckdb.duckdb.DuckDBPyConnection at 0x2a9fff2a030>"
      ]
     },
     "execution_count": 11,
     "metadata": {},
     "output_type": "execute_result"
    }
   ],
   "source": [
    "# calculate Flag=1 based on configured sigma value\n",
    "\n",
    "coldef = \"\"\n",
    "for col in conf.COLUMN_GRAPH:\n",
    "    if not coldef:\n",
    "        coldef = f\"{conf.MVSIG}{col} > {conf.SIGMA_NOISE}\"\n",
    "    else:\n",
    "        coldef += f\" OR {conf.MVSIG}{col} > {conf.SIGMA_NOISE}\"\n",
    "\n",
    "query = f\"UPDATE work SET {conf.COLUMN_FLAG}=1 WHERE {coldef}\"\n",
    "print(textwrap.fill(query, width=120))\n",
    "\n",
    "con.execute(query)"
   ]
  },
  {
   "cell_type": "markdown",
   "id": "b603ddbc-416d-436d-b4ac-98da091c3554",
   "metadata": {},
   "source": [
    "### Prepare noise, normal, outlier dataframe"
   ]
  },
  {
   "cell_type": "code",
   "execution_count": 12,
   "id": "fa3d07f3-ab03-4799-a767-4eb56c23dc21",
   "metadata": {},
   "outputs": [
    {
     "name": "stdout",
     "output_type": "stream",
     "text": [
      "row count, noise=0, normal=108000, outlier=36000\n"
     ]
    }
   ],
   "source": [
    "# fetch table\n",
    "\n",
    "dfnoise = con.execute(f\"SELECT * FROM work WHERE {conf.COLUMN_FLAG}=1 ORDER BY {conf.COLUMN_NAMES[0]}\").df()\n",
    "dfnorm = con.execute(f\"SELECT * FROM work WHERE {conf.COLUMN_FLAG}=0 ORDER BY {conf.COLUMN_NAMES[0]}\").df()\n",
    "\n",
    "# update datetm value\n",
    "dfnoise[conf.COLUMN_NAMES[0]] = pd.date_range(start=\"2024-01-01\", periods=len(dfnoise), freq=\"100ms\")\n",
    "dfnorm[conf.COLUMN_NAMES[0]] = pd.date_range(start=\"2024-01-01\", periods=len(dfnorm), freq=\"100ms\")\n",
    "\n",
    "# choose dfoutl data in dfnorm\n",
    "dfoutl = dfnorm.iloc[: round(len(dfnorm) * conf.OUTLIER_RATIO)]  # normal:outlier = 3:1 (6:2)\n",
    "dfoutl = dfoutl.sort_values(by=conf.COLUMN_NAMES[0])\n",
    "dfoutl = dfoutl.reset_index(drop=True)\n",
    "\n",
    "print(f\"row count, noise={len(dfnoise)}, normal={len(dfnorm)}, outlier={len(dfoutl)}\")"
   ]
  },
  {
   "cell_type": "code",
   "execution_count": 13,
   "id": "f98557e4-113c-4593-b9d3-946c59170603",
   "metadata": {},
   "outputs": [
    {
     "data": {
      "text/html": [
       "<div>\n",
       "<style scoped>\n",
       "    .dataframe tbody tr th:only-of-type {\n",
       "        vertical-align: middle;\n",
       "    }\n",
       "\n",
       "    .dataframe tbody tr th {\n",
       "        vertical-align: top;\n",
       "    }\n",
       "\n",
       "    .dataframe thead th {\n",
       "        text-align: right;\n",
       "    }\n",
       "</style>\n",
       "<table border=\"1\" class=\"dataframe\">\n",
       "  <thead>\n",
       "    <tr style=\"text-align: right;\">\n",
       "      <th></th>\n",
       "      <th>DATETM</th>\n",
       "      <th>TEM</th>\n",
       "      <th>PM1</th>\n",
       "      <th>PM2_5</th>\n",
       "      <th>PM10</th>\n",
       "      <th>CO</th>\n",
       "      <th>NH3</th>\n",
       "      <th>CT1</th>\n",
       "      <th>CT2</th>\n",
       "      <th>CT3</th>\n",
       "      <th>CT4</th>\n",
       "      <th>MVAVG_TEM</th>\n",
       "      <th>MVSTD_TEM</th>\n",
       "      <th>MVSIG_TEM</th>\n",
       "      <th>MVAVG_PM1</th>\n",
       "      <th>MVSTD_PM1</th>\n",
       "      <th>MVSIG_PM1</th>\n",
       "      <th>MVAVG_PM2_5</th>\n",
       "      <th>MVSTD_PM2_5</th>\n",
       "      <th>MVSIG_PM2_5</th>\n",
       "      <th>MVAVG_PM10</th>\n",
       "      <th>MVSTD_PM10</th>\n",
       "      <th>MVSIG_PM10</th>\n",
       "      <th>MVAVG_CO</th>\n",
       "      <th>MVSTD_CO</th>\n",
       "      <th>MVSIG_CO</th>\n",
       "      <th>MVAVG_NH3</th>\n",
       "      <th>MVSTD_NH3</th>\n",
       "      <th>MVSIG_NH3</th>\n",
       "      <th>MVAVG_CT1</th>\n",
       "      <th>MVSTD_CT1</th>\n",
       "      <th>MVSIG_CT1</th>\n",
       "      <th>MVAVG_CT2</th>\n",
       "      <th>MVSTD_CT2</th>\n",
       "      <th>MVSIG_CT2</th>\n",
       "      <th>MVAVG_CT3</th>\n",
       "      <th>MVSTD_CT3</th>\n",
       "      <th>MVSIG_CT3</th>\n",
       "      <th>MVAVG_CT4</th>\n",
       "      <th>MVSTD_CT4</th>\n",
       "      <th>MVSIG_CT4</th>\n",
       "      <th>FLAG</th>\n",
       "    </tr>\n",
       "  </thead>\n",
       "  <tbody>\n",
       "    <tr>\n",
       "      <th>0</th>\n",
       "      <td>2024-01-01 00:00:00.000</td>\n",
       "      <td>40.799999</td>\n",
       "      <td>10</td>\n",
       "      <td>12</td>\n",
       "      <td>13</td>\n",
       "      <td>161</td>\n",
       "      <td>88</td>\n",
       "      <td>0.8</td>\n",
       "      <td>1.0</td>\n",
       "      <td>0.5</td>\n",
       "      <td>0.6</td>\n",
       "      <td>40.799999</td>\n",
       "      <td>0.0</td>\n",
       "      <td>1</td>\n",
       "      <td>10.0</td>\n",
       "      <td>0.0</td>\n",
       "      <td>1</td>\n",
       "      <td>12.0</td>\n",
       "      <td>0.0</td>\n",
       "      <td>1</td>\n",
       "      <td>13.0</td>\n",
       "      <td>0.0</td>\n",
       "      <td>1</td>\n",
       "      <td>161.0</td>\n",
       "      <td>0.0</td>\n",
       "      <td>1</td>\n",
       "      <td>88.0</td>\n",
       "      <td>0.0</td>\n",
       "      <td>1</td>\n",
       "      <td>0.800</td>\n",
       "      <td>0.000000</td>\n",
       "      <td>1</td>\n",
       "      <td>1.0</td>\n",
       "      <td>0.0</td>\n",
       "      <td>1</td>\n",
       "      <td>0.50</td>\n",
       "      <td>0.000000</td>\n",
       "      <td>1</td>\n",
       "      <td>0.600000</td>\n",
       "      <td>0.000000</td>\n",
       "      <td>1</td>\n",
       "      <td>0</td>\n",
       "    </tr>\n",
       "    <tr>\n",
       "      <th>1</th>\n",
       "      <td>2024-01-01 00:00:00.100</td>\n",
       "      <td>40.799999</td>\n",
       "      <td>10</td>\n",
       "      <td>12</td>\n",
       "      <td>13</td>\n",
       "      <td>161</td>\n",
       "      <td>88</td>\n",
       "      <td>0.8</td>\n",
       "      <td>1.0</td>\n",
       "      <td>0.5</td>\n",
       "      <td>0.6</td>\n",
       "      <td>40.799999</td>\n",
       "      <td>0.0</td>\n",
       "      <td>1</td>\n",
       "      <td>10.0</td>\n",
       "      <td>0.0</td>\n",
       "      <td>1</td>\n",
       "      <td>12.0</td>\n",
       "      <td>0.0</td>\n",
       "      <td>1</td>\n",
       "      <td>13.0</td>\n",
       "      <td>0.0</td>\n",
       "      <td>1</td>\n",
       "      <td>161.0</td>\n",
       "      <td>0.0</td>\n",
       "      <td>1</td>\n",
       "      <td>88.0</td>\n",
       "      <td>0.0</td>\n",
       "      <td>1</td>\n",
       "      <td>0.800</td>\n",
       "      <td>0.000000</td>\n",
       "      <td>1</td>\n",
       "      <td>1.0</td>\n",
       "      <td>0.0</td>\n",
       "      <td>1</td>\n",
       "      <td>0.50</td>\n",
       "      <td>0.000000</td>\n",
       "      <td>1</td>\n",
       "      <td>0.600000</td>\n",
       "      <td>0.000000</td>\n",
       "      <td>1</td>\n",
       "      <td>0</td>\n",
       "    </tr>\n",
       "    <tr>\n",
       "      <th>2</th>\n",
       "      <td>2024-01-01 00:00:00.200</td>\n",
       "      <td>40.799999</td>\n",
       "      <td>10</td>\n",
       "      <td>12</td>\n",
       "      <td>13</td>\n",
       "      <td>161</td>\n",
       "      <td>88</td>\n",
       "      <td>0.8</td>\n",
       "      <td>1.0</td>\n",
       "      <td>0.5</td>\n",
       "      <td>0.5</td>\n",
       "      <td>40.799999</td>\n",
       "      <td>0.0</td>\n",
       "      <td>1</td>\n",
       "      <td>10.0</td>\n",
       "      <td>0.0</td>\n",
       "      <td>1</td>\n",
       "      <td>12.0</td>\n",
       "      <td>0.0</td>\n",
       "      <td>1</td>\n",
       "      <td>13.0</td>\n",
       "      <td>0.0</td>\n",
       "      <td>1</td>\n",
       "      <td>161.0</td>\n",
       "      <td>0.0</td>\n",
       "      <td>1</td>\n",
       "      <td>88.0</td>\n",
       "      <td>0.0</td>\n",
       "      <td>1</td>\n",
       "      <td>0.800</td>\n",
       "      <td>0.000000</td>\n",
       "      <td>1</td>\n",
       "      <td>1.0</td>\n",
       "      <td>0.0</td>\n",
       "      <td>1</td>\n",
       "      <td>0.50</td>\n",
       "      <td>0.000000</td>\n",
       "      <td>1</td>\n",
       "      <td>0.566667</td>\n",
       "      <td>0.057735</td>\n",
       "      <td>1</td>\n",
       "      <td>0</td>\n",
       "    </tr>\n",
       "    <tr>\n",
       "      <th>3</th>\n",
       "      <td>2024-01-01 00:00:00.300</td>\n",
       "      <td>40.799999</td>\n",
       "      <td>10</td>\n",
       "      <td>12</td>\n",
       "      <td>13</td>\n",
       "      <td>161</td>\n",
       "      <td>88</td>\n",
       "      <td>0.9</td>\n",
       "      <td>1.0</td>\n",
       "      <td>0.5</td>\n",
       "      <td>0.6</td>\n",
       "      <td>40.799999</td>\n",
       "      <td>0.0</td>\n",
       "      <td>1</td>\n",
       "      <td>10.0</td>\n",
       "      <td>0.0</td>\n",
       "      <td>1</td>\n",
       "      <td>12.0</td>\n",
       "      <td>0.0</td>\n",
       "      <td>1</td>\n",
       "      <td>13.0</td>\n",
       "      <td>0.0</td>\n",
       "      <td>1</td>\n",
       "      <td>161.0</td>\n",
       "      <td>0.0</td>\n",
       "      <td>1</td>\n",
       "      <td>88.0</td>\n",
       "      <td>0.0</td>\n",
       "      <td>1</td>\n",
       "      <td>0.825</td>\n",
       "      <td>0.050000</td>\n",
       "      <td>1</td>\n",
       "      <td>1.0</td>\n",
       "      <td>0.0</td>\n",
       "      <td>1</td>\n",
       "      <td>0.50</td>\n",
       "      <td>0.000000</td>\n",
       "      <td>1</td>\n",
       "      <td>0.575000</td>\n",
       "      <td>0.050000</td>\n",
       "      <td>1</td>\n",
       "      <td>0</td>\n",
       "    </tr>\n",
       "    <tr>\n",
       "      <th>4</th>\n",
       "      <td>2024-01-01 00:00:00.400</td>\n",
       "      <td>40.799999</td>\n",
       "      <td>10</td>\n",
       "      <td>12</td>\n",
       "      <td>13</td>\n",
       "      <td>161</td>\n",
       "      <td>88</td>\n",
       "      <td>0.8</td>\n",
       "      <td>1.0</td>\n",
       "      <td>0.7</td>\n",
       "      <td>0.6</td>\n",
       "      <td>40.799999</td>\n",
       "      <td>0.0</td>\n",
       "      <td>1</td>\n",
       "      <td>10.0</td>\n",
       "      <td>0.0</td>\n",
       "      <td>1</td>\n",
       "      <td>12.0</td>\n",
       "      <td>0.0</td>\n",
       "      <td>1</td>\n",
       "      <td>13.0</td>\n",
       "      <td>0.0</td>\n",
       "      <td>1</td>\n",
       "      <td>161.0</td>\n",
       "      <td>0.0</td>\n",
       "      <td>1</td>\n",
       "      <td>88.0</td>\n",
       "      <td>0.0</td>\n",
       "      <td>1</td>\n",
       "      <td>0.820</td>\n",
       "      <td>0.044721</td>\n",
       "      <td>1</td>\n",
       "      <td>1.0</td>\n",
       "      <td>0.0</td>\n",
       "      <td>1</td>\n",
       "      <td>0.54</td>\n",
       "      <td>0.089443</td>\n",
       "      <td>1</td>\n",
       "      <td>0.580000</td>\n",
       "      <td>0.044721</td>\n",
       "      <td>1</td>\n",
       "      <td>0</td>\n",
       "    </tr>\n",
       "  </tbody>\n",
       "</table>\n",
       "</div>"
      ],
      "text/plain": [
       "                   DATETM        TEM  PM1  PM2_5  PM10   CO  NH3  CT1  CT2  CT3  CT4  MVAVG_TEM  MVSTD_TEM  MVSIG_TEM  MVAVG_PM1  MVSTD_PM1  MVSIG_PM1  MVAVG_PM2_5  MVSTD_PM2_5  MVSIG_PM2_5  \\\n",
       "0 2024-01-01 00:00:00.000  40.799999   10     12    13  161   88  0.8  1.0  0.5  0.6  40.799999        0.0          1       10.0        0.0          1         12.0          0.0            1   \n",
       "1 2024-01-01 00:00:00.100  40.799999   10     12    13  161   88  0.8  1.0  0.5  0.6  40.799999        0.0          1       10.0        0.0          1         12.0          0.0            1   \n",
       "2 2024-01-01 00:00:00.200  40.799999   10     12    13  161   88  0.8  1.0  0.5  0.5  40.799999        0.0          1       10.0        0.0          1         12.0          0.0            1   \n",
       "3 2024-01-01 00:00:00.300  40.799999   10     12    13  161   88  0.9  1.0  0.5  0.6  40.799999        0.0          1       10.0        0.0          1         12.0          0.0            1   \n",
       "4 2024-01-01 00:00:00.400  40.799999   10     12    13  161   88  0.8  1.0  0.7  0.6  40.799999        0.0          1       10.0        0.0          1         12.0          0.0            1   \n",
       "\n",
       "   MVAVG_PM10  MVSTD_PM10  MVSIG_PM10  MVAVG_CO  MVSTD_CO  MVSIG_CO  MVAVG_NH3  MVSTD_NH3  MVSIG_NH3  MVAVG_CT1  MVSTD_CT1  MVSIG_CT1  MVAVG_CT2  MVSTD_CT2  MVSIG_CT2  MVAVG_CT3  MVSTD_CT3  \\\n",
       "0        13.0         0.0           1     161.0       0.0         1       88.0        0.0          1      0.800   0.000000          1        1.0        0.0          1       0.50   0.000000   \n",
       "1        13.0         0.0           1     161.0       0.0         1       88.0        0.0          1      0.800   0.000000          1        1.0        0.0          1       0.50   0.000000   \n",
       "2        13.0         0.0           1     161.0       0.0         1       88.0        0.0          1      0.800   0.000000          1        1.0        0.0          1       0.50   0.000000   \n",
       "3        13.0         0.0           1     161.0       0.0         1       88.0        0.0          1      0.825   0.050000          1        1.0        0.0          1       0.50   0.000000   \n",
       "4        13.0         0.0           1     161.0       0.0         1       88.0        0.0          1      0.820   0.044721          1        1.0        0.0          1       0.54   0.089443   \n",
       "\n",
       "   MVSIG_CT3  MVAVG_CT4  MVSTD_CT4  MVSIG_CT4  FLAG  \n",
       "0          1   0.600000   0.000000          1     0  \n",
       "1          1   0.600000   0.000000          1     0  \n",
       "2          1   0.566667   0.057735          1     0  \n",
       "3          1   0.575000   0.050000          1     0  \n",
       "4          1   0.580000   0.044721          1     0  "
      ]
     },
     "execution_count": 13,
     "metadata": {},
     "output_type": "execute_result"
    }
   ],
   "source": [
    "dfnorm.head()"
   ]
  },
  {
   "cell_type": "code",
   "execution_count": 14,
   "id": "a60867f2-e896-423e-9e5d-2b5bb65b31b0",
   "metadata": {},
   "outputs": [
    {
     "data": {
      "text/html": [
       "<div>\n",
       "<style scoped>\n",
       "    .dataframe tbody tr th:only-of-type {\n",
       "        vertical-align: middle;\n",
       "    }\n",
       "\n",
       "    .dataframe tbody tr th {\n",
       "        vertical-align: top;\n",
       "    }\n",
       "\n",
       "    .dataframe thead th {\n",
       "        text-align: right;\n",
       "    }\n",
       "</style>\n",
       "<table border=\"1\" class=\"dataframe\">\n",
       "  <thead>\n",
       "    <tr style=\"text-align: right;\">\n",
       "      <th></th>\n",
       "      <th>DATETM</th>\n",
       "      <th>TEM</th>\n",
       "      <th>PM1</th>\n",
       "      <th>PM2_5</th>\n",
       "      <th>PM10</th>\n",
       "      <th>CO</th>\n",
       "      <th>NH3</th>\n",
       "      <th>CT1</th>\n",
       "      <th>CT2</th>\n",
       "      <th>CT3</th>\n",
       "      <th>CT4</th>\n",
       "      <th>MVAVG_TEM</th>\n",
       "      <th>MVSTD_TEM</th>\n",
       "      <th>MVSIG_TEM</th>\n",
       "      <th>MVAVG_PM1</th>\n",
       "      <th>MVSTD_PM1</th>\n",
       "      <th>MVSIG_PM1</th>\n",
       "      <th>MVAVG_PM2_5</th>\n",
       "      <th>MVSTD_PM2_5</th>\n",
       "      <th>MVSIG_PM2_5</th>\n",
       "      <th>MVAVG_PM10</th>\n",
       "      <th>MVSTD_PM10</th>\n",
       "      <th>MVSIG_PM10</th>\n",
       "      <th>MVAVG_CO</th>\n",
       "      <th>MVSTD_CO</th>\n",
       "      <th>MVSIG_CO</th>\n",
       "      <th>MVAVG_NH3</th>\n",
       "      <th>MVSTD_NH3</th>\n",
       "      <th>MVSIG_NH3</th>\n",
       "      <th>MVAVG_CT1</th>\n",
       "      <th>MVSTD_CT1</th>\n",
       "      <th>MVSIG_CT1</th>\n",
       "      <th>MVAVG_CT2</th>\n",
       "      <th>MVSTD_CT2</th>\n",
       "      <th>MVSIG_CT2</th>\n",
       "      <th>MVAVG_CT3</th>\n",
       "      <th>MVSTD_CT3</th>\n",
       "      <th>MVSIG_CT3</th>\n",
       "      <th>MVAVG_CT4</th>\n",
       "      <th>MVSTD_CT4</th>\n",
       "      <th>MVSIG_CT4</th>\n",
       "      <th>FLAG</th>\n",
       "    </tr>\n",
       "  </thead>\n",
       "  <tbody>\n",
       "    <tr>\n",
       "      <th>0</th>\n",
       "      <td>2024-01-01 00:00:00.000</td>\n",
       "      <td>40.799999</td>\n",
       "      <td>10</td>\n",
       "      <td>12</td>\n",
       "      <td>13</td>\n",
       "      <td>161</td>\n",
       "      <td>88</td>\n",
       "      <td>0.8</td>\n",
       "      <td>1.0</td>\n",
       "      <td>0.5</td>\n",
       "      <td>0.6</td>\n",
       "      <td>40.799999</td>\n",
       "      <td>0.0</td>\n",
       "      <td>1</td>\n",
       "      <td>10.0</td>\n",
       "      <td>0.0</td>\n",
       "      <td>1</td>\n",
       "      <td>12.0</td>\n",
       "      <td>0.0</td>\n",
       "      <td>1</td>\n",
       "      <td>13.0</td>\n",
       "      <td>0.0</td>\n",
       "      <td>1</td>\n",
       "      <td>161.0</td>\n",
       "      <td>0.0</td>\n",
       "      <td>1</td>\n",
       "      <td>88.0</td>\n",
       "      <td>0.0</td>\n",
       "      <td>1</td>\n",
       "      <td>0.800</td>\n",
       "      <td>0.000000</td>\n",
       "      <td>1</td>\n",
       "      <td>1.0</td>\n",
       "      <td>0.0</td>\n",
       "      <td>1</td>\n",
       "      <td>0.50</td>\n",
       "      <td>0.000000</td>\n",
       "      <td>1</td>\n",
       "      <td>0.600000</td>\n",
       "      <td>0.000000</td>\n",
       "      <td>1</td>\n",
       "      <td>0</td>\n",
       "    </tr>\n",
       "    <tr>\n",
       "      <th>1</th>\n",
       "      <td>2024-01-01 00:00:00.100</td>\n",
       "      <td>40.799999</td>\n",
       "      <td>10</td>\n",
       "      <td>12</td>\n",
       "      <td>13</td>\n",
       "      <td>161</td>\n",
       "      <td>88</td>\n",
       "      <td>0.8</td>\n",
       "      <td>1.0</td>\n",
       "      <td>0.5</td>\n",
       "      <td>0.6</td>\n",
       "      <td>40.799999</td>\n",
       "      <td>0.0</td>\n",
       "      <td>1</td>\n",
       "      <td>10.0</td>\n",
       "      <td>0.0</td>\n",
       "      <td>1</td>\n",
       "      <td>12.0</td>\n",
       "      <td>0.0</td>\n",
       "      <td>1</td>\n",
       "      <td>13.0</td>\n",
       "      <td>0.0</td>\n",
       "      <td>1</td>\n",
       "      <td>161.0</td>\n",
       "      <td>0.0</td>\n",
       "      <td>1</td>\n",
       "      <td>88.0</td>\n",
       "      <td>0.0</td>\n",
       "      <td>1</td>\n",
       "      <td>0.800</td>\n",
       "      <td>0.000000</td>\n",
       "      <td>1</td>\n",
       "      <td>1.0</td>\n",
       "      <td>0.0</td>\n",
       "      <td>1</td>\n",
       "      <td>0.50</td>\n",
       "      <td>0.000000</td>\n",
       "      <td>1</td>\n",
       "      <td>0.600000</td>\n",
       "      <td>0.000000</td>\n",
       "      <td>1</td>\n",
       "      <td>0</td>\n",
       "    </tr>\n",
       "    <tr>\n",
       "      <th>2</th>\n",
       "      <td>2024-01-01 00:00:00.200</td>\n",
       "      <td>40.799999</td>\n",
       "      <td>10</td>\n",
       "      <td>12</td>\n",
       "      <td>13</td>\n",
       "      <td>161</td>\n",
       "      <td>88</td>\n",
       "      <td>0.8</td>\n",
       "      <td>1.0</td>\n",
       "      <td>0.5</td>\n",
       "      <td>0.5</td>\n",
       "      <td>40.799999</td>\n",
       "      <td>0.0</td>\n",
       "      <td>1</td>\n",
       "      <td>10.0</td>\n",
       "      <td>0.0</td>\n",
       "      <td>1</td>\n",
       "      <td>12.0</td>\n",
       "      <td>0.0</td>\n",
       "      <td>1</td>\n",
       "      <td>13.0</td>\n",
       "      <td>0.0</td>\n",
       "      <td>1</td>\n",
       "      <td>161.0</td>\n",
       "      <td>0.0</td>\n",
       "      <td>1</td>\n",
       "      <td>88.0</td>\n",
       "      <td>0.0</td>\n",
       "      <td>1</td>\n",
       "      <td>0.800</td>\n",
       "      <td>0.000000</td>\n",
       "      <td>1</td>\n",
       "      <td>1.0</td>\n",
       "      <td>0.0</td>\n",
       "      <td>1</td>\n",
       "      <td>0.50</td>\n",
       "      <td>0.000000</td>\n",
       "      <td>1</td>\n",
       "      <td>0.566667</td>\n",
       "      <td>0.057735</td>\n",
       "      <td>1</td>\n",
       "      <td>0</td>\n",
       "    </tr>\n",
       "    <tr>\n",
       "      <th>3</th>\n",
       "      <td>2024-01-01 00:00:00.300</td>\n",
       "      <td>40.799999</td>\n",
       "      <td>10</td>\n",
       "      <td>12</td>\n",
       "      <td>13</td>\n",
       "      <td>161</td>\n",
       "      <td>88</td>\n",
       "      <td>0.9</td>\n",
       "      <td>1.0</td>\n",
       "      <td>0.5</td>\n",
       "      <td>0.6</td>\n",
       "      <td>40.799999</td>\n",
       "      <td>0.0</td>\n",
       "      <td>1</td>\n",
       "      <td>10.0</td>\n",
       "      <td>0.0</td>\n",
       "      <td>1</td>\n",
       "      <td>12.0</td>\n",
       "      <td>0.0</td>\n",
       "      <td>1</td>\n",
       "      <td>13.0</td>\n",
       "      <td>0.0</td>\n",
       "      <td>1</td>\n",
       "      <td>161.0</td>\n",
       "      <td>0.0</td>\n",
       "      <td>1</td>\n",
       "      <td>88.0</td>\n",
       "      <td>0.0</td>\n",
       "      <td>1</td>\n",
       "      <td>0.825</td>\n",
       "      <td>0.050000</td>\n",
       "      <td>1</td>\n",
       "      <td>1.0</td>\n",
       "      <td>0.0</td>\n",
       "      <td>1</td>\n",
       "      <td>0.50</td>\n",
       "      <td>0.000000</td>\n",
       "      <td>1</td>\n",
       "      <td>0.575000</td>\n",
       "      <td>0.050000</td>\n",
       "      <td>1</td>\n",
       "      <td>0</td>\n",
       "    </tr>\n",
       "    <tr>\n",
       "      <th>4</th>\n",
       "      <td>2024-01-01 00:00:00.400</td>\n",
       "      <td>40.799999</td>\n",
       "      <td>10</td>\n",
       "      <td>12</td>\n",
       "      <td>13</td>\n",
       "      <td>161</td>\n",
       "      <td>88</td>\n",
       "      <td>0.8</td>\n",
       "      <td>1.0</td>\n",
       "      <td>0.7</td>\n",
       "      <td>0.6</td>\n",
       "      <td>40.799999</td>\n",
       "      <td>0.0</td>\n",
       "      <td>1</td>\n",
       "      <td>10.0</td>\n",
       "      <td>0.0</td>\n",
       "      <td>1</td>\n",
       "      <td>12.0</td>\n",
       "      <td>0.0</td>\n",
       "      <td>1</td>\n",
       "      <td>13.0</td>\n",
       "      <td>0.0</td>\n",
       "      <td>1</td>\n",
       "      <td>161.0</td>\n",
       "      <td>0.0</td>\n",
       "      <td>1</td>\n",
       "      <td>88.0</td>\n",
       "      <td>0.0</td>\n",
       "      <td>1</td>\n",
       "      <td>0.820</td>\n",
       "      <td>0.044721</td>\n",
       "      <td>1</td>\n",
       "      <td>1.0</td>\n",
       "      <td>0.0</td>\n",
       "      <td>1</td>\n",
       "      <td>0.54</td>\n",
       "      <td>0.089443</td>\n",
       "      <td>1</td>\n",
       "      <td>0.580000</td>\n",
       "      <td>0.044721</td>\n",
       "      <td>1</td>\n",
       "      <td>0</td>\n",
       "    </tr>\n",
       "  </tbody>\n",
       "</table>\n",
       "</div>"
      ],
      "text/plain": [
       "                   DATETM        TEM  PM1  PM2_5  PM10   CO  NH3  CT1  CT2  CT3  CT4  MVAVG_TEM  MVSTD_TEM  MVSIG_TEM  MVAVG_PM1  MVSTD_PM1  MVSIG_PM1  MVAVG_PM2_5  MVSTD_PM2_5  MVSIG_PM2_5  \\\n",
       "0 2024-01-01 00:00:00.000  40.799999   10     12    13  161   88  0.8  1.0  0.5  0.6  40.799999        0.0          1       10.0        0.0          1         12.0          0.0            1   \n",
       "1 2024-01-01 00:00:00.100  40.799999   10     12    13  161   88  0.8  1.0  0.5  0.6  40.799999        0.0          1       10.0        0.0          1         12.0          0.0            1   \n",
       "2 2024-01-01 00:00:00.200  40.799999   10     12    13  161   88  0.8  1.0  0.5  0.5  40.799999        0.0          1       10.0        0.0          1         12.0          0.0            1   \n",
       "3 2024-01-01 00:00:00.300  40.799999   10     12    13  161   88  0.9  1.0  0.5  0.6  40.799999        0.0          1       10.0        0.0          1         12.0          0.0            1   \n",
       "4 2024-01-01 00:00:00.400  40.799999   10     12    13  161   88  0.8  1.0  0.7  0.6  40.799999        0.0          1       10.0        0.0          1         12.0          0.0            1   \n",
       "\n",
       "   MVAVG_PM10  MVSTD_PM10  MVSIG_PM10  MVAVG_CO  MVSTD_CO  MVSIG_CO  MVAVG_NH3  MVSTD_NH3  MVSIG_NH3  MVAVG_CT1  MVSTD_CT1  MVSIG_CT1  MVAVG_CT2  MVSTD_CT2  MVSIG_CT2  MVAVG_CT3  MVSTD_CT3  \\\n",
       "0        13.0         0.0           1     161.0       0.0         1       88.0        0.0          1      0.800   0.000000          1        1.0        0.0          1       0.50   0.000000   \n",
       "1        13.0         0.0           1     161.0       0.0         1       88.0        0.0          1      0.800   0.000000          1        1.0        0.0          1       0.50   0.000000   \n",
       "2        13.0         0.0           1     161.0       0.0         1       88.0        0.0          1      0.800   0.000000          1        1.0        0.0          1       0.50   0.000000   \n",
       "3        13.0         0.0           1     161.0       0.0         1       88.0        0.0          1      0.825   0.050000          1        1.0        0.0          1       0.50   0.000000   \n",
       "4        13.0         0.0           1     161.0       0.0         1       88.0        0.0          1      0.820   0.044721          1        1.0        0.0          1       0.54   0.089443   \n",
       "\n",
       "   MVSIG_CT3  MVAVG_CT4  MVSTD_CT4  MVSIG_CT4  FLAG  \n",
       "0          1   0.600000   0.000000          1     0  \n",
       "1          1   0.600000   0.000000          1     0  \n",
       "2          1   0.566667   0.057735          1     0  \n",
       "3          1   0.575000   0.050000          1     0  \n",
       "4          1   0.580000   0.044721          1     0  "
      ]
     },
     "execution_count": 14,
     "metadata": {},
     "output_type": "execute_result"
    }
   ],
   "source": [
    "# data before outlier updating\n",
    "dfoutl.head()"
   ]
  },
  {
   "cell_type": "code",
   "execution_count": 15,
   "id": "b3b6f556-9883-464d-8a08-e47654d4b02d",
   "metadata": {},
   "outputs": [
    {
     "name": "stdout",
     "output_type": "stream",
     "text": [
      "outlier count=1 / 36000\n",
      "get_outlier elapsed time: 9.21 seconds\n"
     ]
    },
    {
     "name": "stdout",
     "output_type": "stream",
     "text": [
      "outlier count=900001 / 2031674\n"
     ]
    },
    {
     "name": "stdout",
     "output_type": "stream",
     "text": [
      "outlier count=1000001 / 2031674\n"
     ]
    },
    {
     "name": "stdout",
     "output_type": "stream",
     "text": [
      "outlier count=1100001 / 2031674\n"
     ]
    },
    {
     "name": "stdout",
     "output_type": "stream",
     "text": [
      "outlier count=1200001 / 2031674\n"
     ]
    },
    {
     "name": "stdout",
     "output_type": "stream",
     "text": [
      "outlier count=1300001 / 2031674\n"
     ]
    },
    {
     "name": "stdout",
     "output_type": "stream",
     "text": [
      "outlier count=1400001 / 2031674\n"
     ]
    },
    {
     "name": "stdout",
     "output_type": "stream",
     "text": [
      "outlier count=1500001 / 2031674\n"
     ]
    },
    {
     "name": "stdout",
     "output_type": "stream",
     "text": [
      "outlier count=1600001 / 2031674\n"
     ]
    },
    {
     "name": "stdout",
     "output_type": "stream",
     "text": [
      "outlier count=1700001 / 2031674\n"
     ]
    },
    {
     "name": "stdout",
     "output_type": "stream",
     "text": [
      "outlier count=1800001 / 2031674\n"
     ]
    },
    {
     "name": "stdout",
     "output_type": "stream",
     "text": [
      "outlier count=1900001 / 2031674\n"
     ]
    },
    {
     "name": "stdout",
     "output_type": "stream",
     "text": [
      "outlier count=2000001 / 2031674\n"
     ]
    },
    {
     "name": "stdout",
     "output_type": "stream",
     "text": [
      "get_outlier elapsed time: 8 minutes and 56.78 seconds\n"
     ]
    }
   ],
   "source": [
    "# Update outlier\n",
    "_start = time.time()\n",
    "\n",
    "dfoutl = comm.gen_outlier(dfoutl)\n",
    "\n",
    "_elapsed = time.time() - _start\n",
    "print(f\"get_outlier elapsed time: {human.format_timespan(_elapsed)}\")\n",
    "# 8 min 17 sec, 2_031_674 rows, INPUT_MAXSIZE=400MB, include DATETM on csvfile\n",
    "# 14 min 16 sec, 3_280_186 rows, INPUT_MAXSIZE=650MB, exclude DATETM on csvfile"
   ]
  },
  {
   "cell_type": "code",
   "execution_count": 16,
   "id": "589c2aa7-faf9-4c84-844c-f17ac8287f96",
   "metadata": {},
   "outputs": [],
   "source": [
    "# round float type value\n",
    "dfnoise = dfnoise.round(1)\n",
    "dfnorm = dfnorm.round(1)\n",
    "dfoutl = dfoutl.round(1)"
   ]
  },
  {
   "cell_type": "code",
   "execution_count": 17,
   "id": "950b7770-f1bb-4d86-bb18-d6e0a63e21f1",
   "metadata": {},
   "outputs": [],
   "source": [
    "# set float display format\n",
    "pd.set_option(\"display.float_format\", \"{:.1f}\".format)"
   ]
  },
  {
   "cell_type": "code",
   "execution_count": 18,
   "id": "2e1363f3-1fd9-4792-a5b6-a1fa109bef6e",
   "metadata": {},
   "outputs": [
    {
     "data": {
      "text/html": [
       "<div>\n",
       "<style scoped>\n",
       "    .dataframe tbody tr th:only-of-type {\n",
       "        vertical-align: middle;\n",
       "    }\n",
       "\n",
       "    .dataframe tbody tr th {\n",
       "        vertical-align: top;\n",
       "    }\n",
       "\n",
       "    .dataframe thead th {\n",
       "        text-align: right;\n",
       "    }\n",
       "</style>\n",
       "<table border=\"1\" class=\"dataframe\">\n",
       "  <thead>\n",
       "    <tr style=\"text-align: right;\">\n",
       "      <th></th>\n",
       "      <th>DATETM</th>\n",
       "      <th>TEM</th>\n",
       "      <th>PM1</th>\n",
       "      <th>PM2_5</th>\n",
       "      <th>PM10</th>\n",
       "      <th>CO</th>\n",
       "      <th>NH3</th>\n",
       "      <th>CT1</th>\n",
       "      <th>CT2</th>\n",
       "      <th>CT3</th>\n",
       "      <th>CT4</th>\n",
       "      <th>MVAVG_TEM</th>\n",
       "      <th>MVSTD_TEM</th>\n",
       "      <th>MVSIG_TEM</th>\n",
       "      <th>MVAVG_PM1</th>\n",
       "      <th>MVSTD_PM1</th>\n",
       "      <th>MVSIG_PM1</th>\n",
       "      <th>MVAVG_PM2_5</th>\n",
       "      <th>MVSTD_PM2_5</th>\n",
       "      <th>MVSIG_PM2_5</th>\n",
       "      <th>MVAVG_PM10</th>\n",
       "      <th>MVSTD_PM10</th>\n",
       "      <th>MVSIG_PM10</th>\n",
       "      <th>MVAVG_CO</th>\n",
       "      <th>MVSTD_CO</th>\n",
       "      <th>MVSIG_CO</th>\n",
       "      <th>MVAVG_NH3</th>\n",
       "      <th>MVSTD_NH3</th>\n",
       "      <th>MVSIG_NH3</th>\n",
       "      <th>MVAVG_CT1</th>\n",
       "      <th>MVSTD_CT1</th>\n",
       "      <th>MVSIG_CT1</th>\n",
       "      <th>MVAVG_CT2</th>\n",
       "      <th>MVSTD_CT2</th>\n",
       "      <th>MVSIG_CT2</th>\n",
       "      <th>MVAVG_CT3</th>\n",
       "      <th>MVSTD_CT3</th>\n",
       "      <th>MVSIG_CT3</th>\n",
       "      <th>MVAVG_CT4</th>\n",
       "      <th>MVSTD_CT4</th>\n",
       "      <th>MVSIG_CT4</th>\n",
       "      <th>FLAG</th>\n",
       "    </tr>\n",
       "  </thead>\n",
       "  <tbody>\n",
       "    <tr>\n",
       "      <th>0</th>\n",
       "      <td>2024-01-01 00:00:00.000</td>\n",
       "      <td>40.8</td>\n",
       "      <td>10</td>\n",
       "      <td>12</td>\n",
       "      <td>13</td>\n",
       "      <td>161</td>\n",
       "      <td>88</td>\n",
       "      <td>0.8</td>\n",
       "      <td>1.0</td>\n",
       "      <td>0.5</td>\n",
       "      <td>0.6</td>\n",
       "      <td>40.8</td>\n",
       "      <td>0.0</td>\n",
       "      <td>1</td>\n",
       "      <td>10.0</td>\n",
       "      <td>0.0</td>\n",
       "      <td>1</td>\n",
       "      <td>12.0</td>\n",
       "      <td>0.0</td>\n",
       "      <td>1</td>\n",
       "      <td>13.0</td>\n",
       "      <td>0.0</td>\n",
       "      <td>1</td>\n",
       "      <td>161.0</td>\n",
       "      <td>0.0</td>\n",
       "      <td>1</td>\n",
       "      <td>88.0</td>\n",
       "      <td>0.0</td>\n",
       "      <td>1</td>\n",
       "      <td>0.8</td>\n",
       "      <td>0.0</td>\n",
       "      <td>1</td>\n",
       "      <td>1.0</td>\n",
       "      <td>0.0</td>\n",
       "      <td>1</td>\n",
       "      <td>0.5</td>\n",
       "      <td>0.0</td>\n",
       "      <td>1</td>\n",
       "      <td>0.6</td>\n",
       "      <td>0.0</td>\n",
       "      <td>1</td>\n",
       "      <td>1</td>\n",
       "    </tr>\n",
       "    <tr>\n",
       "      <th>1</th>\n",
       "      <td>2024-01-01 00:00:00.100</td>\n",
       "      <td>40.9</td>\n",
       "      <td>10</td>\n",
       "      <td>12</td>\n",
       "      <td>13</td>\n",
       "      <td>162</td>\n",
       "      <td>88</td>\n",
       "      <td>0.8</td>\n",
       "      <td>1.0</td>\n",
       "      <td>0.5</td>\n",
       "      <td>0.6</td>\n",
       "      <td>40.8</td>\n",
       "      <td>0.0</td>\n",
       "      <td>1</td>\n",
       "      <td>10.0</td>\n",
       "      <td>0.0</td>\n",
       "      <td>1</td>\n",
       "      <td>12.0</td>\n",
       "      <td>0.0</td>\n",
       "      <td>1</td>\n",
       "      <td>13.0</td>\n",
       "      <td>0.0</td>\n",
       "      <td>1</td>\n",
       "      <td>161.0</td>\n",
       "      <td>0.0</td>\n",
       "      <td>1</td>\n",
       "      <td>88.0</td>\n",
       "      <td>0.0</td>\n",
       "      <td>1</td>\n",
       "      <td>0.8</td>\n",
       "      <td>0.0</td>\n",
       "      <td>1</td>\n",
       "      <td>1.0</td>\n",
       "      <td>0.0</td>\n",
       "      <td>1</td>\n",
       "      <td>0.5</td>\n",
       "      <td>0.0</td>\n",
       "      <td>1</td>\n",
       "      <td>0.6</td>\n",
       "      <td>0.0</td>\n",
       "      <td>1</td>\n",
       "      <td>1</td>\n",
       "    </tr>\n",
       "    <tr>\n",
       "      <th>2</th>\n",
       "      <td>2024-01-01 00:00:00.200</td>\n",
       "      <td>41.0</td>\n",
       "      <td>11</td>\n",
       "      <td>13</td>\n",
       "      <td>14</td>\n",
       "      <td>162</td>\n",
       "      <td>89</td>\n",
       "      <td>0.8</td>\n",
       "      <td>1.0</td>\n",
       "      <td>0.6</td>\n",
       "      <td>0.6</td>\n",
       "      <td>40.8</td>\n",
       "      <td>0.0</td>\n",
       "      <td>1</td>\n",
       "      <td>10.0</td>\n",
       "      <td>0.0</td>\n",
       "      <td>1</td>\n",
       "      <td>12.0</td>\n",
       "      <td>0.0</td>\n",
       "      <td>1</td>\n",
       "      <td>13.0</td>\n",
       "      <td>0.0</td>\n",
       "      <td>1</td>\n",
       "      <td>161.0</td>\n",
       "      <td>0.0</td>\n",
       "      <td>1</td>\n",
       "      <td>88.0</td>\n",
       "      <td>0.0</td>\n",
       "      <td>1</td>\n",
       "      <td>0.8</td>\n",
       "      <td>0.0</td>\n",
       "      <td>1</td>\n",
       "      <td>1.0</td>\n",
       "      <td>0.0</td>\n",
       "      <td>1</td>\n",
       "      <td>0.5</td>\n",
       "      <td>0.0</td>\n",
       "      <td>1</td>\n",
       "      <td>0.6</td>\n",
       "      <td>0.1</td>\n",
       "      <td>1</td>\n",
       "      <td>1</td>\n",
       "    </tr>\n",
       "    <tr>\n",
       "      <th>3</th>\n",
       "      <td>2024-01-01 00:00:00.300</td>\n",
       "      <td>41.3</td>\n",
       "      <td>11</td>\n",
       "      <td>13</td>\n",
       "      <td>14</td>\n",
       "      <td>162</td>\n",
       "      <td>89</td>\n",
       "      <td>0.8</td>\n",
       "      <td>1.1</td>\n",
       "      <td>0.6</td>\n",
       "      <td>0.7</td>\n",
       "      <td>40.8</td>\n",
       "      <td>0.0</td>\n",
       "      <td>1</td>\n",
       "      <td>10.0</td>\n",
       "      <td>0.0</td>\n",
       "      <td>1</td>\n",
       "      <td>12.0</td>\n",
       "      <td>0.0</td>\n",
       "      <td>1</td>\n",
       "      <td>13.0</td>\n",
       "      <td>0.0</td>\n",
       "      <td>1</td>\n",
       "      <td>161.0</td>\n",
       "      <td>0.0</td>\n",
       "      <td>1</td>\n",
       "      <td>88.0</td>\n",
       "      <td>0.0</td>\n",
       "      <td>1</td>\n",
       "      <td>0.8</td>\n",
       "      <td>0.0</td>\n",
       "      <td>1</td>\n",
       "      <td>1.0</td>\n",
       "      <td>0.0</td>\n",
       "      <td>1</td>\n",
       "      <td>0.5</td>\n",
       "      <td>0.0</td>\n",
       "      <td>1</td>\n",
       "      <td>0.6</td>\n",
       "      <td>0.1</td>\n",
       "      <td>1</td>\n",
       "      <td>1</td>\n",
       "    </tr>\n",
       "    <tr>\n",
       "      <th>4</th>\n",
       "      <td>2024-01-01 00:00:00.400</td>\n",
       "      <td>41.3</td>\n",
       "      <td>11</td>\n",
       "      <td>14</td>\n",
       "      <td>14</td>\n",
       "      <td>163</td>\n",
       "      <td>89</td>\n",
       "      <td>0.9</td>\n",
       "      <td>1.1</td>\n",
       "      <td>0.6</td>\n",
       "      <td>0.7</td>\n",
       "      <td>40.8</td>\n",
       "      <td>0.0</td>\n",
       "      <td>1</td>\n",
       "      <td>10.0</td>\n",
       "      <td>0.0</td>\n",
       "      <td>1</td>\n",
       "      <td>12.0</td>\n",
       "      <td>0.0</td>\n",
       "      <td>1</td>\n",
       "      <td>13.0</td>\n",
       "      <td>0.0</td>\n",
       "      <td>1</td>\n",
       "      <td>161.0</td>\n",
       "      <td>0.0</td>\n",
       "      <td>1</td>\n",
       "      <td>88.0</td>\n",
       "      <td>0.0</td>\n",
       "      <td>1</td>\n",
       "      <td>0.8</td>\n",
       "      <td>0.0</td>\n",
       "      <td>1</td>\n",
       "      <td>1.0</td>\n",
       "      <td>0.0</td>\n",
       "      <td>1</td>\n",
       "      <td>0.5</td>\n",
       "      <td>0.1</td>\n",
       "      <td>1</td>\n",
       "      <td>0.6</td>\n",
       "      <td>0.0</td>\n",
       "      <td>1</td>\n",
       "      <td>1</td>\n",
       "    </tr>\n",
       "  </tbody>\n",
       "</table>\n",
       "</div>"
      ],
      "text/plain": [
       "                   DATETM  TEM  PM1  PM2_5  PM10   CO  NH3  CT1  CT2  CT3  CT4  MVAVG_TEM  MVSTD_TEM  MVSIG_TEM  MVAVG_PM1  MVSTD_PM1  MVSIG_PM1  MVAVG_PM2_5  MVSTD_PM2_5  MVSIG_PM2_5  MVAVG_PM10  \\\n",
       "0 2024-01-01 00:00:00.000 40.8   10     12    13  161   88  0.8  1.0  0.5  0.6       40.8        0.0          1       10.0        0.0          1         12.0          0.0            1        13.0   \n",
       "1 2024-01-01 00:00:00.100 40.9   10     12    13  162   88  0.8  1.0  0.5  0.6       40.8        0.0          1       10.0        0.0          1         12.0          0.0            1        13.0   \n",
       "2 2024-01-01 00:00:00.200 41.0   11     13    14  162   89  0.8  1.0  0.6  0.6       40.8        0.0          1       10.0        0.0          1         12.0          0.0            1        13.0   \n",
       "3 2024-01-01 00:00:00.300 41.3   11     13    14  162   89  0.8  1.1  0.6  0.7       40.8        0.0          1       10.0        0.0          1         12.0          0.0            1        13.0   \n",
       "4 2024-01-01 00:00:00.400 41.3   11     14    14  163   89  0.9  1.1  0.6  0.7       40.8        0.0          1       10.0        0.0          1         12.0          0.0            1        13.0   \n",
       "\n",
       "   MVSTD_PM10  MVSIG_PM10  MVAVG_CO  MVSTD_CO  MVSIG_CO  MVAVG_NH3  MVSTD_NH3  MVSIG_NH3  MVAVG_CT1  MVSTD_CT1  MVSIG_CT1  MVAVG_CT2  MVSTD_CT2  MVSIG_CT2  MVAVG_CT3  MVSTD_CT3  MVSIG_CT3  \\\n",
       "0         0.0           1     161.0       0.0         1       88.0        0.0          1        0.8        0.0          1        1.0        0.0          1        0.5        0.0          1   \n",
       "1         0.0           1     161.0       0.0         1       88.0        0.0          1        0.8        0.0          1        1.0        0.0          1        0.5        0.0          1   \n",
       "2         0.0           1     161.0       0.0         1       88.0        0.0          1        0.8        0.0          1        1.0        0.0          1        0.5        0.0          1   \n",
       "3         0.0           1     161.0       0.0         1       88.0        0.0          1        0.8        0.0          1        1.0        0.0          1        0.5        0.0          1   \n",
       "4         0.0           1     161.0       0.0         1       88.0        0.0          1        0.8        0.0          1        1.0        0.0          1        0.5        0.1          1   \n",
       "\n",
       "   MVAVG_CT4  MVSTD_CT4  MVSIG_CT4  FLAG  \n",
       "0        0.6        0.0          1     1  \n",
       "1        0.6        0.0          1     1  \n",
       "2        0.6        0.1          1     1  \n",
       "3        0.6        0.1          1     1  \n",
       "4        0.6        0.0          1     1  "
      ]
     },
     "execution_count": 18,
     "metadata": {},
     "output_type": "execute_result"
    }
   ],
   "source": [
    "# data after outlier updating\n",
    "dfoutl.head()"
   ]
  },
  {
   "cell_type": "markdown",
   "id": "391e49ab-8ea8-4bca-83a0-1c4f147b8b09",
   "metadata": {},
   "source": [
    "### Save dataframe into duckdb table"
   ]
  },
  {
   "cell_type": "code",
   "execution_count": 19,
   "id": "8cc0ae20-3937-4bb6-850f-cbeb40183b8f",
   "metadata": {},
   "outputs": [
    {
     "name": "stdout",
     "output_type": "stream",
     "text": [
      "save db, noise elapsed time: 0.02 seconds\n"
     ]
    }
   ],
   "source": [
    "# save noise\n",
    "_start = time.time()\n",
    "\n",
    "comm.save_dftab(dfnoise, conf.TABNAME_NOISE)\n",
    "\n",
    "_elapsed = time.time() - _start\n",
    "print(f\"save db, noise elapsed time: {human.format_timespan(_elapsed)}\")"
   ]
  },
  {
   "cell_type": "code",
   "execution_count": 20,
   "id": "0f2e9b93-5fb3-469c-b5e5-225ea5d30d1d",
   "metadata": {},
   "outputs": [
    {
     "name": "stdout",
     "output_type": "stream",
     "text": [
      "save db, norm elapsed time: 0.1 seconds\n"
     ]
    }
   ],
   "source": [
    "# save normal\n",
    "_start = time.time()\n",
    "\n",
    "comm.save_dftab(dfnorm, conf.TABNAME_NORM)\n",
    "\n",
    "_elapsed = time.time() - _start\n",
    "print(f\"save db, norm elapsed time: {human.format_timespan(_elapsed)}\")"
   ]
  },
  {
   "cell_type": "code",
   "execution_count": 21,
   "id": "735faf80-9431-425f-9e12-0115fab9a48e",
   "metadata": {},
   "outputs": [
    {
     "name": "stdout",
     "output_type": "stream",
     "text": [
      "save db, outl elapsed time: 0.08 seconds\n"
     ]
    }
   ],
   "source": [
    "# save outlier\n",
    "_start = time.time()\n",
    "\n",
    "comm.save_dftab(dfoutl, conf.TABNAME_OUTL)\n",
    "\n",
    "_elapsed = time.time() - _start\n",
    "print(f\"save db, outl elapsed time: {human.format_timespan(_elapsed)}\")"
   ]
  },
  {
   "cell_type": "code",
   "execution_count": 22,
   "id": "51dbe916-3809-454e-9af3-2a24b5093a95",
   "metadata": {},
   "outputs": [],
   "source": [
    "# close in-memory db\n",
    "con.close()"
   ]
  },
  {
   "cell_type": "markdown",
   "id": "26192ca3-2221-4ea4-a5d3-499d7b494a68",
   "metadata": {},
   "source": [
    "### Save dataframe into csvfile"
   ]
  },
  {
   "cell_type": "code",
   "execution_count": 23,
   "id": "9643f0d3-3182-4341-83e5-a3b43f402a8b",
   "metadata": {},
   "outputs": [
    {
     "name": "stdout",
     "output_type": "stream",
     "text": [
      "save_csvfile, dataframe has no rows to write, skip\n",
      "save csvfile, noise elapsed time: 0 seconds\n"
     ]
    }
   ],
   "source": [
    "# save noise\n",
    "_start = time.time()\n",
    "\n",
    "comm.save_csvfile(dfnoise[conf.COLUMN_NAMES], conf.FILENAME_NOISE, conf.DIROUT)  # only noise\n",
    "\n",
    "_elapsed = time.time() - _start\n",
    "print(f\"save csvfile, noise elapsed time: {human.format_timespan(_elapsed)}\")  # no files for conf.INPUT_MAXSIZE=400 MB"
   ]
  },
  {
   "cell_type": "code",
   "execution_count": 24,
   "id": "2351d757-3924-4ac0-8361-9b25803a48bc",
   "metadata": {},
   "outputs": [
    {
     "name": "stdout",
     "output_type": "stream",
     "text": [
      "saved 1/3 csvfile=sample\\dataout\\ohtnorm\\ohtnorm-001.csv\n",
      "saved 3/3 files\n",
      "save csvfile, norm elapsed time: 10 seconds\n"
     ]
    },
    {
     "name": "stdout",
     "output_type": "stream",
     "text": [
      "saved 91/170 csvfile=C:\\projects\\ohtdatafiles\\dataout\\ohtnorm\\ohtnorm-091.csv\n"
     ]
    },
    {
     "name": "stdout",
     "output_type": "stream",
     "text": [
      "saved 101/170 csvfile=C:\\projects\\ohtdatafiles\\dataout\\ohtnorm\\ohtnorm-101.csv\n"
     ]
    },
    {
     "name": "stdout",
     "output_type": "stream",
     "text": [
      "saved 111/170 csvfile=C:\\projects\\ohtdatafiles\\dataout\\ohtnorm\\ohtnorm-111.csv\n"
     ]
    },
    {
     "name": "stdout",
     "output_type": "stream",
     "text": [
      "saved 121/170 csvfile=C:\\projects\\ohtdatafiles\\dataout\\ohtnorm\\ohtnorm-121.csv\n"
     ]
    },
    {
     "name": "stdout",
     "output_type": "stream",
     "text": [
      "saved 131/170 csvfile=C:\\projects\\ohtdatafiles\\dataout\\ohtnorm\\ohtnorm-131.csv\n"
     ]
    },
    {
     "name": "stdout",
     "output_type": "stream",
     "text": [
      "saved 141/170 csvfile=C:\\projects\\ohtdatafiles\\dataout\\ohtnorm\\ohtnorm-141.csv\n"
     ]
    },
    {
     "name": "stdout",
     "output_type": "stream",
     "text": [
      "saved 151/170 csvfile=C:\\projects\\ohtdatafiles\\dataout\\ohtnorm\\ohtnorm-151.csv\n"
     ]
    },
    {
     "name": "stdout",
     "output_type": "stream",
     "text": [
      "saved 161/170 csvfile=C:\\projects\\ohtdatafiles\\dataout\\ohtnorm\\ohtnorm-161.csv\n"
     ]
    },
    {
     "name": "stdout",
     "output_type": "stream",
     "text": [
      "saved 170/170 files\n",
      "save csvfile, norm elapsed time: 9 minutes and 32.21 seconds\n"
     ]
    }
   ],
   "source": [
    "# save normal\n",
    "_start = time.time()\n",
    "\n",
    "comm.save_csvfile(dfnorm[conf.COLUMN_NAMES], conf.FILENAME_NORM, conf.DIROUT)\n",
    "\n",
    "_elapsed = time.time() - _start\n",
    "print(f\"save csvfile, norm elapsed time: {human.format_timespan(_elapsed)}\")\n",
    "#  8 min. 52 sec, 170 files, 374 MB for conf.INPUT_MAXSIZE=400 MB, exclude DATETM\n",
    "# 11 min. 49 sec, 274 files, 380 MB for conf.INPUT_MAXSIZE=650 MB, include DATETM"
   ]
  },
  {
   "cell_type": "code",
   "execution_count": 25,
   "id": "b74f4268-60f6-4300-9ce0-e53178dbab92",
   "metadata": {},
   "outputs": [
    {
     "name": "stdout",
     "output_type": "stream",
     "text": [
      "saved 1/1 csvfile=sample\\dataout\\ohtoutl\\ohtoutl-001.csv\n",
      "saved 1/1 files\n",
      "save csvfile, outl elapsed time: 3.33 seconds\n"
     ]
    }
   ],
   "source": [
    "# save outlier\n",
    "_start = time.time()\n",
    "\n",
    "comm.save_csvfile(dfoutl[conf.COLUMN_NAMES], conf.FILENAME_OUTL, conf.DIROUT)\n",
    "\n",
    "_elapsed = time.time() - _start\n",
    "print(f\"save csvfile, outl elapsed time: {human.format_timespan(_elapsed)}\")\n",
    "# 2 min. 57 sec, 57 files 126 MB for conf.INPUT_MAXSIZE=400 MB\n",
    "# 3 min. 58 sec. 72 files 128 MB for conf.INPUT_MAXSIZE=650 MB"
   ]
  },
  {
   "cell_type": "markdown",
   "id": "7b036769-af44-4b68-a65d-43b11acf855e",
   "metadata": {},
   "source": [
    "### Check file size"
   ]
  },
  {
   "cell_type": "code",
   "execution_count": 26,
   "id": "044dba12-3d9e-4685-b74e-67bf0a4204f4",
   "metadata": {},
   "outputs": [
    {
     "name": "stdout",
     "output_type": "stream",
     "text": [
      "output ohtnoise files=0, size=0 bytes\n",
      "output ohtnorm files=3, size=6.7 MB\n",
      "output ohtoutl files=1, size=2.23 MB\n",
      "total files=4, size=8.93 MB\n"
     ]
    }
   ],
   "source": [
    "# check file size\n",
    "\n",
    "fileinfo = dict()  # count, size\n",
    "for afile in [conf.FILENAME_NOISE, conf.FILENAME_NORM, conf.FILENAME_OUTL]:\n",
    "    basename = pathlib.Path(afile).stem\n",
    "    adir = str(pathlib.Path(conf.DIROUT) / basename)\n",
    "    files = comm.get_multifiles_indir(adir, \"*.csv\")\n",
    "    sizes = comm.get_multifiles_size(files)\n",
    "\n",
    "    fileinfo[basename] = [len(files), sum(sizes)]\n",
    "\n",
    "total_count, total_size = 0, 0\n",
    "for basename, count_size in fileinfo.items():\n",
    "    print(f\"output {basename} files={count_size[0]}, size={human.format_size(count_size[1])}\")\n",
    "    total_count = total_count + count_size[0]\n",
    "    total_size = total_size + count_size[1]\n",
    "\n",
    "print(f\"total files={total_count}, size={human.format_size(total_size)}\")"
   ]
  },
  {
   "cell_type": "code",
   "execution_count": 27,
   "id": "914cf135-81b8-4680-b819-d0321255ebcb",
   "metadata": {},
   "outputs": [
    {
     "name": "stdout",
     "output_type": "stream",
     "text": [
      "main elapsed time: 23.8 seconds\n"
     ]
    }
   ],
   "source": [
    "_elapsed = time.time() - mainstart\n",
    "print(f\"main elapsed time: {human.format_timespan(_elapsed)}\")\n",
    "# 20 min 27 sec. for conf.INPUT_MAXSIZE=400MB, when include DATETM\n",
    "# 30 min 49 sec. for conf.INPUT_MAXSIZE=650MB, when exclude DATETM"
   ]
  },
  {
   "cell_type": "markdown",
   "id": "9b6407f8-6769-41df-9268-559558321b38",
   "metadata": {},
   "source": [
    "## eof"
   ]
  }
 ],
 "metadata": {
  "kernelspec": {
   "display_name": "Python 3 (ipykernel)",
   "language": "python",
   "name": "python3"
  },
  "language_info": {
   "codemirror_mode": {
    "name": "ipython",
    "version": 3
   },
   "file_extension": ".py",
   "mimetype": "text/x-python",
   "name": "python",
   "nbconvert_exporter": "python",
   "pygments_lexer": "ipython3",
   "version": "3.12.5"
  }
 },
 "nbformat": 4,
 "nbformat_minor": 5
}
