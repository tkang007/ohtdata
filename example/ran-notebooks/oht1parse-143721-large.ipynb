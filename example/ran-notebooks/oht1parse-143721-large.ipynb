{
 "cells": [
  {
   "cell_type": "code",
   "execution_count": 1,
   "id": "d083a42c-c52b-4a6a-b6c3-966f0b260ab6",
   "metadata": {
    "execution": {
     "iopub.execute_input": "2024-09-16T05:37:24.637620Z",
     "iopub.status.busy": "2024-09-16T05:37:24.636710Z",
     "iopub.status.idle": "2024-09-16T05:37:24.641596Z",
     "shell.execute_reply": "2024-09-16T05:37:24.641596Z"
    },
    "papermill": {
     "duration": 0.011949,
     "end_time": "2024-09-16T05:37:24.642576",
     "exception": false,
     "start_time": "2024-09-16T05:37:24.630627",
     "status": "completed"
    },
    "tags": []
   },
   "outputs": [],
   "source": [
    "# filename: arse.ipynb\n",
    "# purpose: parse input dataset files and save to duckdb file"
   ]
  },
  {
   "cell_type": "markdown",
   "id": "20f72892-e2ae-45dd-b6cc-8448ae2fd159",
   "metadata": {
    "papermill": {
     "duration": 0.001165,
     "end_time": "2024-09-16T05:37:24.646013",
     "exception": false,
     "start_time": "2024-09-16T05:37:24.644848",
     "status": "completed"
    },
    "tags": []
   },
   "source": [
    "# OHT raw data parsing"
   ]
  },
  {
   "attachments": {},
   "cell_type": "markdown",
   "id": "3b43ca60-05b6-45cf-8cf4-ab09a71d2dfe",
   "metadata": {
    "papermill": {
     "duration": 0.001089,
     "end_time": "2024-09-16T05:37:24.649125",
     "exception": false,
     "start_time": "2024-09-16T05:37:24.648036",
     "status": "completed"
    },
    "tags": []
   },
   "source": [
    "## Dataset information\n",
    "- raw dataset is multiple CSV files in a directory. ex) r\"\\\\BlueServer\\공동작업폴더\\데이터바우처_OHT\\수집csv\\newdata\"\n",
    "- CSV filename patterns are \"afpLog_YYYY-MM-DD_HHMMSS.csv\". ex) r\"\\\\BlueServer\\공동작업폴더\\데이터바우처_OHT\\수집csv\\newdata\\afpLog_2024-05-29_101339.csv\" \n",
    "- CSV file does not include head line, comma(,) delimited, 6 columns\n",
    "- CSV file line example: datatime_ms, tem, ecm1(electronic current measure 1), ecm2, ecm3, ecm4. ex) 2024-05-29 09:13:39:889,34.5,-0.1,1,0.5,0.6\n",
    "- For reusing performance, a duckdb file will be created with dir-basename.duckdb. ex) r\"\\\\BlueServer\\공동작업폴더\\데이터바우처_OHT\\수집csv\\수집csv.duckdb\""
   ]
  },
  {
   "cell_type": "markdown",
   "id": "078fd6ec-a194-4c80-87db-a57d7d973e4f",
   "metadata": {
    "papermill": {
     "duration": 0.002005,
     "end_time": "2024-09-16T05:37:24.652129",
     "exception": false,
     "start_time": "2024-09-16T05:37:24.650124",
     "status": "completed"
    },
    "tags": []
   },
   "source": [
    "## Duckdb information\n",
    "- raw dataset is multiple CSV files in a directory. ex) r\"\\\\BlueServer\\공동작업폴더\\데이터바우처_OHT\\수집csv\\newdata\"\n",
    "- For reusing performance, a duckdb file will be created with parentdir-basename.duckdb. ex) r\"\\\\BlueServer\\공동작업폴더\\데이터바우처_OHT\\수집csv\\수집csv.duckdb\"\n",
    "- TABNAME_RAW table was created when the dbfile was created.\n",
    "- TABNAME_NORM, NOISE, OUTL will be created and used in this script"
   ]
  },
  {
   "cell_type": "markdown",
   "id": "6ca792e4-bd8c-4258-b6e6-f6f57c66ea15",
   "metadata": {
    "papermill": {
     "duration": 0.001003,
     "end_time": "2024-09-16T05:37:24.654131",
     "exception": false,
     "start_time": "2024-09-16T05:37:24.653128",
     "status": "completed"
    },
    "tags": []
   },
   "source": [
    "## Processing flow\n",
    "- Parse raws csvfiles\n",
    "- Save to Raw table in-file duckdb\n",
    "- Display data info"
   ]
  },
  {
   "cell_type": "code",
   "execution_count": 2,
   "id": "0cdefb88-870e-4075-824b-53840ddb6f5b",
   "metadata": {
    "execution": {
     "iopub.execute_input": "2024-09-16T05:37:24.658768Z",
     "iopub.status.busy": "2024-09-16T05:37:24.658768Z",
     "iopub.status.idle": "2024-09-16T05:37:25.067560Z",
     "shell.execute_reply": "2024-09-16T05:37:25.067560Z"
    },
    "papermill": {
     "duration": 0.41352,
     "end_time": "2024-09-16T05:37:25.069581",
     "exception": false,
     "start_time": "2024-09-16T05:37:24.656061",
     "status": "completed"
    },
    "tags": []
   },
   "outputs": [],
   "source": [
    "# packages\n",
    "import time\n",
    "import pathlib\n",
    "import pandas as pd\n",
    "\n",
    "import humanfriendly as human\n",
    "\n",
    "import ohtconf as conf\n",
    "import ohtcomm as comm"
   ]
  },
  {
   "cell_type": "markdown",
   "id": "ef876ffe-f89c-48dc-84dc-8157022161cc",
   "metadata": {
    "papermill": {
     "duration": 0.003001,
     "end_time": "2024-09-16T05:37:25.073582",
     "exception": false,
     "start_time": "2024-09-16T05:37:25.070581",
     "status": "completed"
    },
    "tags": []
   },
   "source": [
    "## Main"
   ]
  },
  {
   "cell_type": "code",
   "execution_count": 3,
   "id": "283709d7-93b4-4d94-8239-2f416ba1f8ec",
   "metadata": {
    "execution": {
     "iopub.execute_input": "2024-09-16T05:37:25.077581Z",
     "iopub.status.busy": "2024-09-16T05:37:25.077581Z",
     "iopub.status.idle": "2024-09-16T05:37:25.080671Z",
     "shell.execute_reply": "2024-09-16T05:37:25.080671Z"
    },
    "papermill": {
     "duration": 0.006972,
     "end_time": "2024-09-16T05:37:25.081693",
     "exception": false,
     "start_time": "2024-09-16T05:37:25.074721",
     "status": "completed"
    },
    "tags": []
   },
   "outputs": [],
   "source": [
    "mainstart = time.time()"
   ]
  },
  {
   "cell_type": "code",
   "execution_count": 4,
   "id": "30b1d138-3caa-44b7-81b4-ae80def8dfb9",
   "metadata": {
    "execution": {
     "iopub.execute_input": "2024-09-16T05:37:25.085707Z",
     "iopub.status.busy": "2024-09-16T05:37:25.085707Z",
     "iopub.status.idle": "2024-09-16T05:37:25.095633Z",
     "shell.execute_reply": "2024-09-16T05:37:25.095633Z"
    },
    "papermill": {
     "duration": 0.013933,
     "end_time": "2024-09-16T05:37:25.096647",
     "exception": false,
     "start_time": "2024-09-16T05:37:25.082714",
     "status": "completed"
    },
    "tags": []
   },
   "outputs": [],
   "source": [
    "if conf.DBFILE_RECREATE:\n",
    "    comm.remove_file(conf.DBFILE)"
   ]
  },
  {
   "cell_type": "code",
   "execution_count": 5,
   "id": "0a2a56b9-3418-4849-9b2a-da1add197550",
   "metadata": {
    "execution": {
     "iopub.execute_input": "2024-09-16T05:37:25.100688Z",
     "iopub.status.busy": "2024-09-16T05:37:25.100688Z",
     "iopub.status.idle": "2024-09-16T05:38:45.148683Z",
     "shell.execute_reply": "2024-09-16T05:38:45.148683Z"
    },
    "papermill": {
     "duration": 80.051094,
     "end_time": "2024-09-16T05:38:45.149741",
     "exception": false,
     "start_time": "2024-09-16T05:37:25.098647",
     "status": "completed"
    },
    "tags": []
   },
   "outputs": [
    {
     "name": "stdout",
     "output_type": "stream",
     "text": [
      "all csvfile count=279 in dir=C:\\projects\\ohtdatafiles\\dataraw\n",
      "input maxsize=419.43 MB applied\n",
      "selected csvfile count=170, size=420.81 MB\n",
      "selected first file=C:\\projects\\ohtdatafiles\\dataraw\\afpLog_2024-07-29_094318.csv, last file=C:\\projects\\ohtdatafiles\\dataraw\\afpLog_2024-08-05_091706.csv\n",
      "file reading 1 file=afpLog_2024-07-29_094318.csv\n"
     ]
    },
    {
     "name": "stdout",
     "output_type": "stream",
     "text": [
      "file reading 11 file=afpLog_2024-07-29_194318.csv\n"
     ]
    },
    {
     "name": "stdout",
     "output_type": "stream",
     "text": [
      "file reading 21 file=afpLog_2024-07-30_054318.csv\n"
     ]
    },
    {
     "name": "stdout",
     "output_type": "stream",
     "text": [
      "file reading 31 file=afpLog_2024-07-30_154318.csv\n"
     ]
    },
    {
     "name": "stdout",
     "output_type": "stream",
     "text": [
      "file reading 41 file=afpLog_2024-07-31_014318.csv\n"
     ]
    },
    {
     "name": "stdout",
     "output_type": "stream",
     "text": [
      "file reading 51 file=afpLog_2024-07-31_114318.csv\n"
     ]
    },
    {
     "name": "stdout",
     "output_type": "stream",
     "text": [
      "file reading 61 file=afpLog_2024-07-31_214318.csv\n"
     ]
    },
    {
     "name": "stdout",
     "output_type": "stream",
     "text": [
      "file reading 71 file=afpLog_2024-08-01_074318.csv\n"
     ]
    },
    {
     "name": "stdout",
     "output_type": "stream",
     "text": [
      "CSV error lines in file=afpLog_2024-08-01_084318.csv:\n",
      "no=11174, line=\"\u0000\u0000\u0000\u0000\u0000\u0000\u0000\u0000\u0000\u0000\u0000\u0000\u0000\u0000\u0000\u0000\u0000\u0000\u0000\u0000\u0000\u0000\u0000\u0000\u0000\u0000\u0000\u0000\u0000\u0000\u0000\u0000\u0000\u0000\u0000\u0000\u0000\u0000\u0000\u0000\u0000\u0000\u0000\u0000\u0000\u0000\u0000\u0000\u0000\u0000\u0000\u0000\u0000\u0000\u0000\u0000\u0000\u0000\u0000\u0000\u0000\u0000\u0000\u0000\u0000\u0000\u0000\u0000\u0000\u0000\u0000\u0000\u0000\u0000\u0000\u0000\u0000\u0000\u0000\u0000\u0000\u0000\u0000\u0000\u0000\u0000\u0000\u0000\u0000\u0000\u0000\u0000\u0000\u0000\u0000\u0000\u0000\u0000\u0000\u0000\u0000\u0000\u0000\u0000\u0000\u0000\u0000\u0000\u0000\u0000\u0000\u0000\u0000\u0000\u0000\u0000\u0000\u0000\u0000\u0000\u0000\u0000\u0000\u0000\u0000\u0000\u0000\u0000\u0000\u0000\u0000\u0000\u0000\u0000\u0000\u0000\u0000\u0000\u0000\u0000\u0000\u0000\u0000\u0000\u0000\u0000\u0000\u0000\u0000\u0000\u0000\u0000\u0000\u0000\u0000\u0000\u0000\u0000\u0000\u0000\u0000\u0000\u0000\u0000\u0000\u0000\u0000\u0000\u0000\u0000\u0000\u0000\u0000\u0000\u0000\u0000\u0000\u0000\u0000\u0000\u0000\u0000\u0000\u0000\u0000\u0000\u0000\u0000\u0000\u0000\u0000\u0000\u0000\u0000\u0000\u0000\u0000\u0000\u0000\u0000\u0000\u0000\u0000\u0000\u0000\u0000\u0000\u0000\u0000\u0000\u0000\u0000\u0000\u0000\u0000\u0000\u0000\u0000\u0000\u0000\u0000\u0000\u0000\u0000\u0000\u0000\u0000\u0000\u0000\u0000\u0000\u0000\u0000\u0000\u0000\u0000\u0000\u0000\u0000\u0000\u0000\u0000\u0000\u0000\u0000\u0000\u0000\u0000\u0000\u0000\u0000\u0000\u0000\u0000\u0000\u0000\u0000\u0000\u0000\u0000\u0000\u0000\u0000\u0000\u0000\u0000\u0000\u0000\u0000\u0000\u0000\u0000\u0000\u0000\u0000\u0000\u0000\u0000\u0000\u0000\u0000\u0000\u0000\u0000\u0000\u0000\u0000\u0000\u0000\u0000\u0000\u0000\u0000\u0000\u0000\u0000\u0000\u0000\u0000\u0000\u0000\u0000\u0000\u0000\u0000\u0000\u0000\u0000\u0000\u0000\u0000\u0000\u0000\u0000\u0000\u0000\u0000\u0000\u0000\u0000\u0000\u0000\u0000\u0000\u0000\u0000\u0000\u0000\u0000\u0000\u0000\u0000\u0000\u0000\u0000\u0000\u0000\u0000\u0000\u0000\u0000\u0000\u0000\u0000\u0000\u0000\u0000\u0000\u0000\u0000\u0000\u0000\u0000\u0000\u0000\u0000\u0000\u0000\u0000\u0000\u0000\u0000\u0000\u0000\u0000\u0000\u0000\u0000\u0000\u0000\u0000\u0000\u0000\u0000\u0000\u0000\u0000\u0000\u0000\u0000\u0000\u0000\u0000\u0000\u0000\u0000\u0000\u0000\u0000\u0000\u0000\u0000\u0000\u0000\u0000\u0000\u0000\u0000\u0000\u0000\u0000\u0000\u0000\u0000\u0000\u0000\u0000\u0000\u0000\u0000\u0000\u0000\u0000\u0000\u0000\u0000\u0000\u0000\u0000\u0000\u0000\u0000\u0000\u0000\u0000\u0000\u0000\u0000\u0000\u0000\u0000\u0000\u0000\u0000\u0000\u0000\u0000\u0000\u0000\u0000\u0000\u0000\u0000\u0000\u0000\u0000\u0000\u0000\u0000\u0000\u0000\u0000\u0000\u0000\u0000\u0000\u0000\u0000\u0000\u0000\u0000\u0000\u0000\u0000\u0000\u0000\u0000\u0000\u0000\u0000\u0000\u0000\u0000\u0000\u0000\u0000\u0000\u0000\u0000\u0000\u0000\u0000\u0000\u0000\u0000\u0000\u0000\u0000\u0000\u0000\u0000\u0000\u0000\u0000\u0000\u0000\u0000\u0000\u0000\u0000\u0000\u0000\u0000\u0000\u0000\u0000\u0000\u0000\u0000\u0000\u0000\u0000\u0000\u0000\u0000\u0000\u0000\u0000\u0000\u0000\u0000\u0000\u0000\u0000\u0000\u0000\u0000\u0000\u0000\u0000\u0000\u0000\u0000\u0000\u0000\u0000\u0000\u0000\u0000\u0000\u0000\u0000\u0000\u0000\u0000\u0000\u0000\u0000\u0000\u0000\u0000\u0000\u0000\u0000\u0000\u0000\u0000\u0000\u0000\u0000\u0000\u0000\u0000\u0000\u0000\u0000\u0000\u0000\u0000\u0000\u0000\u0000\u0000\u0000\u0000\u0000\u0000\u0000\u0000\u0000\u0000\u0000\u0000\u0000\u0000\u0000\u0000\u0000\u0000\u0000\u0000\u0000\u0000\u0000\u0000\u0000\u0000\u0000\u0000\u0000\u0000\u0000\u0000\u0000\u0000\u0000\u0000\u0000\u0000\u0000\u0000\u0000\u0000\u0000\u0000\u0000\u0000\u0000\u0000\u0000\u0000\u0000\u0000\u0000\u0000\u0000\u0000\u0000\u0000\u0000\u0000\u0000\u0000\u0000\u0000\u0000\u0000\u0000\u0000\u0000\u0000\u0000\u0000\u0000\u0000\u0000\u0000\u0000\u0000\u0000\u0000\u0000\u0000\u0000\u0000\u0000\u0000\u0000\u0000\u0000\u0000\u0000\u0000\u0000\u0000\u0000\u0000\u0000\u0000\u0000\u0000\u0000\u0000\u0000\u0000\u0000\u0000\u0000\u0000\u0000\u0000\u0000\u0000\u0000\u0000\u0000\u0000\u0000\u0000\u0000\u0000\u0000\u0000\u0000\u0000\u0000\u0000\u0000\u0000\u0000\u0000\u0000\u0000\u0000\u0000\u0000\u0000\u0000\u0000\u0000\u0000\u0000\u0000\u0000\u0000\u0000\u0000\u0000\u0000\u0000\u0000\u0000\u0000\u0000\u0000\u0000\u0000\u0000\u0000\u0000\u0000\u0000\u0000\u0000\u0000\u0000\u0000\u0000\u0000\u0000\u0000\u0000\u0000\u0000\u0000\u0000\u0000\u0000\u0000\u0000\u0000\u0000\u0000\u0000\u0000\u0000\u0000\u0000\u0000\u0000\u0000\u0000\u0000\u0000\u0000\u0000\u0000\u0000\u0000\u0000\u0000\u0000\u0000\u0000\u0000\u0000\u0000\u0000\u0000\u0000\u0000\u0000\u0000\u0000\u0000\u0000\u0000\u0000\u0000\u0000\u0000\u0000\u0000\u0000\u0000\u0000\u0000\u0000\u0000\u0000\u0000\u0000\u0000\u0000\u0000\u0000\u0000\u0000\u0000\u0000\u0000\u0000\u0000\u0000\u0000\u0000\u0000\u0000\u0000\u0000\u0000\u0000\u0000\u0000\u0000\u0000\u0000\u0000\u0000\u0000\u0000\u0000\u0000\u0000\u0000\u0000\u0000\u0000\u0000\u0000\u0000\u0000\u0000\u0000\u0000\u0000\u0000\u0000\u0000\u0000\u0000\u0000\u0000\u0000\u0000\u0000\u0000\u0000\u0000\u0000\u0000\u0000\u0000\u0000\u0000\u0000\u0000\u0000\u0000\u0000\u0000\u0000\u0000\u0000\u0000\u0000\u0000\u0000\u0000\u0000\u0000\u0000\u0000\u0000\u0000\u0000\u0000\u0000\u0000\u0000\u0000\u0000\u0000\u0000\u0000\u0000\u0000\u0000\u0000\u0000\u0000\u0000\u0000\u0000\u0000\u0000\u0000\u0000\u0000\u0000\u0000\u0000\u0000\u0000\u0000\u0000\u0000\u0000\u0000\u0000\u0000\u0000\u0000\u0000\u0000\u0000\u0000\u0000\u0000\u0000\u0000\u0000\u0000\u0000\u0000\u0000\u0000\u0000\u0000\u0000\u0000\u0000\u0000\u0000\u0000\u0000\u0000\u0000\u0000\u0000\u0000\u0000\u0000\u0000\u0000\u0000\u0000\u0000\u0000\u0000\u0000\u0000\u0000\u0000\u0000\u0000\u0000\u0000\u0000\u0000\u0000\u0000\u0000\u0000\u0000\u0000\u0000\u0000\u0000\u0000\u0000\u0000\u0000\u0000\u0000\u0000\u0000\u0000\u0000\u0000\u0000\u0000\u0000\u0000\u0000\u0000\u0000\u0000\u0000\u0000\u0000\u0000\u0000\u0000\u0000\u0000\u0000\u0000\u0000\u0000\u0000\u0000\u0000\u0000\u0000\u0000\u0000\u0000\u0000\u0000\u0000\u0000\u0000\u0000\u0000\u0000\u0000\u0000\u0000\u0000\u0000\u0000\u0000\u0000\u0000\u0000\u0000\u0000\u0000\u0000\u0000\u0000\u0000\u0000\u0000\u0000\u0000\u0000\u0000\u0000\u0000\u0000\u0000\u0000\u0000\u0000\u0000\u0000\u0000\u0000\u0000\u0000\u0000\u0000\u0000\u0000\u0000\u0000\u0000\u0000\u0000\u0000\u0000\u0000\u0000\u0000\u0000\u0000\u0000\u0000\u0000\u0000\u0000\u0000\u0000\u0000\u0000\u0000\u0000\u0000\u0000\u0000\u0000\u0000\u0000\u0000\u0000\u0000\u0000\u0000\u0000\u0000\u0000\u0000\u0000\u0000\u0000\u0000\u0000\u0000\u0000\u0000\u0000\u0000\u0000\u0000\u0000\u0000\u0000\u0000\u0000\u0000\u0000\u0000\u0000\u0000\u0000\u0000\u0000\u0000\u0000\u0000\u0000\u0000\u0000\u0000\u0000\u0000\u0000\u0000\u0000\u0000\u0000\u0000\u0000\u0000\u0000\u0000\u0000\u0000\u0000\", message=\"column count not equal to 11.\"\n"
     ]
    },
    {
     "name": "stdout",
     "output_type": "stream",
     "text": [
      "file reading 81 file=afpLog_2024-08-01_161706.csv\n"
     ]
    },
    {
     "name": "stdout",
     "output_type": "stream",
     "text": [
      "file reading 91 file=afpLog_2024-08-02_021706.csv\n"
     ]
    },
    {
     "name": "stdout",
     "output_type": "stream",
     "text": [
      "file reading 101 file=afpLog_2024-08-02_121706.csv\n"
     ]
    },
    {
     "name": "stdout",
     "output_type": "stream",
     "text": [
      "file reading 111 file=afpLog_2024-08-02_221706.csv\n"
     ]
    },
    {
     "name": "stdout",
     "output_type": "stream",
     "text": [
      "file reading 121 file=afpLog_2024-08-03_081706.csv\n"
     ]
    },
    {
     "name": "stdout",
     "output_type": "stream",
     "text": [
      "file reading 131 file=afpLog_2024-08-03_181706.csv\n"
     ]
    },
    {
     "name": "stdout",
     "output_type": "stream",
     "text": [
      "file reading 141 file=afpLog_2024-08-04_041706.csv\n"
     ]
    },
    {
     "name": "stdout",
     "output_type": "stream",
     "text": [
      "file reading 151 file=afpLog_2024-08-04_141706.csv\n"
     ]
    },
    {
     "name": "stdout",
     "output_type": "stream",
     "text": [
      "file reading 161 file=afpLog_2024-08-05_001706.csv\n"
     ]
    },
    {
     "name": "stdout",
     "output_type": "stream",
     "text": [
      "dataframe prepared with (rows,columns)=(6095021, 11) in 170 files.\n"
     ]
    },
    {
     "name": "stdout",
     "output_type": "stream",
     "text": [
      "Parse elapsed time: 1 minute and 20.04 seconds\n"
     ]
    }
   ],
   "source": [
    "# read dataset files in a directory\n",
    "_start = time.time()\n",
    "\n",
    "dfraw: pd.DataFrame = None\n",
    "\n",
    "if pathlib.Path(conf.DBFILE).exists():\n",
    "    dfraw = comm.read_tabdf(conf.TABNAME_RAW)\n",
    "    # ensure order\n",
    "    dfraw.sort_values(by=conf.COLUMN_NAMES[0], inplace=True)\n",
    "    dfraw.reset_index(drop=True, inplace=True)\n",
    "\n",
    "    _elapsed = time.time() - _start\n",
    "    print(f\"Read elapsed time: {human.format_timespan(_elapsed)}\")\n",
    "else:\n",
    "    csvfiles = comm.get_multifiles_indir(conf.DIRRAW, conf.FILENAME_PATTERN)\n",
    "    if len(csvfiles) < 1:\n",
    "        raise Exception(f\"dataset no csvfiles in the directory, {conf.DIRRAW}\")\n",
    "\n",
    "    print(f\"all csvfile count={len(csvfiles)} in dir={conf.DIRRAW}\")\n",
    "\n",
    "    # skip files\n",
    "    if conf.SKIP_FILES is not None and conf.SKIP_FILES > 0:\n",
    "        if len(csvfiles) > conf.SKIP_FILES:\n",
    "            csvfiles = csvfiles[conf.SKIP_FILES :]\n",
    "            print(f\"skip files={conf.SKIP_FILES} applied\")\n",
    "        else:\n",
    "            print(f\"Ignore SKIP_FILES={conf.SKIP_FILES} as not enough files at dir={conf.DIRRAW}\")\n",
    "\n",
    "    # limit files\n",
    "    if conf.LIMIT_FILES is not None and conf.LIMIT_FILES > 0:\n",
    "        if len(csvfiles) > conf.LIMIT_FILES:\n",
    "            csvfiles = csvfiles[: conf.LIMIT_FILES]\n",
    "            print(f\"limit files={conf.LIMIT_FILES} applied\")\n",
    "\n",
    "    csvsizes = comm.get_multifiles_size(csvfiles)\n",
    "\n",
    "    if conf.INPUT_MAXSIZE is not None and conf.INPUT_MAXSIZE > 0:\n",
    "        if sum(csvsizes) > conf.INPUT_MAXSIZE:\n",
    "            cumfiles, cumsizes, sumsize = [], [], 0\n",
    "            for fname, fsize in zip(csvfiles, csvsizes):\n",
    "                cumfiles.append(fname)\n",
    "                cumsizes.append(fsize)\n",
    "                sumsize += fsize\n",
    "                if sumsize > conf.INPUT_MAXSIZE:\n",
    "                    csvfiles = cumfiles\n",
    "                    csvsizes = cumsizes\n",
    "                    break\n",
    "            print(f\"input maxsize={human.format_size(conf.INPUT_MAXSIZE)} applied\")\n",
    "\n",
    "    print(f\"selected csvfile count={len(csvfiles)}, size={human.format_size(sum(csvsizes))}\")\n",
    "    print(f\"selected first file={csvfiles[0]}, last file={csvfiles[-1]}\")\n",
    "\n",
    "    dfraw = comm.read_multifiles(files=csvfiles, logstep=conf.LOGSTEP_FILES, verbose=conf.VERBOSE)\n",
    "\n",
    "    # ensure order, non-null\n",
    "    dfraw.sort_values(by=conf.COLUMN_NAMES[0], inplace=True)\n",
    "    dfraw.reset_index(drop=True, inplace=True)\n",
    "    dfraw.bfill(inplace=True)\n",
    "    dfraw.ffill(inplace=True)\n",
    "\n",
    "    # save to db\n",
    "    comm.save_dftab(dfraw, conf.TABNAME_RAW)\n",
    "\n",
    "    _elapsed = time.time() - _start\n",
    "    print(f\"Parse elapsed time: {human.format_timespan(_elapsed)}\")"
   ]
  },
  {
   "cell_type": "code",
   "execution_count": 6,
   "id": "ff37fe8a-283a-4bf7-8183-bd05830692f5",
   "metadata": {
    "execution": {
     "iopub.execute_input": "2024-09-16T05:38:45.155754Z",
     "iopub.status.busy": "2024-09-16T05:38:45.155754Z",
     "iopub.status.idle": "2024-09-16T05:38:45.166686Z",
     "shell.execute_reply": "2024-09-16T05:38:45.166686Z"
    },
    "papermill": {
     "duration": 0.014999,
     "end_time": "2024-09-16T05:38:45.167747",
     "exception": false,
     "start_time": "2024-09-16T05:38:45.152748",
     "status": "completed"
    },
    "tags": []
   },
   "outputs": [
    {
     "data": {
      "text/html": [
       "<div>\n",
       "<style scoped>\n",
       "    .dataframe tbody tr th:only-of-type {\n",
       "        vertical-align: middle;\n",
       "    }\n",
       "\n",
       "    .dataframe tbody tr th {\n",
       "        vertical-align: top;\n",
       "    }\n",
       "\n",
       "    .dataframe thead th {\n",
       "        text-align: right;\n",
       "    }\n",
       "</style>\n",
       "<table border=\"1\" class=\"dataframe\">\n",
       "  <thead>\n",
       "    <tr style=\"text-align: right;\">\n",
       "      <th></th>\n",
       "      <th>DATETM</th>\n",
       "      <th>TEM</th>\n",
       "      <th>PM1</th>\n",
       "      <th>PM2_5</th>\n",
       "      <th>PM10</th>\n",
       "      <th>CO</th>\n",
       "      <th>NH3</th>\n",
       "      <th>CT1</th>\n",
       "      <th>CT2</th>\n",
       "      <th>CT3</th>\n",
       "      <th>CT4</th>\n",
       "    </tr>\n",
       "  </thead>\n",
       "  <tbody>\n",
       "    <tr>\n",
       "      <th>0</th>\n",
       "      <td>2024-07-29 09:43:18.696</td>\n",
       "      <td>40.799999</td>\n",
       "      <td>10</td>\n",
       "      <td>12</td>\n",
       "      <td>13</td>\n",
       "      <td>161</td>\n",
       "      <td>88</td>\n",
       "      <td>0.8</td>\n",
       "      <td>1.0</td>\n",
       "      <td>0.5</td>\n",
       "      <td>0.6</td>\n",
       "    </tr>\n",
       "    <tr>\n",
       "      <th>1</th>\n",
       "      <td>2024-07-29 09:43:18.781</td>\n",
       "      <td>40.799999</td>\n",
       "      <td>10</td>\n",
       "      <td>12</td>\n",
       "      <td>13</td>\n",
       "      <td>161</td>\n",
       "      <td>88</td>\n",
       "      <td>0.8</td>\n",
       "      <td>1.0</td>\n",
       "      <td>0.5</td>\n",
       "      <td>0.6</td>\n",
       "    </tr>\n",
       "    <tr>\n",
       "      <th>2</th>\n",
       "      <td>2024-07-29 09:43:18.883</td>\n",
       "      <td>40.799999</td>\n",
       "      <td>10</td>\n",
       "      <td>12</td>\n",
       "      <td>13</td>\n",
       "      <td>161</td>\n",
       "      <td>88</td>\n",
       "      <td>0.8</td>\n",
       "      <td>1.0</td>\n",
       "      <td>0.5</td>\n",
       "      <td>0.5</td>\n",
       "    </tr>\n",
       "    <tr>\n",
       "      <th>3</th>\n",
       "      <td>2024-07-29 09:43:18.989</td>\n",
       "      <td>40.799999</td>\n",
       "      <td>10</td>\n",
       "      <td>12</td>\n",
       "      <td>13</td>\n",
       "      <td>161</td>\n",
       "      <td>88</td>\n",
       "      <td>0.9</td>\n",
       "      <td>1.0</td>\n",
       "      <td>0.5</td>\n",
       "      <td>0.6</td>\n",
       "    </tr>\n",
       "    <tr>\n",
       "      <th>4</th>\n",
       "      <td>2024-07-29 09:43:19.094</td>\n",
       "      <td>40.799999</td>\n",
       "      <td>10</td>\n",
       "      <td>12</td>\n",
       "      <td>13</td>\n",
       "      <td>161</td>\n",
       "      <td>88</td>\n",
       "      <td>0.8</td>\n",
       "      <td>1.0</td>\n",
       "      <td>0.7</td>\n",
       "      <td>0.6</td>\n",
       "    </tr>\n",
       "  </tbody>\n",
       "</table>\n",
       "</div>"
      ],
      "text/plain": [
       "                   DATETM        TEM  PM1  PM2_5  PM10   CO  NH3  CT1  CT2  CT3  CT4\n",
       "0 2024-07-29 09:43:18.696  40.799999   10     12    13  161   88  0.8  1.0  0.5  0.6\n",
       "1 2024-07-29 09:43:18.781  40.799999   10     12    13  161   88  0.8  1.0  0.5  0.6\n",
       "2 2024-07-29 09:43:18.883  40.799999   10     12    13  161   88  0.8  1.0  0.5  0.5\n",
       "3 2024-07-29 09:43:18.989  40.799999   10     12    13  161   88  0.9  1.0  0.5  0.6\n",
       "4 2024-07-29 09:43:19.094  40.799999   10     12    13  161   88  0.8  1.0  0.7  0.6"
      ]
     },
     "execution_count": 6,
     "metadata": {},
     "output_type": "execute_result"
    }
   ],
   "source": [
    "# 데이터 체크\n",
    "dfraw.head()"
   ]
  },
  {
   "cell_type": "code",
   "execution_count": 7,
   "id": "5a973d63-8735-42bc-a2a6-d9f2cbb4d793",
   "metadata": {
    "execution": {
     "iopub.execute_input": "2024-09-16T05:38:45.172748Z",
     "iopub.status.busy": "2024-09-16T05:38:45.172748Z",
     "iopub.status.idle": "2024-09-16T05:38:46.429901Z",
     "shell.execute_reply": "2024-09-16T05:38:46.429901Z"
    },
    "papermill": {
     "duration": 1.261232,
     "end_time": "2024-09-16T05:38:46.430988",
     "exception": false,
     "start_time": "2024-09-16T05:38:45.169756",
     "status": "completed"
    },
    "tags": []
   },
   "outputs": [
    {
     "data": {
      "text/html": [
       "<div>\n",
       "<style scoped>\n",
       "    .dataframe tbody tr th:only-of-type {\n",
       "        vertical-align: middle;\n",
       "    }\n",
       "\n",
       "    .dataframe tbody tr th {\n",
       "        vertical-align: top;\n",
       "    }\n",
       "\n",
       "    .dataframe thead th {\n",
       "        text-align: right;\n",
       "    }\n",
       "</style>\n",
       "<table border=\"1\" class=\"dataframe\">\n",
       "  <thead>\n",
       "    <tr style=\"text-align: right;\">\n",
       "      <th></th>\n",
       "      <th>DATETM</th>\n",
       "      <th>TEM</th>\n",
       "      <th>PM1</th>\n",
       "      <th>PM2_5</th>\n",
       "      <th>PM10</th>\n",
       "      <th>CO</th>\n",
       "      <th>NH3</th>\n",
       "      <th>CT1</th>\n",
       "      <th>CT2</th>\n",
       "      <th>CT3</th>\n",
       "      <th>CT4</th>\n",
       "    </tr>\n",
       "  </thead>\n",
       "  <tbody>\n",
       "    <tr>\n",
       "      <th>count</th>\n",
       "      <td>6095021</td>\n",
       "      <td>6.095021e+06</td>\n",
       "      <td>6.095021e+06</td>\n",
       "      <td>6.095021e+06</td>\n",
       "      <td>6.095021e+06</td>\n",
       "      <td>6.095021e+06</td>\n",
       "      <td>6.095021e+06</td>\n",
       "      <td>6.095021e+06</td>\n",
       "      <td>6.095021e+06</td>\n",
       "      <td>6.095021e+06</td>\n",
       "      <td>6.095021e+06</td>\n",
       "    </tr>\n",
       "    <tr>\n",
       "      <th>mean</th>\n",
       "      <td>2024-08-01 21:56:36.582684928</td>\n",
       "      <td>4.211648e+01</td>\n",
       "      <td>9.383445e+00</td>\n",
       "      <td>1.084684e+01</td>\n",
       "      <td>1.231504e+01</td>\n",
       "      <td>1.572084e+02</td>\n",
       "      <td>9.824781e+01</td>\n",
       "      <td>6.282347e-01</td>\n",
       "      <td>9.729512e-01</td>\n",
       "      <td>4.428262e-01</td>\n",
       "      <td>5.762765e-01</td>\n",
       "    </tr>\n",
       "    <tr>\n",
       "      <th>min</th>\n",
       "      <td>2024-07-29 09:43:18.696000</td>\n",
       "      <td>2.260000e+01</td>\n",
       "      <td>7.000000e+00</td>\n",
       "      <td>8.000000e+00</td>\n",
       "      <td>9.000000e+00</td>\n",
       "      <td>3.100000e+01</td>\n",
       "      <td>6.600000e+01</td>\n",
       "      <td>-5.000000e-01</td>\n",
       "      <td>2.000000e-01</td>\n",
       "      <td>2.000000e-01</td>\n",
       "      <td>3.000000e-01</td>\n",
       "    </tr>\n",
       "    <tr>\n",
       "      <th>25%</th>\n",
       "      <td>2024-07-31 04:02:54.219000064</td>\n",
       "      <td>4.080000e+01</td>\n",
       "      <td>8.000000e+00</td>\n",
       "      <td>9.000000e+00</td>\n",
       "      <td>1.100000e+01</td>\n",
       "      <td>1.410000e+02</td>\n",
       "      <td>8.800000e+01</td>\n",
       "      <td>3.000000e-01</td>\n",
       "      <td>9.000000e-01</td>\n",
       "      <td>4.000000e-01</td>\n",
       "      <td>5.000000e-01</td>\n",
       "    </tr>\n",
       "    <tr>\n",
       "      <th>50%</th>\n",
       "      <td>2024-08-01 21:37:40.710000128</td>\n",
       "      <td>4.170000e+01</td>\n",
       "      <td>9.000000e+00</td>\n",
       "      <td>1.100000e+01</td>\n",
       "      <td>1.200000e+01</td>\n",
       "      <td>1.580000e+02</td>\n",
       "      <td>9.300000e+01</td>\n",
       "      <td>6.000000e-01</td>\n",
       "      <td>1.000000e+00</td>\n",
       "      <td>4.000000e-01</td>\n",
       "      <td>6.000000e-01</td>\n",
       "    </tr>\n",
       "    <tr>\n",
       "      <th>75%</th>\n",
       "      <td>2024-08-03 15:57:22.609999872</td>\n",
       "      <td>4.350000e+01</td>\n",
       "      <td>1.000000e+01</td>\n",
       "      <td>1.200000e+01</td>\n",
       "      <td>1.300000e+01</td>\n",
       "      <td>1.700000e+02</td>\n",
       "      <td>1.100000e+02</td>\n",
       "      <td>9.000000e-01</td>\n",
       "      <td>1.000000e+00</td>\n",
       "      <td>5.000000e-01</td>\n",
       "      <td>6.000000e-01</td>\n",
       "    </tr>\n",
       "    <tr>\n",
       "      <th>max</th>\n",
       "      <td>2024-08-05 10:17:05.909000</td>\n",
       "      <td>4.550000e+01</td>\n",
       "      <td>2.700000e+01</td>\n",
       "      <td>2.900000e+01</td>\n",
       "      <td>4.200000e+01</td>\n",
       "      <td>2.530000e+02</td>\n",
       "      <td>1.400000e+02</td>\n",
       "      <td>3.000000e+00</td>\n",
       "      <td>1.500000e+00</td>\n",
       "      <td>8.000000e-01</td>\n",
       "      <td>1.000000e+00</td>\n",
       "    </tr>\n",
       "    <tr>\n",
       "      <th>std</th>\n",
       "      <td>NaN</td>\n",
       "      <td>1.725541e+00</td>\n",
       "      <td>1.615970e+00</td>\n",
       "      <td>1.644981e+00</td>\n",
       "      <td>1.463494e+00</td>\n",
       "      <td>2.884160e+01</td>\n",
       "      <td>1.239270e+01</td>\n",
       "      <td>3.341508e-01</td>\n",
       "      <td>7.151102e-02</td>\n",
       "      <td>7.401512e-02</td>\n",
       "      <td>6.755878e-02</td>\n",
       "    </tr>\n",
       "  </tbody>\n",
       "</table>\n",
       "</div>"
      ],
      "text/plain": [
       "                              DATETM           TEM           PM1         PM2_5          PM10            CO           NH3           CT1           CT2           CT3           CT4\n",
       "count                        6095021  6.095021e+06  6.095021e+06  6.095021e+06  6.095021e+06  6.095021e+06  6.095021e+06  6.095021e+06  6.095021e+06  6.095021e+06  6.095021e+06\n",
       "mean   2024-08-01 21:56:36.582684928  4.211648e+01  9.383445e+00  1.084684e+01  1.231504e+01  1.572084e+02  9.824781e+01  6.282347e-01  9.729512e-01  4.428262e-01  5.762765e-01\n",
       "min       2024-07-29 09:43:18.696000  2.260000e+01  7.000000e+00  8.000000e+00  9.000000e+00  3.100000e+01  6.600000e+01 -5.000000e-01  2.000000e-01  2.000000e-01  3.000000e-01\n",
       "25%    2024-07-31 04:02:54.219000064  4.080000e+01  8.000000e+00  9.000000e+00  1.100000e+01  1.410000e+02  8.800000e+01  3.000000e-01  9.000000e-01  4.000000e-01  5.000000e-01\n",
       "50%    2024-08-01 21:37:40.710000128  4.170000e+01  9.000000e+00  1.100000e+01  1.200000e+01  1.580000e+02  9.300000e+01  6.000000e-01  1.000000e+00  4.000000e-01  6.000000e-01\n",
       "75%    2024-08-03 15:57:22.609999872  4.350000e+01  1.000000e+01  1.200000e+01  1.300000e+01  1.700000e+02  1.100000e+02  9.000000e-01  1.000000e+00  5.000000e-01  6.000000e-01\n",
       "max       2024-08-05 10:17:05.909000  4.550000e+01  2.700000e+01  2.900000e+01  4.200000e+01  2.530000e+02  1.400000e+02  3.000000e+00  1.500000e+00  8.000000e-01  1.000000e+00\n",
       "std                              NaN  1.725541e+00  1.615970e+00  1.644981e+00  1.463494e+00  2.884160e+01  1.239270e+01  3.341508e-01  7.151102e-02  7.401512e-02  6.755878e-02"
      ]
     },
     "execution_count": 7,
     "metadata": {},
     "output_type": "execute_result"
    }
   ],
   "source": [
    "# 데이터 통계\n",
    "dfraw.describe()"
   ]
  },
  {
   "cell_type": "code",
   "execution_count": 8,
   "id": "8a821452-f1d5-4724-b90f-cfde4b324996",
   "metadata": {
    "execution": {
     "iopub.execute_input": "2024-09-16T05:38:46.438171Z",
     "iopub.status.busy": "2024-09-16T05:38:46.438171Z",
     "iopub.status.idle": "2024-09-16T05:38:46.441986Z",
     "shell.execute_reply": "2024-09-16T05:38:46.441642Z"
    },
    "papermill": {
     "duration": 0.007978,
     "end_time": "2024-09-16T05:38:46.443016",
     "exception": false,
     "start_time": "2024-09-16T05:38:46.435038",
     "status": "completed"
    },
    "tags": []
   },
   "outputs": [
    {
     "name": "stdout",
     "output_type": "stream",
     "text": [
      "main elapsed time: 1 minute and 21.36 seconds\n"
     ]
    }
   ],
   "source": [
    "_elapsed = time.time() - mainstart\n",
    "print(f\"main elapsed time: {human.format_timespan(_elapsed)}\")\n",
    "# 1 min. for 170 files, 420 MB input files when set conf.INPUT_MAXSIZE = 400 MB"
   ]
  },
  {
   "cell_type": "markdown",
   "id": "9b6407f8-6769-41df-9268-559558321b38",
   "metadata": {
    "papermill": {
     "duration": 0.002997,
     "end_time": "2024-09-16T05:38:46.448116",
     "exception": false,
     "start_time": "2024-09-16T05:38:46.445119",
     "status": "completed"
    },
    "tags": []
   },
   "source": [
    "## eof"
   ]
  }
 ],
 "metadata": {
  "kernelspec": {
   "display_name": "Python 3 (ipykernel)",
   "language": "python",
   "name": "python3"
  },
  "language_info": {
   "codemirror_mode": {
    "name": "ipython",
    "version": 3
   },
   "file_extension": ".py",
   "mimetype": "text/x-python",
   "name": "python",
   "nbconvert_exporter": "python",
   "pygments_lexer": "ipython3",
   "version": "3.12.3"
  },
  "papermill": {
   "default_parameters": {},
   "duration": 84.139301,
   "end_time": "2024-09-16T05:38:46.695010",
   "environment_variables": {},
   "exception": null,
   "input_path": "oht1parse.ipynb",
   "output_path": ".\\tmp\\oht1parse-143721-large.ipynb",
   "parameters": {},
   "start_time": "2024-09-16T05:37:22.555709",
   "version": "2.6.0"
  }
 },
 "nbformat": 4,
 "nbformat_minor": 5
}