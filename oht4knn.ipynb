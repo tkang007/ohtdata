{
 "cells": [
  {
   "cell_type": "code",
   "execution_count": 1,
   "id": "ee712d33-11ce-42e9-994c-51f199abee7f",
   "metadata": {},
   "outputs": [],
   "source": [
    "# filename: knn.ipynb\n",
    "# purpose: knn model implement"
   ]
  },
  {
   "cell_type": "markdown",
   "id": "33fced73-cab1-4cd4-a90f-dde6cce3f2b7",
   "metadata": {},
   "source": [
    "# OHT KNN model implement"
   ]
  },
  {
   "cell_type": "markdown",
   "id": "10234657-944c-4cb7-a5d0-7b65e51fa1e7",
   "metadata": {},
   "source": [
    "### KNN implements\n",
    "- KNN classification method will be used to detect abnormal,outlier data\n",
    "\n",
    "### Processing flow\n",
    "- Read mixed dataset from dukdb table\n",
    "- Reduce dataset to the required volumn\n",
    "- Convert int label in flag column to str label for easier understaing of the classification report\n",
    "- Split training and test dataset and labels\n",
    "- Search best-K value in the configured neighbor range \n",
    "- KNN train with the searched best K value \n",
    "- Predict with test dataset\n",
    "- Report the prediction report with best-K, accuracy score, confusion matrix (precision,recall,f-score,support)\n",
    "- Chart confunsion matrix by heatmap\n",
    "- Chart decision boundary scatter with 2 features\n",
    "  "
   ]
  },
  {
   "cell_type": "code",
   "execution_count": 2,
   "id": "7337bee0-a4ea-44e3-bdc9-98b3fa5afb7d",
   "metadata": {},
   "outputs": [],
   "source": [
    "# packages\n",
    "import time\n",
    "import os\n",
    "import pathlib\n",
    "import tempfile\n",
    "import numpy as np\n",
    "import pandas as pd\n",
    "\n",
    "import humanfriendly as human\n",
    "\n",
    "from sklearn.neighbors import KNeighborsClassifier\n",
    "from sklearn.preprocessing import StandardScaler\n",
    "from sklearn.model_selection import train_test_split, GridSearchCV\n",
    "from sklearn.metrics import accuracy_score, confusion_matrix, classification_report\n",
    "import joblib\n",
    "\n",
    "import matplotlib.pyplot as plt\n",
    "import seaborn as sns\n",
    "\n",
    "# Plotting decision boundaries\n",
    "from matplotlib.colors import ListedColormap\n",
    "\n",
    "import ohtconf as conf\n",
    "import ohtcomm as comm"
   ]
  },
  {
   "cell_type": "markdown",
   "id": "8b5f48bc-e00c-4eba-a5bb-cb9934b6d212",
   "metadata": {},
   "source": [
    "## Main"
   ]
  },
  {
   "cell_type": "code",
   "execution_count": 3,
   "id": "874bef55-ee79-49b9-b065-114a33754b9e",
   "metadata": {},
   "outputs": [],
   "source": [
    "mainstart = time.time()"
   ]
  },
  {
   "cell_type": "code",
   "execution_count": 4,
   "id": "973484d5-9801-4aaa-8f1f-9debdb04897a",
   "metadata": {},
   "outputs": [],
   "source": [
    "USESCALE = False  # no big difference between feature scaling or not"
   ]
  },
  {
   "cell_type": "code",
   "execution_count": 5,
   "id": "bb12cad8-33a2-45e3-ad1d-e45650a68689",
   "metadata": {},
   "outputs": [
    {
     "name": "stdout",
     "output_type": "stream",
     "text": [
      "row count, dfmix=108000, dfknn=108000, expected dfknn=800000\n",
      "elapsed time: 0.12 seconds\n"
     ]
    }
   ],
   "source": [
    "# read table data\n",
    "_start = time.time()\n",
    "\n",
    "dfmix = comm.read_tabdf(conf.TABNAME_MIX)\n",
    "dfmix.sort_values(by=conf.COLUMN_NAMES[0], inplace=True)\n",
    "dfmix.reset_index(drop=True, inplace=True)\n",
    "\n",
    "dfknn = dfmix.iloc[0 : conf.TRAIN_SIZE]  # execution time key factor\n",
    "\n",
    "# type convert to prevent model fit, RuntimeWarning: invalid value encountered in cast\n",
    "type_dict = {col: np.float32 for col in conf.COLUMN_GRAPH}\n",
    "dfknn = dfknn.astype(type_dict)\n",
    "\n",
    "print(f\"row count, dfmix={len(dfmix)}, dfknn={len(dfknn)}, expected dfknn={conf.TRAIN_SIZE}\")\n",
    "\n",
    "_elapsed = time.time() - _start\n",
    "print(f\"elapsed time: {human.format_timespan(_elapsed)}\")"
   ]
  },
  {
   "cell_type": "markdown",
   "id": "32348a9b-f97f-440e-9982-6c30967a3d0c",
   "metadata": {},
   "source": [
    "### Common functions"
   ]
  },
  {
   "cell_type": "code",
   "execution_count": 6,
   "id": "b8dcc475-2e90-4c28-99eb-db7e7f28abe0",
   "metadata": {},
   "outputs": [],
   "source": [
    "def make_strlabel(ay: pd.Series, intlabels: list[int] | None = None, strlabels: list[str] | None = None) -> pd.Series:\n",
    "    \"\"\"map int labels to str labels\n",
    "\n",
    "    map values (0~10) to (NORM,TEM,...,CT3)\n",
    "    \"\"\"\n",
    "    if intlabels is None or strlabels is None:\n",
    "        all_columns = conf.COLUMN_GRAPH\n",
    "        intlabels = list(range(0, 11))  # 0 ~ 10 for normal, outlier-tem,...,outlier-ct4 flag\n",
    "        strlabels = [\"NORM\"] + all_columns  # NORM for normal, others are for outlier\n",
    "\n",
    "    label_dict = {i: s for i, s in zip(intlabels, strlabels)}\n",
    "    ay = ay.map(label_dict)\n",
    "    return ay"
   ]
  },
  {
   "cell_type": "code",
   "execution_count": 7,
   "id": "59fb587c-54a9-47ef-864b-97878979350d",
   "metadata": {},
   "outputs": [],
   "source": [
    "def make_intlabel(ay: pd.Series, strlabels: list[str] | None = None, intlabels: list[int] | None = None) -> pd.Series:\n",
    "    \"\"\"map str labels to int labels\n",
    "\n",
    "    map values (NORM,TEM,...,CT3) to (0~10)\n",
    "    \"\"\"\n",
    "    if intlabels is None or strlabels is None:\n",
    "        all_columns = conf.COLUMN_GRAPH\n",
    "        intlabels = list(range(0, 11))  # 0 ~ 10 for normal, outlier-tem,...,outlier-ct4 flag\n",
    "        strlabels = [\"NORM\"] + all_columns  # NORM for normal, others are for outlier\n",
    "\n",
    "    label_dict = {s: i for s, i in zip(strlabels, intlabels)}\n",
    "    ay = ay.map(label_dict)\n",
    "    return ay"
   ]
  },
  {
   "cell_type": "code",
   "execution_count": 8,
   "id": "5cbe0cfc-6d56-4cce-bf76-8062b2b3ad43",
   "metadata": {},
   "outputs": [],
   "source": [
    "def knn_train(\n",
    "    X: pd.DataFrame, y: pd.Series, columns: list[str], labels: list[str]\n",
    ") -> tuple[int, KNeighborsClassifier, pd.DataFrame, pd.Series]:\n",
    "    \"\"\"knn modle training\"\"\"\n",
    "\n",
    "    def do_x_scale(ax: pd.DataFrame, acolumns: list[str]) -> pd.DataFrame:\n",
    "        \"\"\"standardize feature values\"\"\"\n",
    "        if USESCALE:\n",
    "            scaler = StandardScaler()\n",
    "            ax = pd.DataFrame(scaler.fit_transform(ax), columns=acolumns)\n",
    "        return ax\n",
    "\n",
    "    def do_grid_search(xtrain: pd.DataFrame, ytrain: pd.Series) -> GridSearchCV:\n",
    "        \"\"\"grid search for the best k value\"\"\"\n",
    "        _start = time.time()\n",
    "        knn = KNeighborsClassifier()  # Create KNN classifier\n",
    "        param_grid = {\"n_neighbors\": conf.N_NEIGHBORS}  # Grid search for optimal K value\n",
    "        print(f\"param_grid={param_grid}\")\n",
    "\n",
    "        # K-fold Cross-Validation: Divide the dataset into K folds. Train the model on K-1 folds and evaluate on the remaining fold.\n",
    "        # Repeat this K times, rotating the validation fold.\n",
    "        #gsearch = GridSearchCV(knn, param_grid, cv=5, scoring='accuracy', early_stopping=True, n_iter_no_change=3, tol=1e-3, verbose=3) \n",
    "        gsearch = GridSearchCV(knn, param_grid, cv=4, verbose=3) \n",
    "        # cv for cross validation folds, \n",
    "        # early_stoppping to stop the fitting process when a certain score is reached.\n",
    "        # n_iter_no_change specifies the maximum number of iterations without improvement before the fitting process is stopped.\n",
    "        # tol specifies the minimum change in the score required to continue the fitting process.\n",
    "        # verbose 0 (default): No output is printed.1: The number of iterations, the current score, and the best score so far are printed.\n",
    "        # verbose 2: The same information as verbose=1, plus the parameters of the current model being evaluated.\n",
    "        # verbose 3: The same information as verbose=2, plus the scores for each cross-validation fold.\n",
    "        gsearch.fit(xtrain, ytrain)\n",
    "\n",
    "        _elapsed = time.time() - _start\n",
    "        print(f\"do_grid_search elapsed time: {human.format_timespan(_elapsed)}\")\n",
    "        return gsearch\n",
    "\n",
    "    def do_knn_train(xtrain: pd.DataFrame, ytrain: pd.Series, best_k: int) -> KNeighborsClassifier:\n",
    "        _start = time.time()\n",
    "        # model with best K\n",
    "        amodel = KNeighborsClassifier(n_neighbors=best_k)\n",
    "        amodel.fit(xtrain, ytrain)\n",
    "        _elapsed = time.time() - _start\n",
    "        print(f\"do_knn_train elapsed time: {human.format_timespan(_elapsed)}\")\n",
    "        return amodel\n",
    "\n",
    "    #\n",
    "    _start = time.time()\n",
    "\n",
    "    # x scaling\n",
    "    if USESCALE:\n",
    "        X = do_x_scale(X, columns)\n",
    "\n",
    "    # split data into training and testing sets\n",
    "    X_train, X_test, y_train, y_test = train_test_split(X, y, test_size=0.2, random_state=42)  # 20% test set\n",
    "\n",
    "    # search best_k by using grid serarch\n",
    "    gridsearch = do_grid_search(X_train, y_train)\n",
    "    best_k = gridsearch.best_params_[\"n_neighbors\"]\n",
    "\n",
    "    # knn train with best_k\n",
    "    model = do_knn_train(X_train, y_train, best_k)\n",
    "\n",
    "    _elapsed = time.time() - _start\n",
    "    print(f\"knn_train elapsed time: {human.format_timespan(_elapsed)}\")\n",
    "\n",
    "    return best_k, model, X_test, y_test"
   ]
  },
  {
   "cell_type": "code",
   "execution_count": 9,
   "id": "73c13fff-2262-404f-b63a-c43c5eba4cd3",
   "metadata": {},
   "outputs": [],
   "source": [
    "def knn_predict(amodel: KNeighborsClassifier, xtest: pd.DataFrame) -> pd.Series:\n",
    "    # predictions\n",
    "    ypred = model.predict(xtest)\n",
    "    return ypred"
   ]
  },
  {
   "cell_type": "code",
   "execution_count": 10,
   "id": "fa7b70b0-33d6-4f70-97f2-1c145349e4a0",
   "metadata": {},
   "outputs": [],
   "source": [
    "def knn_report(bestk: int, ytest: pd.Series, ypred: pd.Series, labels: list[str], title: str) -> pd.DataFrame:\n",
    "    print(f\"\\n*** Start of KNN modeling report for {title} ***\\n\")\n",
    "\n",
    "    # best_k\n",
    "    print(f\"\\nBest K = {bestk} on the evaluated candidates={conf.N_NEIGHBORS}\")\n",
    "\n",
    "    # Accuracy score = (TP + TN) / (TP + TN + FP + FN)\n",
    "    accuracy = accuracy_score(ytest, ypred)\n",
    "    print(\"\\nAccuracy Score = \", accuracy)\n",
    "\n",
    "    # Confusion Matrix\n",
    "    #                   Predicted Positive\tPredicted Negative\n",
    "    # Actual Positive\tTrue Positive (TP)\tFalse Negative (FN)\n",
    "    # Actual Negative\tFalse Positive (FP)\tTrue Negative (TN)\n",
    "    cm = confusion_matrix(ytest, ypred, labels=labels)\n",
    "    dfcm = pd.DataFrame(cm, index=labels, columns=labels)\n",
    "    print(\"\\nConfusion Matrix :\\n\", dfcm)\n",
    "\n",
    "    # Classification Report\n",
    "    # Precisoin = TP / (TP + FP)\n",
    "    # Recall (Sensitivity) = TP / (TP + FN)\n",
    "    # F1 Score = 2 * (Precision x Recall) / (Precision + Recall)\n",
    "    # Support - instances of class in the dataset\n",
    "\n",
    "    report = classification_report(ytest, ypred, labels=labels)\n",
    "    print(\"\\nClassification Report :\\n\", report)\n",
    "\n",
    "    print(f\"\\n*** End of KNN modeling report for {title} ***\\n\")\n",
    "\n",
    "    return dfcm"
   ]
  },
  {
   "cell_type": "code",
   "execution_count": 11,
   "id": "70bb2645-542b-4987-854b-0f5cc4228d95",
   "metadata": {},
   "outputs": [],
   "source": [
    "def knn_cm_heatmap(dfcm: pd.DataFrame, title: str, pngfile: str) -> None:\n",
    "    \"\"\"knn confusion matrix heatmap\n",
    "\n",
    "    A confusion matrix helps you understand the performance of the classification algorithm by showing the true vs. predicted labels\n",
    "    \"\"\"\n",
    "    fig, ox = plt.subplots(nrows=1, ncols=1, figsize=conf.PLOTSIZE)\n",
    "    sns.heatmap(dfcm, annot=True, cmap=\"coolwarm\", linewidths=0.5, fmt=\"d\", ax=ox)\n",
    "    # ox.xaxis.tick_top()\n",
    "    # ox.tick_params(top=True, labeltop=True, bottom=False, labelbottom=False)\n",
    "    ox.set_xlabel(\"Predicted\", labelpad=15)\n",
    "    ox.set_ylabel(\"Actual\")\n",
    "\n",
    "    fig.suptitle(f\"Confusion Matrix of {title}\")\n",
    "\n",
    "    plt.tight_layout()\n",
    "    plt.show()\n",
    "\n",
    "    if pngfile is not None:\n",
    "        pngfile = pngfile.lower()\n",
    "        filepath = pathlib.Path(conf.DIRCHART) / pngfile\n",
    "        fig.savefig(\n",
    "            filepath,\n",
    "            dpi=conf.DPI,\n",
    "            facecolor=\"w\",\n",
    "            edgecolor=\"w\",\n",
    "            orientation=\"portrait\",\n",
    "            format=None,\n",
    "            transparent=False,\n",
    "            bbox_inches=None,\n",
    "            pad_inches=None,\n",
    "        )"
   ]
  },
  {
   "cell_type": "code",
   "execution_count": 12,
   "id": "95dd84a7-4217-48cd-b744-0d125474cda3",
   "metadata": {},
   "outputs": [],
   "source": [
    "def knn_2fs_db_scatter(\n",
    "    ax: pd.DataFrame, ay: pd.Series, amodel: KNeighborsClassifier, bestk: int, title: str, pngfile: str\n",
    "):\n",
    "    \"\"\"knn 2 features decison boundary scatter\n",
    "\n",
    "    This plot shows how the KNN algorithm classifies different regions of the feature space.\n",
    "    \"\"\"\n",
    "\n",
    "    assert len(ax.columns) == 2, \"knn_2feature_decision_boundary should have 2 features\"\n",
    "\n",
    "    # Create color maps\n",
    "    light_colors = [\n",
    "        \"#FFDDC1\",\n",
    "        \"#FFABAB\",\n",
    "        \"#FFC3A0\",\n",
    "        \"#FF677D\",\n",
    "        \"#D4A5A5\",\n",
    "        \"#392F5A\",\n",
    "        \"#31A2AC\",\n",
    "        \"#61C0BF\",\n",
    "        \"#6B4226\",\n",
    "        \"#D9BF77\",\n",
    "    ]\n",
    "    bold_colors = [\n",
    "        \"#E6194B\",\n",
    "        \"#3CB44B\",\n",
    "        \"#FFE119\",\n",
    "        \"#4363D8\",\n",
    "        \"#F58231\",\n",
    "        \"#911EB4\",\n",
    "        \"#42D4F4\",\n",
    "        \"#F032E6\",\n",
    "        \"#BFEF45\",\n",
    "        \"#FABED4\",\n",
    "    ]\n",
    "\n",
    "    cmap_light = ListedColormap(light_colors)\n",
    "    cmap_bold = ListedColormap(bold_colors)\n",
    "\n",
    "    # Create a mesh grid for plotting decision boundaries\n",
    "    x_add = 10 if ax.iloc[:, 0].max() / 100 >= 1 else 1\n",
    "    y_add = 10 if ax.iloc[:, 1].max() / 100 >= 1 else 1\n",
    "    x_min, x_max = ax.iloc[:, 0].min() - x_add, ax.iloc[:, 0].max() + x_add\n",
    "    y_min, y_max = ax.iloc[:, 1].min() - y_add, ax.iloc[:, 1].max() + y_add\n",
    "\n",
    "    # Predict the class for each point in the mesh grid\n",
    "    xx, yy = np.meshgrid(np.arange(x_min, x_max, 1), np.arange(y_min, y_max, 1))\n",
    "\n",
    "    # np.c_[array,array] - translates slice objects to concatenation along the second axis. xx.ravel() - return flattened array,\n",
    "    dfgrid = pd.DataFrame(np.c_[xx.ravel(), yy.ravel()], columns=ax.columns)\n",
    "    # print(f\"type dfgrid={type(dfgrid)}, dfgrid={dfgrid.head()}\")\n",
    "    Z = amodel.predict(dfgrid)  # 1-d array\n",
    "    Z = pd.Series(Z)  # convert to pd.Series to use map\n",
    "    Z = make_intlabel(Z)  # predicted str label map to int label for using color map at pcolormesh()\n",
    "    Z = Z.to_numpy()  # convert to 1-d array\n",
    "    Z = Z.reshape(xx.shape)  # reshape\n",
    "\n",
    "    # Plot also the training points\n",
    "    fig, ox = plt.subplots(nrows=1, ncols=1, figsize=conf.PLOTSIZE)\n",
    "\n",
    "    # print(f\"type xx={type(xx)}, yy={type(yy)}, Z={type(Z)}\"); print(f\"valuex x={xx[:3]}, yy={yy[:3]} Z={Z[:3]}\")\n",
    "    ox.pcolormesh(xx, yy, Z, cmap=cmap_light)\n",
    "\n",
    "    # Plot the training points\n",
    "    # c=y - sequence of n numbers to be mapped to colors using *cmap*\n",
    "    yi = make_intlabel(ay)\n",
    "    ox.scatter(ax.iloc[:, 0], ax.iloc[:, 1], c=yi, cmap=cmap_bold, edgecolor=\"k\", s=10)\n",
    "    # ox.xaxis.tick_top()\n",
    "    # ox.tick_params(top=True, labeltop=True, bottom=False, labelbottom=False)\n",
    "    ox.set_xlim(xx.min(), xx.max())\n",
    "    ox.set_ylim(yy.min(), yy.max())\n",
    "    ox.set_xlabel(ax.columns[0])\n",
    "    ox.set_ylabel(ax.columns[1])\n",
    "\n",
    "    fig.suptitle(f\"K={bestk} class classification of {title}\")\n",
    "\n",
    "    plt.show()\n",
    "\n",
    "    if pngfile is not None:\n",
    "        pngfile = pngfile.lower()\n",
    "        filepath = pathlib.Path(conf.DIRCHART) / pngfile\n",
    "        fig.savefig(\n",
    "            filepath,\n",
    "            dpi=conf.DPI,\n",
    "            facecolor=\"w\",\n",
    "            edgecolor=\"w\",\n",
    "            orientation=\"portrait\",\n",
    "            format=None,\n",
    "            transparent=False,\n",
    "            bbox_inches=None,\n",
    "            pad_inches=None,\n",
    "        )"
   ]
  },
  {
   "cell_type": "markdown",
   "id": "f9fc15fb-59f7-403d-b2d0-4f62c8414889",
   "metadata": {},
   "source": [
    "### KNN modeling with all 10 features"
   ]
  },
  {
   "cell_type": "code",
   "execution_count": 13,
   "id": "1bf64396-66ce-4d11-a463-1efac0ea2a94",
   "metadata": {},
   "outputs": [
    {
     "name": "stdout",
     "output_type": "stream",
     "text": [
      "param_grid={'n_neighbors': range(2, 12)}\n",
      "Fitting 4 folds for each of 10 candidates, totalling 40 fits\n",
      "[CV 1/4] END .....................n_neighbors=2;, score=0.977 total time=   1.7s\n",
      "[CV 2/4] END .....................n_neighbors=2;, score=0.978 total time=   1.6s\n",
      "[CV 3/4] END .....................n_neighbors=2;, score=0.978 total time=   1.6s\n",
      "[CV 4/4] END .....................n_neighbors=2;, score=0.976 total time=   1.5s\n",
      "[CV 1/4] END .....................n_neighbors=3;, score=0.977 total time=   1.8s\n",
      "[CV 2/4] END .....................n_neighbors=3;, score=0.979 total time=   2.2s\n",
      "[CV 3/4] END .....................n_neighbors=3;, score=0.978 total time=   2.2s\n",
      "[CV 4/4] END .....................n_neighbors=3;, score=0.977 total time=   2.1s\n",
      "[CV 1/4] END .....................n_neighbors=4;, score=0.977 total time=   2.0s\n",
      "[CV 2/4] END .....................n_neighbors=4;, score=0.977 total time=   1.7s\n",
      "[CV 3/4] END .....................n_neighbors=4;, score=0.976 total time=   1.7s\n",
      "[CV 4/4] END .....................n_neighbors=4;, score=0.975 total time=   2.0s\n",
      "[CV 1/4] END .....................n_neighbors=5;, score=0.974 total time=   1.9s\n",
      "[CV 2/4] END .....................n_neighbors=5;, score=0.976 total time=   1.9s\n",
      "[CV 3/4] END .....................n_neighbors=5;, score=0.974 total time=   1.8s\n",
      "[CV 4/4] END .....................n_neighbors=5;, score=0.973 total time=   1.8s\n",
      "[CV 1/4] END .....................n_neighbors=6;, score=0.972 total time=   1.5s\n",
      "[CV 2/4] END .....................n_neighbors=6;, score=0.974 total time=   1.9s\n",
      "[CV 3/4] END .....................n_neighbors=6;, score=0.972 total time=   1.7s\n",
      "[CV 4/4] END .....................n_neighbors=6;, score=0.971 total time=   1.9s\n",
      "[CV 1/4] END .....................n_neighbors=7;, score=0.970 total time=   1.9s\n",
      "[CV 2/4] END .....................n_neighbors=7;, score=0.972 total time=   1.9s\n",
      "[CV 3/4] END .....................n_neighbors=7;, score=0.971 total time=   1.6s\n",
      "[CV 4/4] END .....................n_neighbors=7;, score=0.969 total time=   1.8s\n",
      "[CV 1/4] END .....................n_neighbors=8;, score=0.968 total time=   1.8s\n",
      "[CV 2/4] END .....................n_neighbors=8;, score=0.971 total time=   2.0s\n",
      "[CV 3/4] END .....................n_neighbors=8;, score=0.970 total time=   1.9s\n",
      "[CV 4/4] END .....................n_neighbors=8;, score=0.967 total time=   1.8s\n",
      "[CV 1/4] END .....................n_neighbors=9;, score=0.966 total time=   1.8s\n",
      "[CV 2/4] END .....................n_neighbors=9;, score=0.970 total time=   2.0s\n",
      "[CV 3/4] END .....................n_neighbors=9;, score=0.968 total time=   1.8s\n",
      "[CV 4/4] END .....................n_neighbors=9;, score=0.966 total time=   2.0s\n",
      "[CV 1/4] END ....................n_neighbors=10;, score=0.966 total time=   1.9s\n",
      "[CV 2/4] END ....................n_neighbors=10;, score=0.968 total time=   1.9s\n",
      "[CV 3/4] END ....................n_neighbors=10;, score=0.967 total time=   1.7s\n",
      "[CV 4/4] END ....................n_neighbors=10;, score=0.965 total time=   1.9s\n",
      "[CV 1/4] END ....................n_neighbors=11;, score=0.965 total time=   1.9s\n",
      "[CV 2/4] END ....................n_neighbors=11;, score=0.968 total time=   2.0s\n",
      "[CV 3/4] END ....................n_neighbors=11;, score=0.966 total time=   2.0s\n",
      "[CV 4/4] END ....................n_neighbors=11;, score=0.963 total time=   1.9s\n",
      "do_grid_search elapsed time: 1 minute and 18.74 seconds\n",
      "do_knn_train elapsed time: 0.2 seconds\n",
      "knn_train elapsed time: 1 minute and 18.95 seconds\n",
      "elapsed time: 1 minute and 18.96 seconds\n"
     ]
    }
   ],
   "source": [
    "# knn training\n",
    "_start = time.time()\n",
    "\n",
    "# data  feature, column name and labels for flag column value\n",
    "ALL_ILABELS = list(range(0, 11))  # 0 ~ 10 for normal, outlier-tem,...,outlier-ct4 flag\n",
    "ALL_COLUMNS = conf.COLUMN_GRAPH\n",
    "ALL_LABELS = [\"NORM\"] + ALL_COLUMNS  # NORM for normal, others are for outlier\n",
    "\n",
    "# data\n",
    "X = dfknn.loc[:, ALL_COLUMNS]\n",
    "\n",
    "# label\n",
    "y = dfknn.loc[:, [conf.COLUMN_FLAG]].copy()  # dataframe\n",
    "y = y[conf.COLUMN_FLAG]  # series\n",
    "y = make_strlabel(\n",
    "    y, ALL_ILABELS, ALL_LABELS\n",
    ")  # map y, number labels(0~10) to str labels (NORM,TEM,...,CT3) for easier report understanding\n",
    "\n",
    "best_k, model, X_test, y_test = knn_train(X, y, ALL_COLUMNS, ALL_LABELS)\n",
    "\n",
    "_elapsed = time.time() - _start\n",
    "print(f\"elapsed time: {human.format_timespan(_elapsed)}\")"
   ]
  },
  {
   "cell_type": "code",
   "execution_count": 14,
   "id": "fa5ea9bf-b674-42f3-bf86-d39299f0bbf2",
   "metadata": {},
   "outputs": [
    {
     "name": "stdout",
     "output_type": "stream",
     "text": [
      "elapsed time: 1.85 seconds\n"
     ]
    }
   ],
   "source": [
    "# knn predict\n",
    "_start = time.time()\n",
    "\n",
    "y_pred = knn_predict(model, X_test)\n",
    "\n",
    "_elapsed = time.time() - _start\n",
    "print(f\"elapsed time: {human.format_timespan(_elapsed)}\")"
   ]
  },
  {
   "cell_type": "code",
   "execution_count": 15,
   "id": "356f6e77-cd35-466e-9a4f-ad39af77dddd",
   "metadata": {},
   "outputs": [
    {
     "name": "stdout",
     "output_type": "stream",
     "text": [
      "\n",
      "*** Start of KNN modeling report for all 10 features ***\n",
      "\n",
      "\n",
      "Best K = 3 on the evaluated candidates=range(2, 12)\n",
      "\n",
      "Accuracy Score =  0.9810185185185185\n",
      "\n",
      "Confusion Matrix :\n",
      "         NORM  TEM  PM1  PM2_5  PM10   CO  NH3  CT1  CT2  CT3  CT4\n",
      "NORM   16140    2    0      0     9    1    5    1    0    1    4\n",
      "TEM       16  486    0      2     6    2    6   13    1    0    8\n",
      "PM1        4    1  495      3     0    0    2    2    1    0    4\n",
      "PM2_5      8    1    5    488    10    0    4    9    0    1   12\n",
      "PM10      29    1    8      7   478    1   10    6    0    0    8\n",
      "CO        16    0    0      0     0  549    0    0    0    0    0\n",
      "NH3       14    1    2     11     6    0  519   10    1    0    7\n",
      "CT1        9    1    3      7     3    0    5  505    1    0    6\n",
      "CT2       11    1    4      1     3    0    0    4  514    1    4\n",
      "CT3        8    0    2      1     1    0    0    2    0  524    0\n",
      "CT4       16    3    5      6     9    0    4    4    1    2  492\n",
      "\n",
      "Classification Report :\n",
      "               precision    recall  f1-score   support\n",
      "\n",
      "        NORM       0.99      1.00      1.00     16163\n",
      "         TEM       0.98      0.90      0.94       540\n",
      "         PM1       0.94      0.97      0.96       512\n",
      "       PM2_5       0.93      0.91      0.92       538\n",
      "        PM10       0.91      0.87      0.89       548\n",
      "          CO       0.99      0.97      0.98       565\n",
      "         NH3       0.94      0.91      0.92       571\n",
      "         CT1       0.91      0.94      0.92       540\n",
      "         CT2       0.99      0.95      0.97       543\n",
      "         CT3       0.99      0.97      0.98       538\n",
      "         CT4       0.90      0.91      0.91       542\n",
      "\n",
      "    accuracy                           0.98     21600\n",
      "   macro avg       0.95      0.94      0.94     21600\n",
      "weighted avg       0.98      0.98      0.98     21600\n",
      "\n",
      "\n",
      "*** End of KNN modeling report for all 10 features ***\n",
      "\n"
     ]
    }
   ],
   "source": [
    "# knn report\n",
    "\n",
    "dfcm = knn_report(best_k, y_test, y_pred, ALL_LABELS, title=\"all 10 features\")"
   ]
  },
  {
   "cell_type": "code",
   "execution_count": 16,
   "id": "0e6dbfc4-9c5f-4898-b4fd-58f534c61106",
   "metadata": {},
   "outputs": [
    {
     "data": {
      "image/png": "[encoded data removed]",
      "text/plain": [
       "<Figure size 700x500 with 2 Axes>"
      ]
     },
     "metadata": {},
     "output_type": "display_data"
    },
    {
     "name": "stdout",
     "output_type": "stream",
     "text": [
      "elapsed time: 2.83 seconds\n"
     ]
    }
   ],
   "source": [
    "# knn confusion matrix heatmap chart\n",
    "start = time.time()\n",
    "\n",
    "pngfile = \"knn-cm-heatmap-all.png\"\n",
    "knn_cm_heatmap(dfcm, title=\"all 10 features\", pngfile=pngfile)\n",
    "\n",
    "_elapsed = time.time() - _start\n",
    "print(f\"elapsed time: {human.format_timespan(_elapsed)}\")"
   ]
  },
  {
   "cell_type": "markdown",
   "id": "2ac4aef8-d0b3-4d7f-aadb-7dfb4f4047da",
   "metadata": {},
   "source": [
    "### KNN trainned model usage example \n",
    "- save trainned model to a file by trainning program\n",
    "- load the saved model by another predicting program\n",
    "- do predicting"
   ]
  },
  {
   "cell_type": "code",
   "execution_count": 17,
   "id": "aa5f2f24-54de-4074-9c62-d15625b64dac",
   "metadata": {},
   "outputs": [
    {
     "name": "stdout",
     "output_type": "stream",
     "text": [
      "Temporary joblib file created: C:\\Users\\user\\AppData\\Local\\Temp\\knn-model-all_schh321e.joblib\n"
     ]
    }
   ],
   "source": [
    "# Save model to a named temporary file\n",
    "temp_joblib_file = None\n",
    "with tempfile.NamedTemporaryFile(prefix=\"knn-model-all_\", suffix=\".joblib\", dir=None, delete=False) as temp_file:\n",
    "    joblib.dump(model, temp_file)\n",
    "    temp_joblib_file = temp_file.name\n",
    "    print(f\"Temporary joblib file created: {temp_joblib_file}\")"
   ]
  },
  {
   "cell_type": "code",
   "execution_count": 18,
   "id": "37de5559-bfec-407d-9ebd-de445a66cb04",
   "metadata": {},
   "outputs": [
    {
     "name": "stdout",
     "output_type": "stream",
     "text": [
      "Temporary joblib file loaded: C:\\Users\\user\\AppData\\Local\\Temp\\knn-model-all_schh321e.joblib\n",
      "load model test data:\n",
      "             TEM   PM1  PM2_5  PM10     CO   NH3  CT1  CT2  CT3  CT4\n",
      "36349  40.599998  13.0   13.0  15.0  162.0  89.0  0.9  1.0  0.4  0.5\n",
      "loaded model predicted value match with expected value: NORM, NORM\n"
     ]
    }
   ],
   "source": [
    "# Load the model from the file\n",
    "load_model = joblib.load(temp_joblib_file)\n",
    "print(f\"Temporary joblib file loaded: {temp_joblib_file}\")\n",
    "\n",
    "load_test = X_test.iloc[0:1]\n",
    "expect_y = y_pred[0:1]\n",
    "print(f\"load model test data:\\n{load_test.to_string()}\")\n",
    "\n",
    "predict_y = knn_predict(load_model, load_test)\n",
    "if predict_y[0] == expect_y[0]:\n",
    "    print(f\"loaded model predicted value match with expected value: {predict_y[0]}, {expect_y[0]}\")\n",
    "else:\n",
    "    print(f\"loaded model predicted value unmatch with expected value: {predict_y[0]}, {expect_y[0]}\")"
   ]
  },
  {
   "cell_type": "code",
   "execution_count": 19,
   "id": "da15bf1e-77b1-486f-9571-1c124b94e039",
   "metadata": {},
   "outputs": [
    {
     "name": "stdout",
     "output_type": "stream",
     "text": [
      "Temporary joblib file deleted: C:\\Users\\user\\AppData\\Local\\Temp\\knn-model-all_schh321e.joblib\n"
     ]
    }
   ],
   "source": [
    "# Delete the model file\n",
    "os.remove(temp_joblib_file)\n",
    "print(f\"Temporary joblib file deleted: {temp_joblib_file}\")"
   ]
  },
  {
   "cell_type": "markdown",
   "id": "93c2020a-b05e-4ce3-b9e1-ffe9de919cd1",
   "metadata": {},
   "source": [
    "### KNN modeling with 2 features for 2-D visualization "
   ]
  },
  {
   "cell_type": "code",
   "execution_count": null,
   "id": "a8a1dc11-ade4-4736-aad2-27ac76201b47",
   "metadata": {},
   "outputs": [
    {
     "name": "stdout",
     "output_type": "stream",
     "text": [
      "param_grid={'n_neighbors': range(2, 12)}\n",
      "Fitting 4 folds for each of 10 candidates, totalling 40 fits\n",
      "[CV 1/4] END .....................n_neighbors=2;, score=0.988 total time=   2.3s\n",
      "[CV 2/4] END .....................n_neighbors=2;, score=0.981 total time=   2.5s\n",
      "[CV 3/4] END .....................n_neighbors=2;, score=0.981 total time=   2.5s\n",
      "[CV 4/4] END .....................n_neighbors=2;, score=0.980 total time=   2.4s\n",
      "[CV 1/4] END .....................n_neighbors=3;, score=0.988 total time=   2.5s\n",
      "[CV 2/4] END .....................n_neighbors=3;, score=0.990 total time=   2.1s\n",
      "[CV 3/4] END .....................n_neighbors=3;, score=0.989 total time=   2.1s\n",
      "[CV 4/4] END .....................n_neighbors=3;, score=0.989 total time=   2.1s\n",
      "[CV 1/4] END .....................n_neighbors=4;, score=0.989 total time=   2.1s\n",
      "[CV 2/4] END .....................n_neighbors=4;, score=0.990 total time=   2.1s\n",
      "[CV 3/4] END .....................n_neighbors=4;, score=0.989 total time=   2.2s\n",
      "[CV 4/4] END .....................n_neighbors=4;, score=0.989 total time=   2.2s\n",
      "[CV 1/4] END .....................n_neighbors=5;, score=0.988 total time=   2.2s\n",
      "[CV 2/4] END .....................n_neighbors=5;, score=0.990 total time=   2.2s\n",
      "[CV 3/4] END .....................n_neighbors=5;, score=0.989 total time=   2.1s\n",
      "[CV 4/4] END .....................n_neighbors=5;, score=0.989 total time=   2.2s\n",
      "[CV 1/4] END .....................n_neighbors=6;, score=0.988 total time=   2.1s\n",
      "[CV 2/4] END .....................n_neighbors=6;, score=0.990 total time=   2.2s\n",
      "[CV 3/4] END .....................n_neighbors=6;, score=0.989 total time=   2.2s\n",
      "[CV 4/4] END .....................n_neighbors=6;, score=0.989 total time=   2.2s\n",
      "[CV 1/4] END .....................n_neighbors=7;, score=0.988 total time=   2.2s\n",
      "[CV 2/4] END .....................n_neighbors=7;, score=0.990 total time=   2.1s\n"
     ]
    }
   ],
   "source": [
    "_start = time.time()\n",
    "\n",
    "# data  feature, column name and labels for flag column value\n",
    "TWO_ILABELS = [0, 1, 6]  # 0 for normal, 1 for outlier-tem, 6 for outlier-nh3\n",
    "TWO_COLUMNS = [conf.COLUMN_NAMES[TWO_ILABELS[1]], conf.COLUMN_NAMES[TWO_ILABELS[2]]]\n",
    "TWO_LABELS = [\"NORM\"] + TWO_COLUMNS  # NORM for normal, other are for outlier\n",
    "\n",
    "# data\n",
    "X = dfknn.loc[:, TWO_COLUMNS]\n",
    "\n",
    "# label\n",
    "y = dfknn.loc[:, [conf.COLUMN_FLAG]].copy()  # dataframe\n",
    "# clear non-candidate column's flag value\n",
    "y.loc[(y[conf.COLUMN_FLAG] != TWO_ILABELS[1]) & (y[conf.COLUMN_FLAG] != TWO_ILABELS[2]), conf.COLUMN_FLAG] = 0\n",
    "y = y[conf.COLUMN_FLAG]  # series\n",
    "# map y, label values TWO_INDEXES to TWO_LABELS\n",
    "y = make_strlabel(y, TWO_ILABELS, TWO_LABELS)\n",
    "\n",
    "best_k, model, X_test, y_test = knn_train(X, y, TWO_COLUMNS, TWO_LABELS)\n",
    "\n",
    "_elapsed = time.time() - _start\n",
    "print(f\"elapsed time: {human.format_timespan(_elapsed)}\")"
   ]
  },
  {
   "cell_type": "code",
   "execution_count": null,
   "id": "568e465c-8558-4a55-b9b6-e7342350d094",
   "metadata": {},
   "outputs": [],
   "source": [
    "# knn predict\n",
    "_start = time.time()\n",
    "\n",
    "y_pred = knn_predict(model, X_test)\n",
    "\n",
    "_elapsed = time.time() - _start\n",
    "print(f\"elapsed time: {human.format_timespan(_elapsed)}\")"
   ]
  },
  {
   "cell_type": "code",
   "execution_count": null,
   "id": "c25d7deb-bfe3-4b7b-ae79-048a1c8699ce",
   "metadata": {},
   "outputs": [],
   "source": [
    "# knn report\n",
    "\n",
    "dfcm = knn_report(best_k, y_test, y_pred, TWO_LABELS, title=\" & \".join(TWO_COLUMNS))"
   ]
  },
  {
   "cell_type": "code",
   "execution_count": null,
   "id": "d9d322c5-b4df-46dd-ba7b-c85686d6c83a",
   "metadata": {},
   "outputs": [],
   "source": [
    "# knn confusion matrix heatmap chart\n",
    "start = time.time()\n",
    "\n",
    "pngfile = f\"knn-cm-heatmap-{'-'.join(TWO_COLUMNS)}.png\"\n",
    "knn_cm_heatmap(dfcm, title=f\"2 features - {' & '.join(TWO_COLUMNS)}\", pngfile=pngfile)\n",
    "\n",
    "_elapsed = time.time() - _start\n",
    "print(f\"elapsed time: {human.format_timespan(_elapsed)}\")"
   ]
  },
  {
   "cell_type": "code",
   "execution_count": null,
   "id": "f4a06b94-bbac-43f5-9f49-bf0467b1a49b",
   "metadata": {},
   "outputs": [],
   "source": [
    "# knn decision boundary scatter, 2-D visualization\n",
    "start = time.time()\n",
    "\n",
    "pngfile = f\"knn-db-scatter-{'-'.join(TWO_COLUMNS)}.png\"\n",
    "knn_2fs_db_scatter(X, y, model, best_k, title=\" & \".join(TWO_COLUMNS), pngfile=pngfile)\n",
    "\n",
    "_elapsed = time.time() - _start\n",
    "print(f\"elapsed time: {human.format_timespan(_elapsed)}\")"
   ]
  },
  {
   "cell_type": "code",
   "execution_count": null,
   "id": "22e09d7e-7e75-4daa-b92c-82b188c48176",
   "metadata": {},
   "outputs": [],
   "source": [
    "_elapsed = time.time() - mainstart\n",
    "print(f\"main elapsed time: {human.format_timespan(_elapsed)}\")"
   ]
  },
  {
   "cell_type": "markdown",
   "id": "f7a3a254-c4fb-4802-95f6-acdf51645c93",
   "metadata": {},
   "source": [
    "### eof"
   ]
  }
 ],
 "metadata": {
  "kernelspec": {
   "display_name": "Python 3 (ipykernel)",
   "language": "python",
   "name": "python3"
  },
  "language_info": {
   "codemirror_mode": {
    "name": "ipython",
    "version": 3
   },
   "file_extension": ".py",
   "mimetype": "text/x-python",
   "name": "python",
   "nbconvert_exporter": "python",
   "pygments_lexer": "ipython3",
   "version": "3.12.3"
  }
 },
 "nbformat": 4,
 "nbformat_minor": 5
}
