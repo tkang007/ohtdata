{
 "cells": [
  {
   "cell_type": "code",
   "execution_count": 1,
   "id": "ee712d33-11ce-42e9-994c-51f199abee7f",
   "metadata": {},
   "outputs": [],
   "source": [
    "# filename: knn.ipynb\n",
    "# purpose: knn model implement"
   ]
  },
  {
   "cell_type": "markdown",
   "id": "33fced73-cab1-4cd4-a90f-dde6cce3f2b7",
   "metadata": {},
   "source": [
    "# OHT KNN model implement"
   ]
  },
  {
   "cell_type": "markdown",
   "id": "10234657-944c-4cb7-a5d0-7b65e51fa1e7",
   "metadata": {},
   "source": [
    "### KNN implements\n",
    "- KNN classification method will be used to detect abnormal,outlier data\n",
    "\n",
    "### Processing flow\n",
    "- Read mixed dataset from dukdb table\n",
    "- Reduce dataset to the required volumn\n",
    "- Convert int label in flag column to str label for easier understaing of the classification report\n",
    "- Split training and test dataset and labels\n",
    "- Search best-K value in the configured neighbor range \n",
    "- KNN train with the searched best K value \n",
    "- Predict with test dataset\n",
    "- Report the prediction report with best-K, accuracy score, confusion matrix (precision,recall,f-score,support)\n",
    "- Chart confunsion matrix by heatmap\n",
    "- Chart decision boundary scatter with 2 features\n",
    "  "
   ]
  },
  {
   "cell_type": "code",
   "execution_count": 2,
   "id": "7337bee0-a4ea-44e3-bdc9-98b3fa5afb7d",
   "metadata": {},
   "outputs": [],
   "source": [
    "# packages\n",
    "import time\n",
    "import os\n",
    "import pathlib\n",
    "import tempfile\n",
    "import numpy as np\n",
    "import pandas as pd\n",
    "from pprint import pprint\n",
    "import humanfriendly as human\n",
    "\n",
    "import matplotlib.pyplot as plt\n",
    "from matplotlib.colors import ListedColormap\n",
    "import seaborn as sns\n",
    "\n",
    "from sklearn.neighbors import KNeighborsClassifier\n",
    "from sklearn.preprocessing import StandardScaler\n",
    "from sklearn.model_selection import train_test_split, GridSearchCV\n",
    "from sklearn.metrics import accuracy_score, confusion_matrix, classification_report\n",
    "import joblib\n",
    "\n",
    "import ohtconf as conf\n",
    "import ohtcomm as comm"
   ]
  },
  {
   "cell_type": "markdown",
   "id": "8b5f48bc-e00c-4eba-a5bb-cb9934b6d212",
   "metadata": {},
   "source": [
    "## Main"
   ]
  },
  {
   "cell_type": "code",
   "execution_count": 3,
   "id": "874bef55-ee79-49b9-b065-114a33754b9e",
   "metadata": {},
   "outputs": [],
   "source": [
    "mainstart = time.time()"
   ]
  },
  {
   "cell_type": "code",
   "execution_count": 4,
   "id": "973484d5-9801-4aaa-8f1f-9debdb04897a",
   "metadata": {},
   "outputs": [],
   "source": [
    "USESCALE = False  # no big difference between feature scaling or not"
   ]
  },
  {
   "cell_type": "code",
   "execution_count": 5,
   "id": "bb12cad8-33a2-45e3-ad1d-e45650a68689",
   "metadata": {},
   "outputs": [
    {
     "name": "stdout",
     "output_type": "stream",
     "text": [
      "row count, dfmix=108000, dfknn=108000, expected dfknn=800000\n",
      "elapsed time: 0.11 seconds\n"
     ]
    }
   ],
   "source": [
    "# read table data\n",
    "_start = time.time()\n",
    "\n",
    "dfmix = comm.read_tabdf(conf.TABNAME_MIX)\n",
    "dfmix.sort_values(by=conf.COLUMN_NAMES[0], inplace=True)\n",
    "dfmix.reset_index(drop=True, inplace=True)\n",
    "\n",
    "dfknn = dfmix.iloc[0 : conf.TRAIN_SIZE]  # execution time key factor\n",
    "\n",
    "# type convert to prevent model fit, RuntimeWarning: invalid value encountered in cast\n",
    "type_dict = {col: np.float32 for col in conf.COLUMN_GRAPH}\n",
    "dfknn = dfknn.astype(type_dict)\n",
    "\n",
    "print(f\"row count, dfmix={len(dfmix)}, dfknn={len(dfknn)}, expected dfknn={conf.TRAIN_SIZE}\")\n",
    "\n",
    "_elapsed = time.time() - _start\n",
    "print(f\"elapsed time: {human.format_timespan(_elapsed)}\")"
   ]
  },
  {
   "cell_type": "markdown",
   "id": "32348a9b-f97f-440e-9982-6c30967a3d0c",
   "metadata": {},
   "source": [
    "### Common functions"
   ]
  },
  {
   "cell_type": "code",
   "execution_count": 6,
   "id": "b8dcc475-2e90-4c28-99eb-db7e7f28abe0",
   "metadata": {},
   "outputs": [],
   "source": [
    "def make_strlabel(ay: pd.Series, intlabels: list[int] | None = None, strlabels: list[str] | None = None) -> pd.Series:\n",
    "    \"\"\"map int labels to str labels\n",
    "\n",
    "    map values (0~10) to (NORM,TEM,...,CT3)\n",
    "    \"\"\"\n",
    "    if intlabels is None or strlabels is None:\n",
    "        all_columns = conf.COLUMN_GRAPH\n",
    "        intlabels = list(range(0, 11))  # 0 ~ 10 for normal, outlier-tem,...,outlier-ct4 flag\n",
    "        strlabels = [\"NORM\"] + all_columns  # NORM for normal, others are for outlier\n",
    "\n",
    "    label_dict = {i: s for i, s in zip(intlabels, strlabels)}\n",
    "    ay = ay.map(label_dict)\n",
    "    return ay"
   ]
  },
  {
   "cell_type": "code",
   "execution_count": 7,
   "id": "59fb587c-54a9-47ef-864b-97878979350d",
   "metadata": {},
   "outputs": [],
   "source": [
    "def make_intlabel(ay: pd.Series, strlabels: list[str] | None = None, intlabels: list[int] | None = None) -> pd.Series:\n",
    "    \"\"\"map str labels to int labels\n",
    "\n",
    "    map values (NORM,TEM,...,CT3) to (0~10)\n",
    "    \"\"\"\n",
    "    if intlabels is None or strlabels is None:\n",
    "        all_columns = conf.COLUMN_GRAPH\n",
    "        intlabels = list(range(0, 11))  # 0 ~ 10 for normal, outlier-tem,...,outlier-ct4 flag\n",
    "        strlabels = [\"NORM\"] + all_columns  # NORM for normal, others are for outlier\n",
    "\n",
    "    label_dict = {s: i for s, i in zip(strlabels, intlabels)}\n",
    "    ay = ay.map(label_dict)\n",
    "    return ay"
   ]
  },
  {
   "cell_type": "code",
   "execution_count": 8,
   "id": "4ce31076-b0ce-41d2-93e1-a0685efe1e3b",
   "metadata": {},
   "outputs": [],
   "source": [
    "def calc_neighbors(\n",
    "    ay: pd.Series, minv: int | None = None, maxv: int | None = None, stepv: int | None = None\n",
    ") -> list[int]:\n",
    "    \"\"\"calc neighbors candidates based on target class count\"\"\"\n",
    "    nunique = ay.nunique()\n",
    "    minv = nunique if minv is None else minv\n",
    "    maxv = 11 * nunique if maxv is None else maxv\n",
    "    if stepv is None:\n",
    "        gapv = maxv - minv\n",
    "        if gapv < 16:\n",
    "            stepv = 1\n",
    "        elif gapv < 1024:\n",
    "            stepv = gapv // 10\n",
    "        else:\n",
    "            stepv = gapv // 100\n",
    "\n",
    "    neighbors = list(range(minv, maxv, stepv))\n",
    "    assert len(neighbors) > 0, f\"calc_neighbors invalid neighbors={neighbors}, minv={minv},maxv={maxv},stepv={stepv}\"\n",
    "    print(f\"calc neighbors count={len(neighbors)}, value={neighbors}\")\n",
    "    return neighbors"
   ]
  },
  {
   "cell_type": "code",
   "execution_count": 9,
   "id": "5cbe0cfc-6d56-4cce-bf76-8062b2b3ad43",
   "metadata": {},
   "outputs": [],
   "source": [
    "def knn_train(\n",
    "    X: pd.DataFrame, y: pd.Series, columns: list[str], labels: list[str], neighbors: list[int] | None = None\n",
    ") -> tuple[int, KNeighborsClassifier, pd.DataFrame, pd.Series]:\n",
    "    \"\"\"knn modle training\"\"\"\n",
    "\n",
    "    def do_x_scale(ax: pd.DataFrame, acolumns: list[str]) -> pd.DataFrame:\n",
    "        \"\"\"standardize feature values\"\"\"\n",
    "        if USESCALE:\n",
    "            scaler = StandardScaler()\n",
    "            ax = pd.DataFrame(scaler.fit_transform(ax), columns=acolumns)\n",
    "        return ax\n",
    "\n",
    "    def do_grid_search(xtrain: pd.DataFrame, ytrain: pd.Series, aneighbors: list[int]) -> GridSearchCV:\n",
    "        \"\"\"grid search for the best k value\"\"\"\n",
    "        _start = time.time()\n",
    "        knn = KNeighborsClassifier()  # Create KNN classifier\n",
    "\n",
    "        param_grid = {\"n_neighbors\": aneighbors}  # Grid search for optimal K value\n",
    "        print(f\"param_grid={param_grid}\")\n",
    "\n",
    "        # K-fold Cross-Validation: Divide the dataset into K folds, cv.\n",
    "        # Train the model on K-1 folds and evaluate on the remaining fold. Repeat this K times, rotating the validation fold.\n",
    "        gsearch = GridSearchCV(estimator=knn, param_grid=param_grid, cv=4, verbose=3)\n",
    "\n",
    "        # verbose 0 (default): No output is printed.\n",
    "        # verbose 1: The number of iterations, the current score, and the best score so far are printed.\n",
    "        # verbose 2: The same information as verbose=1, plus the parameters of the current model being evaluated.\n",
    "        # verbose 3: The same information as verbose=2, plus the scores for each cross-validation fold.\n",
    "        gsearch.fit(xtrain, ytrain)\n",
    "\n",
    "        # Print the best score and best estimator\n",
    "        print(\"Best score:\", gsearch.best_score_)\n",
    "        print(\"Best params:\", gsearch.best_params_)\n",
    "        print(\"Cross Validation results:\")\n",
    "        pprint(gsearch.cv_results_)\n",
    "\n",
    "        _elapsed = time.time() - _start\n",
    "        print(f\"do_grid_search elapsed time: {human.format_timespan(_elapsed)}\")\n",
    "        return gsearch\n",
    "\n",
    "    def do_knn_train(xtrain: pd.DataFrame, ytrain: pd.Series, best_k: int) -> KNeighborsClassifier:\n",
    "        _start = time.time()\n",
    "        # model with best K\n",
    "        amodel = KNeighborsClassifier(n_neighbors=best_k)\n",
    "        amodel.fit(xtrain, ytrain)\n",
    "        _elapsed = time.time() - _start\n",
    "        print(f\"do_knn_train elapsed time: {human.format_timespan(_elapsed)}\")\n",
    "        return amodel\n",
    "\n",
    "    #\n",
    "    _start = time.time()\n",
    "\n",
    "    # x scaling\n",
    "    if USESCALE:\n",
    "        X = do_x_scale(X, columns)\n",
    "\n",
    "    # split data into training and testing sets\n",
    "    X_train, X_test, y_train, y_test = train_test_split(X, y, test_size=0.2, random_state=42)  # 20% test set\n",
    "\n",
    "    # search best_k by using grid serarch\n",
    "    if neighbors is None:\n",
    "        neighbors = calc_neighbors(y)\n",
    "\n",
    "    gridsearch = do_grid_search(X_train, y_train, neighbors)\n",
    "\n",
    "    best_k = gridsearch.best_params_[\"n_neighbors\"]\n",
    "\n",
    "    # knn train with best_k\n",
    "    model = do_knn_train(X_train, y_train, best_k)\n",
    "\n",
    "    _elapsed = time.time() - _start\n",
    "    print(f\"knn_train elapsed time: {human.format_timespan(_elapsed)}\")\n",
    "\n",
    "    return best_k, model, X_test, y_test"
   ]
  },
  {
   "cell_type": "code",
   "execution_count": 10,
   "id": "73c13fff-2262-404f-b63a-c43c5eba4cd3",
   "metadata": {},
   "outputs": [],
   "source": [
    "def knn_predict(amodel: KNeighborsClassifier, xtest: pd.DataFrame) -> pd.Series:\n",
    "    # predictions\n",
    "    ypred = model.predict(xtest)\n",
    "    return ypred"
   ]
  },
  {
   "cell_type": "code",
   "execution_count": 11,
   "id": "fa7b70b0-33d6-4f70-97f2-1c145349e4a0",
   "metadata": {},
   "outputs": [],
   "source": [
    "def knn_report(bestk: int, ytest: pd.Series, ypred: pd.Series, labels: list[str], title: str) -> pd.DataFrame:\n",
    "    print(f\"\\n*** Start of KNN modeling report for {title} ***\\n\")\n",
    "\n",
    "    # best_k\n",
    "    print(f\"\\nBest K = {bestk}\")\n",
    "\n",
    "    # Accuracy score = (TP + TN) / (TP + TN + FP + FN)\n",
    "    accuracy = accuracy_score(ytest, ypred)\n",
    "    print(\"\\nAccuracy Score = \", accuracy)\n",
    "\n",
    "    # Confusion Matrix\n",
    "    #                   Predicted Positive\tPredicted Negative\n",
    "    # Actual Positive\tTrue Positive (TP)\tFalse Negative (FN)\n",
    "    # Actual Negative\tFalse Positive (FP)\tTrue Negative (TN)\n",
    "    cm = confusion_matrix(ytest, ypred, labels=labels)\n",
    "    dfcm = pd.DataFrame(cm, index=labels, columns=labels)\n",
    "    print(\"\\nConfusion Matrix :\\n\", dfcm)\n",
    "\n",
    "    # Classification Report\n",
    "    # Precisoin = TP / (TP + FP)\n",
    "    # Recall (Sensitivity) = TP / (TP + FN)\n",
    "    # F1 Score = 2 * (Precision x Recall) / (Precision + Recall)\n",
    "    # Support - instances of class in the dataset\n",
    "\n",
    "    report = classification_report(ytest, ypred, labels=labels)\n",
    "    print(\"\\nClassification Report :\\n\", report)\n",
    "\n",
    "    print(f\"\\n*** End of KNN modeling report for {title} ***\\n\")\n",
    "\n",
    "    return dfcm"
   ]
  },
  {
   "cell_type": "code",
   "execution_count": 12,
   "id": "70bb2645-542b-4987-854b-0f5cc4228d95",
   "metadata": {},
   "outputs": [],
   "source": [
    "def knn_cm_heatmap(dfcm: pd.DataFrame, title: str, pngfile: str) -> None:\n",
    "    \"\"\"knn confusion matrix heatmap\n",
    "\n",
    "    A confusion matrix helps you understand the performance of the classification algorithm by showing the true vs. predicted labels\n",
    "    \"\"\"\n",
    "    fig, ox = plt.subplots(nrows=1, ncols=1, figsize=conf.PLOTSIZE)\n",
    "    sns.heatmap(dfcm, annot=True, cmap=\"coolwarm\", linewidths=0.5, fmt=\"d\", ax=ox)\n",
    "    ox.xaxis.tick_top()\n",
    "    ox.tick_params(top=True, labeltop=True, bottom=False, labelbottom=False)\n",
    "    ox.set_xlabel(\"Predicted\", labelpad=15)\n",
    "    ox.set_ylabel(\"Actual\")\n",
    "\n",
    "    fig.suptitle(f\"Confusion Matrix of {title}\")\n",
    "\n",
    "    plt.tight_layout()\n",
    "    plt.show()\n",
    "\n",
    "    if pngfile is not None:\n",
    "        pngfile = pngfile.lower()\n",
    "        filepath = pathlib.Path(conf.DIRCHART) / pngfile\n",
    "        fig.savefig(\n",
    "            filepath,\n",
    "            dpi=conf.DPI,\n",
    "            facecolor=\"w\",\n",
    "            edgecolor=\"w\",\n",
    "            orientation=\"portrait\",\n",
    "            format=None,\n",
    "            transparent=False,\n",
    "            bbox_inches=None,\n",
    "            pad_inches=None,\n",
    "        )"
   ]
  },
  {
   "cell_type": "code",
   "execution_count": 13,
   "id": "95dd84a7-4217-48cd-b744-0d125474cda3",
   "metadata": {},
   "outputs": [],
   "source": [
    "def knn_2fs_db_scatter(\n",
    "    ax: pd.DataFrame, ay: pd.Series, amodel: KNeighborsClassifier, bestk: int, title: str, pngfile: str\n",
    "):\n",
    "    \"\"\"knn 2 features decison boundary scatter\n",
    "\n",
    "    This plot shows how the KNN algorithm classifies different regions of the feature space.\n",
    "    \"\"\"\n",
    "\n",
    "    assert len(ax.columns) == 2, \"knn_2feature_decision_boundary should have 2 features\"\n",
    "\n",
    "    # Create color maps\n",
    "    light_colors = [\n",
    "        \"#FFDDC1\",\n",
    "        \"#FFABAB\",\n",
    "        \"#FFC3A0\",\n",
    "        \"#FF677D\",\n",
    "        \"#D4A5A5\",\n",
    "        \"#392F5A\",\n",
    "        \"#31A2AC\",\n",
    "        \"#61C0BF\",\n",
    "        \"#6B4226\",\n",
    "        \"#D9BF77\",\n",
    "    ]\n",
    "    bold_colors = [\n",
    "        \"#E6194B\",\n",
    "        \"#3CB44B\",\n",
    "        \"#FFE119\",\n",
    "        \"#4363D8\",\n",
    "        \"#F58231\",\n",
    "        \"#911EB4\",\n",
    "        \"#42D4F4\",\n",
    "        \"#F032E6\",\n",
    "        \"#BFEF45\",\n",
    "        \"#FABED4\",\n",
    "    ]\n",
    "\n",
    "    cmap_light = ListedColormap(light_colors)\n",
    "    cmap_bold = ListedColormap(bold_colors)\n",
    "\n",
    "    # Create a mesh grid for plotting decision boundaries\n",
    "    x_add = 10 if ax.iloc[:, 0].max() / 100 >= 1 else 1\n",
    "    y_add = 10 if ax.iloc[:, 1].max() / 100 >= 1 else 1\n",
    "    x_min, x_max = ax.iloc[:, 0].min() - x_add, ax.iloc[:, 0].max() + x_add\n",
    "    y_min, y_max = ax.iloc[:, 1].min() - y_add, ax.iloc[:, 1].max() + y_add\n",
    "\n",
    "    # Predict the class for each point in the mesh grid\n",
    "    xx, yy = np.meshgrid(np.arange(x_min, x_max, 1), np.arange(y_min, y_max, 1))\n",
    "\n",
    "    # np.c_[array,array] - translates slice objects to concatenation along the second axis. xx.ravel() - return flattened array,\n",
    "    dfgrid = pd.DataFrame(np.c_[xx.ravel(), yy.ravel()], columns=ax.columns)\n",
    "    # print(f\"type dfgrid={type(dfgrid)}, dfgrid={dfgrid.head()}\")\n",
    "    Z = amodel.predict(dfgrid)  # 1-d array\n",
    "    Z = pd.Series(Z)  # convert to pd.Series to use map\n",
    "    Z = make_intlabel(Z)  # predicted str label map to int label for using color map at pcolormesh()\n",
    "    Z = Z.to_numpy()  # convert to 1-d array\n",
    "    Z = Z.reshape(xx.shape)  # reshape\n",
    "\n",
    "    # Plot also the training points\n",
    "    fig, ox = plt.subplots(nrows=1, ncols=1, figsize=conf.PLOTSIZE)\n",
    "\n",
    "    # print(f\"type xx={type(xx)}, yy={type(yy)}, Z={type(Z)}\"); print(f\"valuex x={xx[:3]}, yy={yy[:3]} Z={Z[:3]}\")\n",
    "    ox.pcolormesh(xx, yy, Z, cmap=cmap_light)\n",
    "\n",
    "    # Plot the training points\n",
    "    # c=y - sequence of n numbers to be mapped to colors using *cmap*\n",
    "    yi = make_intlabel(ay)\n",
    "    ox.scatter(ax.iloc[:, 0], ax.iloc[:, 1], c=yi, cmap=cmap_bold, edgecolor=\"k\", s=10)\n",
    "    ox.set_xlim(xx.min(), xx.max())\n",
    "    ox.set_ylim(yy.min(), yy.max())\n",
    "    ox.set_xlabel(ax.columns[0])\n",
    "    ox.set_ylabel(ax.columns[1])\n",
    "\n",
    "    fig.suptitle(f\"K={bestk} class classification of {title}\")\n",
    "\n",
    "    plt.show()\n",
    "\n",
    "    if pngfile is not None:\n",
    "        pngfile = pngfile.lower()\n",
    "        filepath = pathlib.Path(conf.DIRCHART) / pngfile\n",
    "        fig.savefig(\n",
    "            filepath,\n",
    "            dpi=conf.DPI,\n",
    "            facecolor=\"w\",\n",
    "            edgecolor=\"w\",\n",
    "            orientation=\"portrait\",\n",
    "            format=None,\n",
    "            transparent=False,\n",
    "            bbox_inches=None,\n",
    "            pad_inches=None,\n",
    "        )"
   ]
  },
  {
   "cell_type": "markdown",
   "id": "f9fc15fb-59f7-403d-b2d0-4f62c8414889",
   "metadata": {},
   "source": [
    "### KNN modeling with all 10 features"
   ]
  },
  {
   "cell_type": "code",
   "execution_count": 14,
   "id": "1bf64396-66ce-4d11-a463-1efac0ea2a94",
   "metadata": {},
   "outputs": [
    {
     "name": "stdout",
     "output_type": "stream",
     "text": [
      "calc neighbors count=10, value=[11, 22, 33, 44, 55, 66, 77, 88, 99, 110]\n",
      "param_grid={'n_neighbors': [11, 22, 33, 44, 55, 66, 77, 88, 99, 110]}\n",
      "Fitting 4 folds for each of 10 candidates, totalling 40 fits\n",
      "[CV 1/4] END ....................n_neighbors=11;, score=0.966 total time=   2.3s\n",
      "[CV 2/4] END ....................n_neighbors=11;, score=0.968 total time=   2.2s\n",
      "[CV 3/4] END ....................n_neighbors=11;, score=0.965 total time=   1.8s\n",
      "[CV 4/4] END ....................n_neighbors=11;, score=0.964 total time=   1.7s\n",
      "[CV 1/4] END ....................n_neighbors=22;, score=0.964 total time=   2.2s\n",
      "[CV 2/4] END ....................n_neighbors=22;, score=0.965 total time=   2.0s\n",
      "[CV 3/4] END ....................n_neighbors=22;, score=0.961 total time=   2.1s\n",
      "[CV 4/4] END ....................n_neighbors=22;, score=0.960 total time=   2.2s\n",
      "[CV 1/4] END ....................n_neighbors=33;, score=0.968 total time=   2.5s\n",
      "[CV 2/4] END ....................n_neighbors=33;, score=0.968 total time=   2.4s\n",
      "[CV 3/4] END ....................n_neighbors=33;, score=0.966 total time=   2.5s\n",
      "[CV 4/4] END ....................n_neighbors=33;, score=0.965 total time=   2.4s\n",
      "[CV 1/4] END ....................n_neighbors=44;, score=0.967 total time=   2.6s\n",
      "[CV 2/4] END ....................n_neighbors=44;, score=0.968 total time=   2.5s\n",
      "[CV 3/4] END ....................n_neighbors=44;, score=0.967 total time=   2.8s\n",
      "[CV 4/4] END ....................n_neighbors=44;, score=0.965 total time=   2.7s\n",
      "[CV 1/4] END ....................n_neighbors=55;, score=0.968 total time=   2.8s\n",
      "[CV 2/4] END ....................n_neighbors=55;, score=0.969 total time=   2.5s\n",
      "[CV 3/4] END ....................n_neighbors=55;, score=0.968 total time=   2.9s\n",
      "[CV 4/4] END ....................n_neighbors=55;, score=0.968 total time=   2.8s\n",
      "[CV 1/4] END ....................n_neighbors=66;, score=0.966 total time=   2.9s\n",
      "[CV 2/4] END ....................n_neighbors=66;, score=0.967 total time=   3.0s\n",
      "[CV 3/4] END ....................n_neighbors=66;, score=0.966 total time=   2.9s\n",
      "[CV 4/4] END ....................n_neighbors=66;, score=0.967 total time=   3.0s\n",
      "[CV 1/4] END ....................n_neighbors=77;, score=0.964 total time=   3.1s\n",
      "[CV 2/4] END ....................n_neighbors=77;, score=0.965 total time=   3.2s\n",
      "[CV 3/4] END ....................n_neighbors=77;, score=0.963 total time=   3.1s\n",
      "[CV 4/4] END ....................n_neighbors=77;, score=0.964 total time=   3.0s\n",
      "[CV 1/4] END ....................n_neighbors=88;, score=0.961 total time=   3.0s\n",
      "[CV 2/4] END ....................n_neighbors=88;, score=0.963 total time=   3.3s\n",
      "[CV 3/4] END ....................n_neighbors=88;, score=0.959 total time=   3.2s\n",
      "[CV 4/4] END ....................n_neighbors=88;, score=0.961 total time=   3.1s\n",
      "[CV 1/4] END ....................n_neighbors=99;, score=0.958 total time=   3.2s\n",
      "[CV 2/4] END ....................n_neighbors=99;, score=0.961 total time=   3.3s\n",
      "[CV 3/4] END ....................n_neighbors=99;, score=0.957 total time=   3.1s\n",
      "[CV 4/4] END ....................n_neighbors=99;, score=0.959 total time=   3.4s\n",
      "[CV 1/4] END ...................n_neighbors=110;, score=0.956 total time=   3.2s\n",
      "[CV 2/4] END ...................n_neighbors=110;, score=0.960 total time=   3.3s\n",
      "[CV 3/4] END ...................n_neighbors=110;, score=0.956 total time=   3.4s\n",
      "[CV 4/4] END ...................n_neighbors=110;, score=0.957 total time=   3.4s\n",
      "Best score: 0.9683101851851852\n",
      "Best params: {'n_neighbors': 55}\n",
      "Cross Validation results:\n",
      "{'mean_fit_time': array([0.16392308, 0.13923591, 0.16474497, 0.1493634 , 0.14490581,\n",
      "       0.15229815, 0.1721437 , 0.15110767, 0.1419546 , 0.16423106]),\n",
      " 'mean_score_time': array([1.96740872, 2.08902818, 2.39116091, 2.57812434, 2.69191718,\n",
      "       2.87331456, 3.06004924, 3.08245599, 3.18254149, 3.27636451]),\n",
      " 'mean_test_score': array([0.9655787 , 0.96248843, 0.96679398, 0.96684028, 0.96831019,\n",
      "       0.96672454, 0.96402778, 0.96116898, 0.95896991, 0.95711806]),\n",
      " 'param_n_neighbors': masked_array(data=[11, 22, 33, 44, 55, 66, 77, 88, 99, 110],\n",
      "             mask=[False, False, False, False, False, False, False, False,\n",
      "                   False, False],\n",
      "       fill_value=999999),\n",
      " 'params': [{'n_neighbors': 11},\n",
      "            {'n_neighbors': 22},\n",
      "            {'n_neighbors': 33},\n",
      "            {'n_neighbors': 44},\n",
      "            {'n_neighbors': 55},\n",
      "            {'n_neighbors': 66},\n",
      "            {'n_neighbors': 77},\n",
      "            {'n_neighbors': 88},\n",
      "            {'n_neighbors': 99},\n",
      "            {'n_neighbors': 110}],\n",
      " 'rank_test_score': array([ 5,  7,  3,  2,  1,  4,  6,  8,  9, 10], dtype=int32),\n",
      " 'split0_test_score': array([0.96587963, 0.96356481, 0.96782407, 0.9674537 , 0.96810185,\n",
      "       0.96638889, 0.96365741, 0.96060185, 0.95800926, 0.9562963 ]),\n",
      " 'split1_test_score': array([0.96759259, 0.96481481, 0.96847222, 0.96791667, 0.96935185,\n",
      "       0.96740741, 0.96541667, 0.96314815, 0.96143519, 0.95986111]),\n",
      " 'split2_test_score': array([0.96453704, 0.96115741, 0.96601852, 0.96680556, 0.9675463 ,\n",
      "       0.96578704, 0.96263889, 0.95944444, 0.95717593, 0.95560185]),\n",
      " 'split3_test_score': array([0.96430556, 0.96041667, 0.96486111, 0.96518519, 0.96824074,\n",
      "       0.96731481, 0.96439815, 0.96148148, 0.95925926, 0.95671296]),\n",
      " 'std_fit_time': array([0.02601451, 0.00748147, 0.01200635, 0.01334609, 0.00807163,\n",
      "       0.0136875 , 0.00739215, 0.01105648, 0.00643777, 0.02450031]),\n",
      " 'std_score_time': array([0.23199511, 0.08798584, 0.04891187, 0.09090117, 0.12573162,\n",
      "       0.03596068, 0.06895234, 0.0815908 , 0.10099866, 0.07155482]),\n",
      " 'std_test_score': array([0.00130884, 0.00177725, 0.00143308, 0.00103386, 0.00065514,\n",
      "       0.00067199, 0.00101641, 0.00135189, 0.00160488, 0.00163268])}\n",
      "do_grid_search elapsed time: 1 minute and 55.36 seconds\n",
      "do_knn_train elapsed time: 0.24 seconds\n",
      "knn_train elapsed time: 1 minute and 55.61 seconds\n",
      "elapsed time: 1 minute and 55.62 seconds\n"
     ]
    }
   ],
   "source": [
    "# knn training\n",
    "_start = time.time()\n",
    "\n",
    "# data  feature, column name and labels for flag column value\n",
    "ALL_ILABELS = list(range(0, 11))  # 0 ~ 10 for normal, outlier-tem,...,outlier-ct4 flag\n",
    "ALL_COLUMNS = conf.COLUMN_GRAPH\n",
    "ALL_LABELS = [\"NORM\"] + ALL_COLUMNS  # NORM for normal, others are for outlier\n",
    "\n",
    "# data\n",
    "X = dfknn.loc[:, ALL_COLUMNS]\n",
    "\n",
    "# label\n",
    "y = dfknn.loc[:, [conf.COLUMN_FLAG]].copy()  # dataframe\n",
    "y = y[conf.COLUMN_FLAG]  # series\n",
    "y = make_strlabel(\n",
    "    y, ALL_ILABELS, ALL_LABELS\n",
    ")  # map y, number labels(0~10) to str labels (NORM,TEM,...,CT3) for easier report understanding\n",
    "\n",
    "\n",
    "best_k, model, X_test, y_test = knn_train(X, y, ALL_COLUMNS, ALL_LABELS, neighbors=calc_neighbors(y))\n",
    "\n",
    "_elapsed = time.time() - _start\n",
    "print(f\"elapsed time: {human.format_timespan(_elapsed)}\")"
   ]
  },
  {
   "cell_type": "code",
   "execution_count": 15,
   "id": "fa5ea9bf-b674-42f3-bf86-d39299f0bbf2",
   "metadata": {},
   "outputs": [
    {
     "name": "stdout",
     "output_type": "stream",
     "text": [
      "elapsed time: 3.35 seconds\n"
     ]
    }
   ],
   "source": [
    "# knn predict\n",
    "_start = time.time()\n",
    "\n",
    "y_pred = knn_predict(model, X_test)\n",
    "\n",
    "_elapsed = time.time() - _start\n",
    "print(f\"elapsed time: {human.format_timespan(_elapsed)}\")"
   ]
  },
  {
   "cell_type": "code",
   "execution_count": 16,
   "id": "356f6e77-cd35-466e-9a4f-ad39af77dddd",
   "metadata": {},
   "outputs": [
    {
     "name": "stdout",
     "output_type": "stream",
     "text": [
      "\n",
      "*** Start of KNN modeling report for all 10 features ***\n",
      "\n",
      "\n",
      "Best K = 55\n",
      "\n",
      "Accuracy Score =  0.9677777777777777\n",
      "\n",
      "Confusion Matrix :\n",
      "         NORM  TEM  PM1  PM2_5  PM10   CO  NH3  CT1  CT2  CT3  CT4\n",
      "NORM   16158    0    0      0     3    2    0    0    0    0    0\n",
      "TEM       40  449    7      0    10    0    0   11    6    4   13\n",
      "PM1       26    0  458      4     4    0    1    9    0    1    9\n",
      "PM2_5     26    0    4    486    11    0    2    3    1    1    4\n",
      "PM10      69    0    2      0   469    0    0    2    1    1    4\n",
      "CO        26    0    0      0     0  539    0    0    0    0    0\n",
      "NH3       46    3    4      4     3    0  492    6    4    0    9\n",
      "CT1       33    0    6      1    12    0    0  466    4    3   15\n",
      "CT2       38    2    9      1     0    0    0    8  469    4   12\n",
      "CT3       55    1    7      0     0    0    0    6    4  455   10\n",
      "CT4       46    0    6      0     1    0    0   11    7    8  463\n",
      "\n",
      "Classification Report :\n",
      "               precision    recall  f1-score   support\n",
      "\n",
      "        NORM       0.98      1.00      0.99     16163\n",
      "         TEM       0.99      0.83      0.90       540\n",
      "         PM1       0.91      0.89      0.90       512\n",
      "       PM2_5       0.98      0.90      0.94       538\n",
      "        PM10       0.91      0.86      0.88       548\n",
      "          CO       1.00      0.95      0.97       565\n",
      "         NH3       0.99      0.86      0.92       571\n",
      "         CT1       0.89      0.86      0.88       540\n",
      "         CT2       0.95      0.86      0.90       543\n",
      "         CT3       0.95      0.85      0.90       538\n",
      "         CT4       0.86      0.85      0.86       542\n",
      "\n",
      "    accuracy                           0.97     21600\n",
      "   macro avg       0.95      0.88      0.91     21600\n",
      "weighted avg       0.97      0.97      0.97     21600\n",
      "\n",
      "\n",
      "*** End of KNN modeling report for all 10 features ***\n",
      "\n"
     ]
    }
   ],
   "source": [
    "# knn report\n",
    "\n",
    "dfcm = knn_report(best_k, y_test, y_pred, ALL_LABELS, title=\"all 10 features\")"
   ]
  },
  {
   "cell_type": "code",
   "execution_count": 17,
   "id": "0e6dbfc4-9c5f-4898-b4fd-58f534c61106",
   "metadata": {},
   "outputs": [
    {
     "data": {
      "image/png": "[encoded data removed]",
      "text/plain": [
       "<Figure size 700x500 with 2 Axes>"
      ]
     },
     "metadata": {},
     "output_type": "display_data"
    },
    {
     "name": "stdout",
     "output_type": "stream",
     "text": [
      "elapsed time: 4.35 seconds\n"
     ]
    }
   ],
   "source": [
    "# knn confusion matrix heatmap chart\n",
    "start = time.time()\n",
    "\n",
    "pngfile = \"knn-cm-heatmap-all.png\"\n",
    "knn_cm_heatmap(dfcm, title=\"all 10 features\", pngfile=pngfile)\n",
    "\n",
    "_elapsed = time.time() - _start\n",
    "print(f\"elapsed time: {human.format_timespan(_elapsed)}\")"
   ]
  },
  {
   "cell_type": "markdown",
   "id": "2ac4aef8-d0b3-4d7f-aadb-7dfb4f4047da",
   "metadata": {},
   "source": [
    "### KNN trainned model usage example \n",
    "- save trainned model to a file by trainning program\n",
    "- load the saved model by another predicting program\n",
    "- do predicting"
   ]
  },
  {
   "cell_type": "code",
   "execution_count": 18,
   "id": "aa5f2f24-54de-4074-9c62-d15625b64dac",
   "metadata": {},
   "outputs": [
    {
     "name": "stdout",
     "output_type": "stream",
     "text": [
      "Temporary joblib file created: C:\\Users\\user\\AppData\\Local\\Temp\\knn-model-all_2lpdrbor.joblib\n"
     ]
    }
   ],
   "source": [
    "# Save model to a named temporary file\n",
    "temp_joblib_file = None\n",
    "with tempfile.NamedTemporaryFile(prefix=\"knn-model-all_\", suffix=\".joblib\", dir=None, delete=False) as temp_file:\n",
    "    joblib.dump(model, temp_file)\n",
    "    temp_joblib_file = temp_file.name\n",
    "    print(f\"Temporary joblib file created: {temp_joblib_file}\")"
   ]
  },
  {
   "cell_type": "code",
   "execution_count": 19,
   "id": "37de5559-bfec-407d-9ebd-de445a66cb04",
   "metadata": {},
   "outputs": [
    {
     "name": "stdout",
     "output_type": "stream",
     "text": [
      "Temporary joblib file loaded: C:\\Users\\user\\AppData\\Local\\Temp\\knn-model-all_2lpdrbor.joblib\n",
      "load model test data:\n",
      "             TEM   PM1  PM2_5  PM10     CO   NH3  CT1  CT2  CT3  CT4\n",
      "36349  40.599998  13.0   13.0  15.0  162.0  89.0  0.9  1.0  0.4  0.5\n",
      "loaded model predicted value match with expected value: NORM, NORM\n"
     ]
    }
   ],
   "source": [
    "# Load the model from the file\n",
    "load_model = joblib.load(temp_joblib_file)\n",
    "print(f\"Temporary joblib file loaded: {temp_joblib_file}\")\n",
    "\n",
    "load_test = X_test.iloc[0:1]\n",
    "expect_y = y_pred[0:1]\n",
    "print(f\"load model test data:\\n{load_test.to_string()}\")\n",
    "\n",
    "predict_y = knn_predict(load_model, load_test)\n",
    "if predict_y[0] == expect_y[0]:\n",
    "    print(f\"loaded model predicted value match with expected value: {predict_y[0]}, {expect_y[0]}\")\n",
    "else:\n",
    "    print(f\"loaded model predicted value unmatch with expected value: {predict_y[0]}, {expect_y[0]}\")"
   ]
  },
  {
   "cell_type": "code",
   "execution_count": 20,
   "id": "da15bf1e-77b1-486f-9571-1c124b94e039",
   "metadata": {},
   "outputs": [
    {
     "name": "stdout",
     "output_type": "stream",
     "text": [
      "Temporary joblib file deleted: C:\\Users\\user\\AppData\\Local\\Temp\\knn-model-all_2lpdrbor.joblib\n"
     ]
    }
   ],
   "source": [
    "# Delete the model file\n",
    "os.remove(temp_joblib_file)\n",
    "print(f\"Temporary joblib file deleted: {temp_joblib_file}\")"
   ]
  },
  {
   "cell_type": "markdown",
   "id": "93c2020a-b05e-4ce3-b9e1-ffe9de919cd1",
   "metadata": {},
   "source": [
    "### KNN modeling with 2 features for 2-D visualization "
   ]
  },
  {
   "cell_type": "code",
   "execution_count": 21,
   "id": "a8a1dc11-ade4-4736-aad2-27ac76201b47",
   "metadata": {},
   "outputs": [
    {
     "name": "stdout",
     "output_type": "stream",
     "text": [
      "calc neighbors count=10, value=[3, 6, 9, 12, 15, 18, 21, 24, 27, 30]\n",
      "param_grid={'n_neighbors': [3, 6, 9, 12, 15, 18, 21, 24, 27, 30]}\n",
      "Fitting 4 folds for each of 10 candidates, totalling 40 fits\n",
      "[CV 1/4] END .....................n_neighbors=3;, score=0.990 total time=   2.6s\n",
      "[CV 2/4] END .....................n_neighbors=3;, score=0.991 total time=   2.2s\n",
      "[CV 3/4] END .....................n_neighbors=3;, score=0.990 total time=   2.3s\n",
      "[CV 4/4] END .....................n_neighbors=3;, score=0.991 total time=   2.3s\n",
      "[CV 1/4] END .....................n_neighbors=6;, score=0.991 total time=   2.2s\n",
      "[CV 2/4] END .....................n_neighbors=6;, score=0.991 total time=   2.2s\n",
      "[CV 3/4] END .....................n_neighbors=6;, score=0.990 total time=   2.4s\n",
      "[CV 4/4] END .....................n_neighbors=6;, score=0.991 total time=   2.7s\n",
      "[CV 1/4] END .....................n_neighbors=9;, score=0.990 total time=   2.8s\n",
      "[CV 2/4] END .....................n_neighbors=9;, score=0.991 total time=   2.8s\n",
      "[CV 3/4] END .....................n_neighbors=9;, score=0.990 total time=   2.8s\n",
      "[CV 4/4] END .....................n_neighbors=9;, score=0.991 total time=   2.2s\n",
      "[CV 1/4] END ....................n_neighbors=12;, score=0.991 total time=   2.1s\n",
      "[CV 2/4] END ....................n_neighbors=12;, score=0.991 total time=   2.2s\n",
      "[CV 3/4] END ....................n_neighbors=12;, score=0.990 total time=   2.7s\n",
      "[CV 4/4] END ....................n_neighbors=12;, score=0.991 total time=   2.5s\n",
      "[CV 1/4] END ....................n_neighbors=15;, score=0.991 total time=   2.6s\n",
      "[CV 2/4] END ....................n_neighbors=15;, score=0.991 total time=   2.5s\n",
      "[CV 3/4] END ....................n_neighbors=15;, score=0.990 total time=   2.5s\n",
      "[CV 4/4] END ....................n_neighbors=15;, score=0.991 total time=   2.2s\n",
      "[CV 1/4] END ....................n_neighbors=18;, score=0.990 total time=   2.1s\n",
      "[CV 2/4] END ....................n_neighbors=18;, score=0.991 total time=   2.1s\n",
      "[CV 3/4] END ....................n_neighbors=18;, score=0.990 total time=   2.1s\n",
      "[CV 4/4] END ....................n_neighbors=18;, score=0.991 total time=   2.2s\n",
      "[CV 1/4] END ....................n_neighbors=21;, score=0.991 total time=   2.2s\n",
      "[CV 2/4] END ....................n_neighbors=21;, score=0.991 total time=   2.2s\n",
      "[CV 3/4] END ....................n_neighbors=21;, score=0.990 total time=   2.2s\n",
      "[CV 4/4] END ....................n_neighbors=21;, score=0.991 total time=   2.1s\n",
      "[CV 1/4] END ....................n_neighbors=24;, score=0.991 total time=   2.2s\n",
      "[CV 2/4] END ....................n_neighbors=24;, score=0.991 total time=   2.3s\n",
      "[CV 3/4] END ....................n_neighbors=24;, score=0.990 total time=   2.1s\n",
      "[CV 4/4] END ....................n_neighbors=24;, score=0.991 total time=   2.1s\n",
      "[CV 1/4] END ....................n_neighbors=27;, score=0.991 total time=   2.3s\n",
      "[CV 2/4] END ....................n_neighbors=27;, score=0.991 total time=   2.2s\n",
      "[CV 3/4] END ....................n_neighbors=27;, score=0.990 total time=   2.2s\n",
      "[CV 4/4] END ....................n_neighbors=27;, score=0.991 total time=   2.2s\n",
      "[CV 1/4] END ....................n_neighbors=30;, score=0.991 total time=   2.2s\n",
      "[CV 2/4] END ....................n_neighbors=30;, score=0.991 total time=   2.3s\n",
      "[CV 3/4] END ....................n_neighbors=30;, score=0.990 total time=   2.3s\n",
      "[CV 4/4] END ....................n_neighbors=30;, score=0.991 total time=   2.2s\n",
      "Best score: 0.9905671296296297\n",
      "Best params: {'n_neighbors': 6}\n",
      "Cross Validation results:\n",
      "{'mean_fit_time': array([0.06641579, 0.06907558, 0.07276839, 0.06312889, 0.06689703,\n",
      "       0.06417394, 0.05901235, 0.05642319, 0.0636068 , 0.05974853]),\n",
      " 'mean_score_time': array([2.35884517, 2.41992098, 2.67841214, 2.3945322 , 2.49436307,\n",
      "       2.15958112, 2.20452976, 2.20780075, 2.24597281, 2.30389893]),\n",
      " 'mean_test_score': array([0.99046296, 0.99056713, 0.99046296, 0.99056713, 0.99056713,\n",
      "       0.99046296, 0.99056713, 0.99056713, 0.99056713, 0.99056713]),\n",
      " 'param_n_neighbors': masked_array(data=[3, 6, 9, 12, 15, 18, 21, 24, 27, 30],\n",
      "             mask=[False, False, False, False, False, False, False, False,\n",
      "                   False, False],\n",
      "       fill_value=999999),\n",
      " 'params': [{'n_neighbors': 3},\n",
      "            {'n_neighbors': 6},\n",
      "            {'n_neighbors': 9},\n",
      "            {'n_neighbors': 12},\n",
      "            {'n_neighbors': 15},\n",
      "            {'n_neighbors': 18},\n",
      "            {'n_neighbors': 21},\n",
      "            {'n_neighbors': 24},\n",
      "            {'n_neighbors': 27},\n",
      "            {'n_neighbors': 30}],\n",
      " 'rank_test_score': array([8, 1, 8, 1, 1, 8, 1, 1, 1, 1], dtype=int32),\n",
      " 'split0_test_score': array([0.99018519, 0.99060185, 0.99018519, 0.99060185, 0.99060185,\n",
      "       0.99018519, 0.99060185, 0.99060185, 0.99060185, 0.99060185]),\n",
      " 'split1_test_score': array([0.99083333, 0.99083333, 0.99083333, 0.99083333, 0.99083333,\n",
      "       0.99083333, 0.99083333, 0.99083333, 0.99083333, 0.99083333]),\n",
      " 'split2_test_score': array([0.98986111, 0.98986111, 0.98986111, 0.98986111, 0.98986111,\n",
      "       0.98986111, 0.98986111, 0.98986111, 0.98986111, 0.98986111]),\n",
      " 'split3_test_score': array([0.99097222, 0.99097222, 0.99097222, 0.99097222, 0.99097222,\n",
      "       0.99097222, 0.99097222, 0.99097222, 0.99097222, 0.99097222]),\n",
      " 'std_fit_time': array([0.00904532, 0.01014093, 0.00341019, 0.00546941, 0.00348667,\n",
      "       0.01007654, 0.00513213, 0.00570391, 0.00573488, 0.00419901]),\n",
      " 'std_score_time': array([0.13553191, 0.19028222, 0.28765184, 0.22171645, 0.14016036,\n",
      "       0.03770461, 0.033602  , 0.07323074, 0.04489608, 0.06014983]),\n",
      " 'std_test_score': array([0.00045714, 0.00042855, 0.00045714, 0.00042855, 0.00042855,\n",
      "       0.00045714, 0.00042855, 0.00042855, 0.00042855, 0.00042855])}\n",
      "do_grid_search elapsed time: 1 minute and 36.66 seconds\n",
      "do_knn_train elapsed time: 0.08 seconds\n",
      "knn_train elapsed time: 1 minute and 36.75 seconds\n",
      "elapsed time: 1 minute and 36.76 seconds\n"
     ]
    }
   ],
   "source": [
    "_start = time.time()\n",
    "\n",
    "# data  feature, column name and labels for flag column value\n",
    "TWO_ILABELS = [0, 1, 6]  # 0 for normal, 1 for outlier-tem, 6 for outlier-nh3\n",
    "TWO_COLUMNS = [conf.COLUMN_NAMES[TWO_ILABELS[1]], conf.COLUMN_NAMES[TWO_ILABELS[2]]]\n",
    "TWO_LABELS = [\"NORM\"] + TWO_COLUMNS  # NORM for normal, other are for outlier\n",
    "\n",
    "# data\n",
    "X = dfknn.loc[:, TWO_COLUMNS]\n",
    "\n",
    "# label\n",
    "y = dfknn.loc[:, [conf.COLUMN_FLAG]].copy()  # dataframe\n",
    "# clear non-candidate column's flag value\n",
    "y.loc[(y[conf.COLUMN_FLAG] != TWO_ILABELS[1]) & (y[conf.COLUMN_FLAG] != TWO_ILABELS[2]), conf.COLUMN_FLAG] = 0\n",
    "y = y[conf.COLUMN_FLAG]  # series\n",
    "# map y, label values TWO_INDEXES to TWO_LABELS\n",
    "y = make_strlabel(y, TWO_ILABELS, TWO_LABELS)\n",
    "\n",
    "best_k, model, X_test, y_test = knn_train(X, y, TWO_COLUMNS, TWO_LABELS, neighbors=calc_neighbors(y))\n",
    "\n",
    "_elapsed = time.time() - _start\n",
    "print(f\"elapsed time: {human.format_timespan(_elapsed)}\")"
   ]
  },
  {
   "cell_type": "code",
   "execution_count": 22,
   "id": "568e465c-8558-4a55-b9b6-e7342350d094",
   "metadata": {},
   "outputs": [
    {
     "name": "stdout",
     "output_type": "stream",
     "text": [
      "elapsed time: 2.75 seconds\n"
     ]
    }
   ],
   "source": [
    "# knn predict\n",
    "_start = time.time()\n",
    "\n",
    "y_pred = knn_predict(model, X_test)\n",
    "\n",
    "_elapsed = time.time() - _start\n",
    "print(f\"elapsed time: {human.format_timespan(_elapsed)}\")"
   ]
  },
  {
   "cell_type": "code",
   "execution_count": 23,
   "id": "c25d7deb-bfe3-4b7b-ae79-048a1c8699ce",
   "metadata": {},
   "outputs": [
    {
     "name": "stdout",
     "output_type": "stream",
     "text": [
      "\n",
      "*** Start of KNN modeling report for TEM & NH3 ***\n",
      "\n",
      "\n",
      "Best K = 6\n",
      "\n",
      "Accuracy Score =  0.9894444444444445\n",
      "\n",
      "Confusion Matrix :\n",
      "        NORM  TEM  NH3\n",
      "NORM  20470    0   19\n",
      "TEM     116  424    0\n",
      "NH3      93    0  478\n",
      "\n",
      "Classification Report :\n",
      "               precision    recall  f1-score   support\n",
      "\n",
      "        NORM       0.99      1.00      0.99     20489\n",
      "         TEM       1.00      0.79      0.88       540\n",
      "         NH3       0.96      0.84      0.90       571\n",
      "\n",
      "    accuracy                           0.99     21600\n",
      "   macro avg       0.98      0.87      0.92     21600\n",
      "weighted avg       0.99      0.99      0.99     21600\n",
      "\n",
      "\n",
      "*** End of KNN modeling report for TEM & NH3 ***\n",
      "\n"
     ]
    }
   ],
   "source": [
    "# knn report\n",
    "\n",
    "dfcm = knn_report(best_k, y_test, y_pred, TWO_LABELS, title=\" & \".join(TWO_COLUMNS))"
   ]
  },
  {
   "cell_type": "code",
   "execution_count": 24,
   "id": "d9d322c5-b4df-46dd-ba7b-c85686d6c83a",
   "metadata": {},
   "outputs": [
    {
     "data": {
      "image/png": "[encoded data removed]",
      "text/plain": [
       "<Figure size 700x500 with 2 Axes>"
      ]
     },
     "metadata": {},
     "output_type": "display_data"
    },
    {
     "name": "stdout",
     "output_type": "stream",
     "text": [
      "elapsed time: 3.49 seconds\n"
     ]
    }
   ],
   "source": [
    "# knn confusion matrix heatmap chart\n",
    "start = time.time()\n",
    "\n",
    "pngfile = f\"knn-cm-heatmap-{'-'.join(TWO_COLUMNS)}.png\"\n",
    "knn_cm_heatmap(dfcm, title=f\"2 features - {' & '.join(TWO_COLUMNS)}\", pngfile=pngfile)\n",
    "\n",
    "_elapsed = time.time() - _start\n",
    "print(f\"elapsed time: {human.format_timespan(_elapsed)}\")"
   ]
  },
  {
   "cell_type": "code",
   "execution_count": 25,
   "id": "f4a06b94-bbac-43f5-9f49-bf0467b1a49b",
   "metadata": {},
   "outputs": [
    {
     "data": {
      "image/png": "[encoded data removed]",
      "text/plain": [
       "<Figure size 700x500 with 1 Axes>"
      ]
     },
     "metadata": {},
     "output_type": "display_data"
    },
    {
     "name": "stdout",
     "output_type": "stream",
     "text": [
      "elapsed time: 6.11 seconds\n"
     ]
    }
   ],
   "source": [
    "# knn decision boundary scatter, 2-D visualization\n",
    "start = time.time()\n",
    "\n",
    "pngfile = f\"knn-db-scatter-{'-'.join(TWO_COLUMNS)}.png\"\n",
    "knn_2fs_db_scatter(X, y, model, best_k, title=\" & \".join(TWO_COLUMNS), pngfile=pngfile)\n",
    "\n",
    "_elapsed = time.time() - _start\n",
    "print(f\"elapsed time: {human.format_timespan(_elapsed)}\")"
   ]
  },
  {
   "cell_type": "code",
   "execution_count": 26,
   "id": "22e09d7e-7e75-4daa-b92c-82b188c48176",
   "metadata": {},
   "outputs": [
    {
     "name": "stdout",
     "output_type": "stream",
     "text": [
      "main elapsed time: 3 minutes and 43.11 seconds\n"
     ]
    }
   ],
   "source": [
    "_elapsed = time.time() - mainstart\n",
    "print(f\"main elapsed time: {human.format_timespan(_elapsed)}\")"
   ]
  },
  {
   "cell_type": "markdown",
   "id": "f7a3a254-c4fb-4802-95f6-acdf51645c93",
   "metadata": {},
   "source": [
    "### eof"
   ]
  }
 ],
 "metadata": {
  "kernelspec": {
   "display_name": "Python 3 (ipykernel)",
   "language": "python",
   "name": "python3"
  },
  "language_info": {
   "codemirror_mode": {
    "name": "ipython",
    "version": 3
   },
   "file_extension": ".py",
   "mimetype": "text/x-python",
   "name": "python",
   "nbconvert_exporter": "python",
   "pygments_lexer": "ipython3",
   "version": "3.12.3"
  }
 },
 "nbformat": 4,
 "nbformat_minor": 5
}
