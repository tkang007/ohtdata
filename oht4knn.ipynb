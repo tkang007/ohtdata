{
 "cells": [
  {
   "cell_type": "code",
   "execution_count": null,
   "id": "ee712d33-11ce-42e9-994c-51f199abee7f",
   "metadata": {},
   "outputs": [],
   "source": [
    "# filename: knn.ipynb\n",
    "# purpose: knn model implemenation"
   ]
  },
  {
   "cell_type": "markdown",
   "id": "33fced73-cab1-4cd4-a90f-dde6cce3f2b7",
   "metadata": {},
   "source": [
    "# OHT knn model implementation "
   ]
  },
  {
   "cell_type": "markdown",
   "id": "10234657-944c-4cb7-a5d0-7b65e51fa1e7",
   "metadata": {},
   "source": [
    "### KNN implementation method \n",
    "- aaa\n",
    "\n",
    "### Processing flow\n",
    "- aaa"
   ]
  },
  {
   "cell_type": "code",
   "execution_count": null,
   "id": "7337bee0-a4ea-44e3-bdc9-98b3fa5afb7d",
   "metadata": {},
   "outputs": [],
   "source": [
    "# packages\n",
    "import time\n",
    "import pathlib\n",
    "import numpy as np\n",
    "import pandas as pd\n",
    "\n",
    "import humanfriendly as human\n",
    "\n",
    "from sklearn.neighbors import KNeighborsClassifier\n",
    "from sklearn.preprocessing import StandardScaler\n",
    "from sklearn.model_selection import train_test_split, GridSearchCV\n",
    "from sklearn.metrics import accuracy_score, confusion_matrix, classification_report\n",
    "\n",
    "import matplotlib.pyplot as plt\n",
    "\n",
    "# Plotting decision boundaries\n",
    "from matplotlib.colors import ListedColormap\n",
    "\n",
    "import ohtconf as conf\n",
    "import ohtcomm as comm"
   ]
  },
  {
   "cell_type": "markdown",
   "id": "8b5f48bc-e00c-4eba-a5bb-cb9934b6d212",
   "metadata": {},
   "source": [
    "## Main"
   ]
  },
  {
   "cell_type": "code",
   "execution_count": null,
   "id": "874bef55-ee79-49b9-b065-114a33754b9e",
   "metadata": {},
   "outputs": [],
   "source": [
    "mainstart = time.time()"
   ]
  },
  {
   "cell_type": "code",
   "execution_count": null,
   "id": "bb12cad8-33a2-45e3-ad1d-e45650a68689",
   "metadata": {},
   "outputs": [],
   "source": [
    "# read table data\n",
    "_start = time.time()\n",
    "\n",
    "dfmix = comm.read_tabdf(conf.TABNAME_MIX)\n",
    "dfmix.sort_values(by=conf.COLUMN_NAMES[0], inplace=True)\n",
    "dfmix.reset_index(drop=True, inplace=True)\n",
    "\n",
    "_elapsed = time.time() - _start\n",
    "print(f\"elapsed time: {human.format_timespan(_elapsed)}\")"
   ]
  },
  {
   "cell_type": "code",
   "execution_count": null,
   "id": "973484d5-9801-4aaa-8f1f-9debdb04897a",
   "metadata": {},
   "outputs": [],
   "source": [
    "USESCALE = False  # no big difference between feature scaling or not"
   ]
  },
  {
   "cell_type": "markdown",
   "id": "f9fc15fb-59f7-403d-b2d0-4f62c8414889",
   "metadata": {},
   "source": [
    "### KNN with all, 10 fetures"
   ]
  },
  {
   "cell_type": "code",
   "execution_count": null,
   "id": "1bf64396-66ce-4d11-a463-1efac0ea2a94",
   "metadata": {},
   "outputs": [],
   "source": [
    "_start = time.time()\n",
    "\n",
    "# Split features and label\n",
    "X = dfmix.loc[:, conf.COLUMN_GRAPH]\n",
    "y = dfmix[conf.COLUMN_FLAG]  # series for 1-d array\n",
    "\n",
    "# Feature scaling\n",
    "if USESCALE:\n",
    "    scaler = StandardScaler()\n",
    "    X = pd.DataFrame(scaler.fit_transform(X), columns=conf.COLUMN_GRAPH)\n",
    "\n",
    "# Split data into training and testing sets\n",
    "X_train, X_test, y_train, y_test = train_test_split(X, y, test_size=0.2, random_state=42)\n",
    "\n",
    "_elapsed = time.time() - _start\n",
    "print(f\"elapsed time: {human.format_timespan(_elapsed)}\")"
   ]
  },
  {
   "cell_type": "code",
   "execution_count": null,
   "id": "516599d4-e162-4701-884d-01537968dbb3",
   "metadata": {},
   "outputs": [],
   "source": [
    "# check data\n",
    "if 1 == 1:\n",
    "    print(f\"data type X={type(X)}, X_train={type(X_train)}, y_train={type(y_train)}\")\n",
    "    print(f\"X_train={X_train[:3]}\")\n",
    "    print(f\"X_test={X_test[:3]}\")\n",
    "    print(f\"y_train={y_train[:3]}\")\n",
    "    print(f\"y_test={y_test[:3]}\")"
   ]
  },
  {
   "cell_type": "code",
   "execution_count": null,
   "id": "124108da-cf25-4900-863e-7559f47a56dc",
   "metadata": {},
   "outputs": [],
   "source": [
    "_start = time.time()\n",
    "\n",
    "# Create KNN classifier\n",
    "knn = KNeighborsClassifier()\n",
    "\n",
    "# Grid search for optimal K value\n",
    "param_grid = {\"n_neighbors\": conf.N_NEIGHBORS}\n",
    "print(f\"param_grid={param_grid}\")\n",
    "\n",
    "# K-fold Cross-Validation: Divide the dataset into K folds. Train the model on K-1 folds and evaluate on the remaining fold.\n",
    "# Repeat this K times, rotating the validation fold.\n",
    "grid_search = GridSearchCV(knn, param_grid, cv=4, verbose=3)  # cv for cross validator folds\n",
    "grid_search.fit(X_train, y_train)\n",
    "\n",
    "# Best K value\n",
    "best_k = grid_search.best_params_[\"n_neighbors\"]\n",
    "print(f\"best_k={best_k} on param_grid={param_grid}\")\n",
    "\n",
    "_elapsed = time.time() - _start\n",
    "print(f\"elapsed time: {human.format_timespan(_elapsed)}\")"
   ]
  },
  {
   "cell_type": "code",
   "execution_count": null,
   "id": "989b5b9a-69a6-4af7-9125-d3ac062f8c5f",
   "metadata": {},
   "outputs": [],
   "source": [
    "_start = time.time()\n",
    "\n",
    "# Final model with best K\n",
    "final_model = KNeighborsClassifier(n_neighbors=best_k)\n",
    "final_model.fit(X_train, y_train)\n",
    "\n",
    "_elapsed = time.time() - _start\n",
    "print(f\"elapsed time: {human.format_timespan(_elapsed)}\")"
   ]
  },
  {
   "cell_type": "code",
   "execution_count": null,
   "id": "c16b201f-0863-488a-8423-638422ea3531",
   "metadata": {},
   "outputs": [],
   "source": [
    "_start = time.time()\n",
    "\n",
    "# Predictions\n",
    "y_pred = final_model.predict(X_test)\n",
    "\n",
    "_elapsed = time.time() - _start\n",
    "print(f\"elapsed time: {human.format_timespan(_elapsed)}\")"
   ]
  },
  {
   "cell_type": "code",
   "execution_count": null,
   "id": "4739dc2f-fabc-4f3f-8317-7fe66875d899",
   "metadata": {},
   "outputs": [],
   "source": [
    "# Accuracy score\n",
    "print(\"Accuracy Score:\", accuracy_score(y_test, y_pred))\n",
    "\n",
    "# Confusion Matrix\n",
    "print(\"\\nConfusion Matrix:\\n\", confusion_matrix(y_test, y_pred))\n",
    "\n",
    "# Classification Report\n",
    "print(\"\\nClassification Report:\\n\", classification_report(y_test, y_pred))"
   ]
  },
  {
   "cell_type": "markdown",
   "id": "93c2020a-b05e-4ce3-b9e1-ffe9de919cd1",
   "metadata": {},
   "source": [
    "### KNN with selected 2 fetures for 2-D visualization "
   ]
  },
  {
   "cell_type": "code",
   "execution_count": null,
   "id": "a8a1dc11-ade4-4736-aad2-27ac76201b47",
   "metadata": {},
   "outputs": [],
   "source": [
    "_start = time.time()\n",
    "\n",
    "# Choose 2 fetures.  considered PCA feature reducing method, but choose 2 fetures after correlation matrix heatmap analysis\n",
    "COLUMN_NAMES_KNN = [conf.COLUMN_NAMES[1], conf.COLUMN_NAMES[6]]\n",
    "COLUMN_FLAGS_KNN = [1, 6]\n",
    "X = dfmix.loc[:, COLUMN_NAMES_KNN]  # TEM, NH3\n",
    "\n",
    "# Update label, flag for 2 features\n",
    "y = dfmix.loc[:, [conf.COLUMN_FLAG]]\n",
    "y.loc[(y[conf.COLUMN_FLAG] != COLUMN_FLAGS_KNN[0]) & (y[conf.COLUMN_FLAG] != COLUMN_FLAGS_KNN[1]), conf.COLUMN_FLAG] = (\n",
    "    0  # clear other column flag\n",
    ")\n",
    "y = y[conf.COLUMN_FLAG]  # series for 1-d array\n",
    "\n",
    "# Feature scaling\n",
    "if USESCALE:\n",
    "    scaler = StandardScaler()\n",
    "    X = pd.DataFrame(scaler.fit_transform(X), columns=COLUMN_NAMES_KNN)\n",
    "\n",
    "# Split data into training and testing sets\n",
    "X_train, X_test, y_train, y_test = train_test_split(X, y, test_size=0.2, random_state=42)\n",
    "\n",
    "_elapsed = time.time() - _start\n",
    "print(f\"elapsed time: {human.format_timespan(_elapsed)}\")"
   ]
  },
  {
   "cell_type": "code",
   "execution_count": null,
   "id": "568e465c-8558-4a55-b9b6-e7342350d094",
   "metadata": {},
   "outputs": [],
   "source": [
    "_start = time.time()\n",
    "\n",
    "# Create KNN classifier\n",
    "knn = KNeighborsClassifier()\n",
    "\n",
    "# Grid search for optimal K value\n",
    "param_grid = {\"n_neighbors\": conf.N_NEIGHBORS}\n",
    "print(f\"param_grid={param_grid}\")\n",
    "\n",
    "# K-fold Cross-Validation: Divide the dataset into K folds. Train the model on K-1 folds and evaluate on the remaining fold.\n",
    "# Repeat this K times, rotating the validation fold.\n",
    "grid_search = GridSearchCV(knn, param_grid, cv=4, verbose=3)  # cv for cross validator folds\n",
    "grid_search.fit(X_train, y_train)\n",
    "\n",
    "# Best K value\n",
    "best_k = grid_search.best_params_[\"n_neighbors\"]\n",
    "print(f\"best_k={best_k} on param_grid={param_grid}\")\n",
    "\n",
    "_elapsed = time.time() - _start\n",
    "print(f\"elapsed time: {human.format_timespan(_elapsed)}\")"
   ]
  },
  {
   "cell_type": "code",
   "execution_count": null,
   "id": "c25d7deb-bfe3-4b7b-ae79-048a1c8699ce",
   "metadata": {},
   "outputs": [],
   "source": [
    "_start = time.time()\n",
    "\n",
    "# Final model with best K\n",
    "final_model = KNeighborsClassifier(n_neighbors=best_k)\n",
    "final_model.fit(X_train, y_train)\n",
    "\n",
    "_elapsed = time.time() - _start\n",
    "print(f\"Rea elapsed time: {human.format_timespan(_elapsed)}\")"
   ]
  },
  {
   "cell_type": "code",
   "execution_count": null,
   "id": "d9d322c5-b4df-46dd-ba7b-c85686d6c83a",
   "metadata": {},
   "outputs": [],
   "source": [
    "_start = time.time()\n",
    "\n",
    "# Predictions\n",
    "y_pred = final_model.predict(X_test)\n",
    "\n",
    "_elapsed = time.time() - _start\n",
    "print(f\"Rea elapsed time: {human.format_timespan(_elapsed)}\")"
   ]
  },
  {
   "cell_type": "code",
   "execution_count": null,
   "id": "b2d51f9a-e8c4-4c7d-9a67-7cae9d37d294",
   "metadata": {},
   "outputs": [],
   "source": [
    "# Accuracy score\n",
    "print(\"Accuracy Score:\", accuracy_score(y_test, y_pred))\n",
    "\n",
    "# Confusion Matrix\n",
    "print(\"\\nConfusion Matrix:\\n\", confusion_matrix(y_test, y_pred))\n",
    "\n",
    "# Classification Report\n",
    "print(\"\\nClassification Report:\\n\", classification_report(y_test, y_pred))"
   ]
  },
  {
   "cell_type": "code",
   "execution_count": null,
   "id": "f4a06b94-bbac-43f5-9f49-bf0467b1a49b",
   "metadata": {},
   "outputs": [],
   "source": [
    "# Visualize KNN Decision boundaries\n",
    "\n",
    "# Create a mesh grid for plotting decision boundaries\n",
    "x_min, x_max = X.iloc[:, 0].min() - 1, X.iloc[:, 0].max() + 1\n",
    "y_min, y_max = X.iloc[:, 1].min() - 10, X.iloc[:, 1].max() + 10\n",
    "xx, yy = np.meshgrid(np.arange(x_min, x_max, 1), np.arange(y_min, y_max, 1))\n",
    "\n",
    "# Predict the class for each point in the mesh grid\n",
    "# xx.ravel() - return flattened array\n",
    "# np.c_[array,array] - translates slice objects to concatenation along the second axis.\n",
    "dfgrid = pd.DataFrame(np.c_[xx.ravel(), yy.ravel()], columns=COLUMN_NAMES_KNN)\n",
    "Z = final_model.predict(dfgrid)\n",
    "Z = Z.reshape(xx.shape)\n",
    "\n",
    "# Plot the decision boundaries\n",
    "cmap_light = ListedColormap([\"#FFAAAA\", \"#AAFFAA\", \"#AAAAFF\"])\n",
    "cmap_bold = ListedColormap([\"#FF0000\", \"#00FF00\", \"#0000FF\"])\n",
    "\n",
    "fig, ax = plt.subplots(nrows=1, ncols=1, figsize=conf.PLOTSIZE)\n",
    "ax.pcolormesh(xx, yy, Z, cmap=cmap_light)\n",
    "\n",
    "# Plot the training points\n",
    "# c=y - sequence of n numbers to be mapped to colors using *cmap*\n",
    "ax.scatter(X.iloc[:, 0], X.iloc[:, 1], c=y, cmap=cmap_bold, edgecolor=\"k\", s=10, alpha=0.5)\n",
    "ax.set_xlim(xx.min(), xx.max())\n",
    "ax.set_ylim(yy.min(), yy.max())\n",
    "ax.set_xlabel(COLUMN_NAMES_KNN[0])\n",
    "ax.set_ylabel(COLUMN_NAMES_KNN[1])\n",
    "ax.set_title(\" & \".join(COLUMN_NAMES_KNN))\n",
    "\n",
    "fig.suptitle(f\"KNN Decision Boundaries with 2 features (k={best_k})\")\n",
    "\n",
    "plt.tight_layout()\n",
    "plt.show()\n",
    "\n",
    "pngfile = \"knn-scatter-\" + \"-\".join(COLUMN_NAMES_KNN) + \".png\"\n",
    "if pngfile is not None:\n",
    "    pngfile = pngfile.lower()\n",
    "    filepath = pathlib.Path(conf.DIRCHART) / pngfile\n",
    "    fig.savefig(\n",
    "        filepath,\n",
    "        dpi=conf.DPI,\n",
    "        facecolor=\"w\",\n",
    "        edgecolor=\"w\",\n",
    "        orientation=\"portrait\",\n",
    "        format=None,\n",
    "        transparent=False,\n",
    "        bbox_inches=None,\n",
    "        pad_inches=None,\n",
    "    )"
   ]
  },
  {
   "cell_type": "code",
   "execution_count": null,
   "id": "22e09d7e-7e75-4daa-b92c-82b188c48176",
   "metadata": {},
   "outputs": [],
   "source": []
  }
 ],
 "metadata": {
  "kernelspec": {
   "display_name": "Python 3 (ipykernel)",
   "language": "python",
   "name": "python3"
  },
  "language_info": {
   "codemirror_mode": {
    "name": "ipython",
    "version": 3
   },
   "file_extension": ".py",
   "mimetype": "text/x-python",
   "name": "python",
   "nbconvert_exporter": "python",
   "pygments_lexer": "ipython3",
   "version": "3.12.3"
  }
 },
 "nbformat": 4,
 "nbformat_minor": 5
}
