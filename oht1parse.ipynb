{
 "cells": [
  {
   "cell_type": "code",
   "execution_count": 1,
   "id": "d083a42c-c52b-4a6a-b6c3-966f0b260ab6",
   "metadata": {},
   "outputs": [],
   "source": [
    "# filename: arse.ipynb\n",
    "# purpose: parse input dataset files and save to duckdb file"
   ]
  },
  {
   "cell_type": "markdown",
   "id": "20f72892-e2ae-45dd-b6cc-8448ae2fd159",
   "metadata": {},
   "source": [
    "# OHT raw data parsing"
   ]
  },
  {
   "attachments": {},
   "cell_type": "markdown",
   "id": "3b43ca60-05b6-45cf-8cf4-ab09a71d2dfe",
   "metadata": {},
   "source": [
    "## Dataset information\n",
    "- raw dataset is multiple CSV files in a directory. ex) r\"\\\\BlueServer\\공동작업폴더\\데이터바우처_OHT\\수집csv\\newdata\"\n",
    "- CSV filename patterns are \"afpLog_YYYY-MM-DD_HHMMSS.csv\". ex) r\"\\\\BlueServer\\공동작업폴더\\데이터바우처_OHT\\수집csv\\newdata\\afpLog_2024-05-29_101339.csv\" \n",
    "- CSV file does not include head line, comma(,) delimited, 6 columns\n",
    "- CSV file line example: datatime_ms, tem, ecm1(electronic current measure 1), ecm2, ecm3, ecm4. ex) 2024-05-29 09:13:39:889,34.5,-0.1,1,0.5,0.6\n",
    "- For reusing performance, a duckdb file will be created with dir-basename.duckdb. ex) r\"\\\\BlueServer\\공동작업폴더\\데이터바우처_OHT\\수집csv\\수집csv.duckdb\""
   ]
  },
  {
   "cell_type": "markdown",
   "id": "078fd6ec-a194-4c80-87db-a57d7d973e4f",
   "metadata": {},
   "source": [
    "## Duckdb information\n",
    "- raw dataset is multiple CSV files in a directory. ex) r\"\\\\BlueServer\\공동작업폴더\\데이터바우처_OHT\\수집csv\\newdata\"\n",
    "- For reusing performance, a duckdb file will be created with parentdir-basename.duckdb. ex) r\"\\\\BlueServer\\공동작업폴더\\데이터바우처_OHT\\수집csv\\수집csv.duckdb\"\n",
    "- TABNAME_RAW table was created when the dbfile was created.\n",
    "- TABNAME_NORM, NOISE, OUTL will be created and used in this script"
   ]
  },
  {
   "cell_type": "markdown",
   "id": "6ca792e4-bd8c-4258-b6e6-f6f57c66ea15",
   "metadata": {},
   "source": [
    "## Processing flow\n",
    "- Parse raws csvfiles\n",
    "- Save to Raw table in-file duckdb\n",
    "- Display data info"
   ]
  },
  {
   "cell_type": "code",
   "execution_count": 2,
   "id": "0cdefb88-870e-4075-824b-53840ddb6f5b",
   "metadata": {},
   "outputs": [],
   "source": [
    "# packages\n",
    "import time\n",
    "import pathlib\n",
    "import pandas as pd\n",
    "\n",
    "import humanfriendly as human\n",
    "\n",
    "import ohtconf as conf\n",
    "import ohtcomm as comm"
   ]
  },
  {
   "cell_type": "markdown",
   "id": "ef876ffe-f89c-48dc-84dc-8157022161cc",
   "metadata": {},
   "source": [
    "## Main"
   ]
  },
  {
   "cell_type": "code",
   "execution_count": null,
   "id": "283709d7-93b4-4d94-8239-2f416ba1f8ec",
   "metadata": {},
   "outputs": [],
   "source": [
    "mainstart = time.time()"
   ]
  },
  {
   "cell_type": "code",
   "execution_count": null,
   "id": "30b1d138-3caa-44b7-81b4-ae80def8dfb9",
   "metadata": {},
   "outputs": [],
   "source": [
    "if conf.DBFILE_RECREATE:\n",
    "    comm.remove_file(conf.DBFILE)"
   ]
  },
  {
   "cell_type": "code",
   "execution_count": null,
   "id": "0a2a56b9-3418-4849-9b2a-da1add197550",
   "metadata": {},
   "outputs": [],
   "source": [
    "# read dataset files in a directory\n",
    "_start = time.time()\n",
    "\n",
    "dfraw: pd.DataFrame = None\n",
    "\n",
    "if pathlib.Path(conf.DBFILE).exists():\n",
    "    dfraw = comm.read_tabdf(conf.TABNAME_RAW)\n",
    "    # ensure order\n",
    "    dfraw.sort_values(by=conf.COLUMN_NAMES[0], inplace=True)\n",
    "    dfraw.reset_index(drop=True, inplace=True)\n",
    "\n",
    "    _elapsed = time.time() - _start\n",
    "    print(f\"Read elapsed time: {human.format_timespan(_elapsed)}\")\n",
    "else:\n",
    "    csvfiles = comm.get_multifiles_indir(conf.DIRRAW, conf.FILENAME_PATTERN)\n",
    "    if len(csvfiles) < 1:\n",
    "        raise Exception(f\"dataset no csvfiles in the directory, {conf.DIRRAW}\")\n",
    "\n",
    "    print(f\"all csvfile count={len(csvfiles)} in dir={conf.DIRRAW}\")\n",
    "\n",
    "    # skip files\n",
    "    if conf.SKIP_FILES is not None and conf.SKIP_FILES > 0:\n",
    "        if len(csvfiles) > conf.SKIP_FILES:\n",
    "            csvfiles = csvfiles[conf.SKIP_FILES :]\n",
    "            print(f\"skip files={conf.SKIP_FILES} applied\")\n",
    "        else:\n",
    "            print(f\"Ignore SKIP_FILES={conf.SKIP_FILES} as not enough files at dir={conf.DIRRAW}\")\n",
    "\n",
    "    # limit files\n",
    "    if conf.LIMIT_FILES is not None and conf.LIMIT_FILES > 0:\n",
    "        if len(csvfiles) > conf.LIMIT_FILES:\n",
    "            csvfiles = csvfiles[: conf.LIMIT_FILES]\n",
    "            print(f\"limit files={conf.LIMIT_FILES} applied\")\n",
    "\n",
    "    csvsizes = comm.get_multifiles_size(csvfiles)\n",
    "\n",
    "    if conf.INPUT_MAXSIZE is not None and conf.INPUT_MAXSIZE > 0:\n",
    "        if sum(csvsizes) > conf.INPUT_MAXSIZE:\n",
    "            cumfiles, cumsizes, sumsize = [], [], 0\n",
    "            for fname, fsize in zip(csvfiles, csvsizes):\n",
    "                cumfiles.append(fname)\n",
    "                cumsizes.append(fsize)\n",
    "                sumsize += fsize\n",
    "                if sumsize > conf.INPUT_MAXSIZE:\n",
    "                    csvfiles = cumfiles\n",
    "                    csvsizes = cumsizes\n",
    "                    break\n",
    "            print(f\"input maxsize={human.format_size(conf.INPUT_MAXSIZE)} applied\")\n",
    "\n",
    "    print(f\"selected csvfile count={len(csvfiles)}, size={human.format_size(sum(csvsizes))}\")\n",
    "    print(f\"selected first file={csvfiles[0]}, last file={csvfiles[-1]}\")\n",
    "\n",
    "    dfraw = comm.read_multifiles(files=csvfiles, logstep=conf.LOGSTEP_FILES, verbose=conf.VERBOSE)\n",
    "\n",
    "    # ensure order, non-null\n",
    "    dfraw.sort_values(by=conf.COLUMN_NAMES[0], inplace=True)\n",
    "    dfraw.reset_index(drop=True, inplace=True)\n",
    "    dfraw.bfill(inplace=True)\n",
    "    dfraw.ffill(inplace=True)\n",
    "\n",
    "    # save to db\n",
    "    comm.save_dftab(dfraw, conf.TABNAME_RAW)\n",
    "\n",
    "    _elapsed = time.time() - _start\n",
    "    print(f\"Parse elapsed time: {human.format_timespan(_elapsed)}\")"
   ]
  },
  {
   "cell_type": "code",
   "execution_count": null,
   "id": "ff37fe8a-283a-4bf7-8183-bd05830692f5",
   "metadata": {},
   "outputs": [],
   "source": [
    "# 데이터 체크\n",
    "dfraw.head()"
   ]
  },
  {
   "cell_type": "code",
   "execution_count": null,
   "id": "5a973d63-8735-42bc-a2a6-d9f2cbb4d793",
   "metadata": {},
   "outputs": [],
   "source": [
    "# 데이터 통계\n",
    "dfraw.describe()"
   ]
  },
  {
   "cell_type": "code",
   "execution_count": null,
   "id": "8a821452-f1d5-4724-b90f-cfde4b324996",
   "metadata": {},
   "outputs": [],
   "source": [
    "_elapsed = time.time() - mainstart\n",
    "print(f\"main elapsed time: {human.format_timespan(_elapsed)}\")\n",
    "# 1 min. for 170 files, 420 MB input files when set conf.INPUT_MAXSIZE = 400 MB"
   ]
  },
  {
   "cell_type": "markdown",
   "id": "9b6407f8-6769-41df-9268-559558321b38",
   "metadata": {},
   "source": [
    "## eof"
   ]
  }
 ],
 "metadata": {
  "kernelspec": {
   "display_name": "Python 3 (ipykernel)",
   "language": "python",
   "name": "python3"
  },
  "language_info": {
   "codemirror_mode": {
    "name": "ipython",
    "version": 3
   },
   "file_extension": ".py",
   "mimetype": "text/x-python",
   "name": "python",
   "nbconvert_exporter": "python",
   "pygments_lexer": "ipython3",
   "version": "3.12.3"
  }
 },
 "nbformat": 4,
 "nbformat_minor": 5
}
