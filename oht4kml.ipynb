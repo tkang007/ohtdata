{
 "cells": [
  {
   "cell_type": "code",
   "execution_count": null,
   "id": "ee712d33-11ce-42e9-994c-51f199abee7f",
   "metadata": {},
   "outputs": [],
   "source": [
    "# filename: knn.ipynb\n",
    "# purpose: knn model implement"
   ]
  },
  {
   "cell_type": "markdown",
   "id": "33fced73-cab1-4cd4-a90f-dde6cce3f2b7",
   "metadata": {},
   "source": [
    "# OHT KNN model implement"
   ]
  },
  {
   "cell_type": "markdown",
   "id": "10234657-944c-4cb7-a5d0-7b65e51fa1e7",
   "metadata": {},
   "source": [
    "### KNN implements\n",
    "- KNN classification method will be used to detect abnormal,outlier data\n",
    "\n",
    "### Processing flow\n",
    "- Read mixed dataset from dukdb table\n",
    "- Reduce dataset to the required volumn\n",
    "- Convert int label in flag column to str label for easier understaing of the classification report\n",
    "- Split training and test dataset and labels\n",
    "- Search best-K value in the configured neighbor range \n",
    "- KNN train with the searched best K value \n",
    "- Predict with test dataset\n",
    "- Report the prediction report with best-K, accuracy score, confusion matrix (precision,recall,f-score,support)\n",
    "- Chart confunsion matrix by heatmap\n",
    "- Chart decision boundary scatter with 2 features\n",
    "  "
   ]
  },
  {
   "cell_type": "code",
   "execution_count": null,
   "id": "7337bee0-a4ea-44e3-bdc9-98b3fa5afb7d",
   "metadata": {},
   "outputs": [],
   "source": [
    "# packages\n",
    "import time\n",
    "import os\n",
    "import tempfile\n",
    "import numpy as np\n",
    "import pandas as pd\n",
    "import humanfriendly as human\n",
    "import joblib\n",
    "\n",
    "import ohtconf as conf\n",
    "import ohtcomm as comm\n",
    "import ohtkml as kml\n"
   ]
  },
  {
   "cell_type": "markdown",
   "id": "8b5f48bc-e00c-4eba-a5bb-cb9934b6d212",
   "metadata": {},
   "source": [
    "## Main"
   ]
  },
  {
   "cell_type": "code",
   "execution_count": null,
   "id": "874bef55-ee79-49b9-b065-114a33754b9e",
   "metadata": {},
   "outputs": [],
   "source": [
    "mainstart = time.time()"
   ]
  },
  {
   "cell_type": "code",
   "execution_count": null,
   "id": "973484d5-9801-4aaa-8f1f-9debdb04897a",
   "metadata": {},
   "outputs": [],
   "source": [
    "# set float display format\n",
    "pd.set_option(\"display.float_format\", \"{:.1f}\".format)"
   ]
  },
  {
   "cell_type": "code",
   "execution_count": null,
   "id": "bb12cad8-33a2-45e3-ad1d-e45650a68689",
   "metadata": {},
   "outputs": [],
   "source": [
    "# read table data\n",
    "_start = time.time()\n",
    "\n",
    "dfmix = comm.read_tabdf(conf.TABNAME_MIX)\n",
    "dfmix.sort_values(by=conf.COLUMN_NAMES[0], inplace=True)\n",
    "dfmix.reset_index(drop=True, inplace=True)\n",
    "\n",
    "dfknn = dfmix.iloc[0 : conf.TRAIN_SIZE]  # execution time key factor\n",
    "\n",
    "# type convert to prevent model fit, RuntimeWarning: invalid value encountered in cast\n",
    "type_dict = {col: np.float32 for col in conf.COLUMN_GRAPH}\n",
    "dfknn = dfknn.astype(type_dict)\n",
    "\n",
    "print(f\"row count, dfmix={len(dfmix)}, dfknn={len(dfknn)}, expected dfknn={conf.TRAIN_SIZE}\")\n",
    "\n",
    "_elapsed = time.time() - _start\n",
    "print(f\"elapsed time: {human.format_timespan(_elapsed)}\")"
   ]
  },
  {
   "cell_type": "markdown",
   "id": "f9fc15fb-59f7-403d-b2d0-4f62c8414889",
   "metadata": {},
   "source": [
    "### KNN modeling with all 10 features"
   ]
  },
  {
   "cell_type": "code",
   "execution_count": null,
   "id": "1bf64396-66ce-4d11-a463-1efac0ea2a94",
   "metadata": {},
   "outputs": [],
   "source": [
    "# knn training\n",
    "_start = time.time()\n",
    "\n",
    "# data  feature, column name and labels for flag column value\n",
    "ALL_ILABELS = list(range(0, 11))  # 0 ~ 10 for normal, outlier-tem,...,outlier-ct4 flag\n",
    "ALL_COLUMNS = conf.COLUMN_GRAPH\n",
    "ALL_LABELS = [\"NORM\"] + ALL_COLUMNS  # NORM for normal, others are for outlier\n",
    "\n",
    "# data\n",
    "X = dfknn.loc[:, ALL_COLUMNS]\n",
    "\n",
    "# label\n",
    "y = dfknn.loc[:, [conf.COLUMN_FLAG]].copy()  # dataframe\n",
    "y = y[conf.COLUMN_FLAG]  # series\n",
    "y = kml.make_strlabel(\n",
    "    y, ALL_ILABELS, ALL_LABELS\n",
    ")  # map y, number labels(0~10) to str labels (NORM,TEM,...,CT3) for easier report understanding\n",
    "\n",
    "\n",
    "best_k, model, X_test, y_test = kml.train(X, y, ALL_COLUMNS, ALL_LABELS, neighbors=kml.calc_neighbors(y))\n",
    "\n",
    "_elapsed = time.time() - _start\n",
    "print(f\"elapsed time: {human.format_timespan(_elapsed)}\")"
   ]
  },
  {
   "cell_type": "code",
   "execution_count": null,
   "id": "fa5ea9bf-b674-42f3-bf86-d39299f0bbf2",
   "metadata": {},
   "outputs": [],
   "source": [
    "# knn predict\n",
    "_start = time.time()\n",
    "\n",
    "y_pred = kml.predict(model, X_test)\n",
    "\n",
    "_elapsed = time.time() - _start\n",
    "print(f\"elapsed time: {human.format_timespan(_elapsed)}\")"
   ]
  },
  {
   "cell_type": "code",
   "execution_count": null,
   "id": "356f6e77-cd35-466e-9a4f-ad39af77dddd",
   "metadata": {},
   "outputs": [],
   "source": [
    "# knn report\n",
    "\n",
    "dfcm = kml.report(best_k, y_test, y_pred, ALL_LABELS, title=\"all 10 features\")"
   ]
  },
  {
   "cell_type": "code",
   "execution_count": null,
   "id": "0e6dbfc4-9c5f-4898-b4fd-58f534c61106",
   "metadata": {},
   "outputs": [],
   "source": [
    "# knn confusion matrix heatmap chart\n",
    "start = time.time()\n",
    "\n",
    "pngfile = \"knn-cm-heatmap-all.png\"\n",
    "kml.cm_heatmap(dfcm, title=\"all 10 features\", pngfile=pngfile)\n",
    "\n",
    "_elapsed = time.time() - _start\n",
    "print(f\"elapsed time: {human.format_timespan(_elapsed)}\")"
   ]
  },
  {
   "cell_type": "markdown",
   "id": "2ac4aef8-d0b3-4d7f-aadb-7dfb4f4047da",
   "metadata": {},
   "source": [
    "### KNN trainned model usage example \n",
    "- save trainned model to a file by the trainning program\n",
    "- load the saved model by another predicting program\n",
    "- do predicting"
   ]
  },
  {
   "cell_type": "code",
   "execution_count": null,
   "id": "aa5f2f24-54de-4074-9c62-d15625b64dac",
   "metadata": {},
   "outputs": [],
   "source": [
    "# Save model to a named temporary file\n",
    "temp_joblib_file = None\n",
    "with tempfile.NamedTemporaryFile(prefix=\"knn-model-all_\", suffix=\".joblib\", dir=None, delete=False) as temp_file:\n",
    "    joblib.dump(model, temp_file)\n",
    "    temp_joblib_file = temp_file.name\n",
    "    print(f\"Temporary joblib file created: {temp_joblib_file}\")"
   ]
  },
  {
   "cell_type": "code",
   "execution_count": null,
   "id": "37de5559-bfec-407d-9ebd-de445a66cb04",
   "metadata": {},
   "outputs": [],
   "source": [
    "# Load the model from the file\n",
    "load_model = joblib.load(temp_joblib_file)\n",
    "print(f\"Temporary joblib file loaded: {temp_joblib_file}\")\n",
    "\n",
    "load_test = X_test.iloc[0:1]\n",
    "expect_y = y_pred[0:1]\n",
    "print(f\"load model test data:\\n{load_test.to_string()}\")\n",
    "\n",
    "predict_y = kml.predict(load_model, load_test)\n",
    "if predict_y[0] == expect_y[0]:\n",
    "    print(f\"loaded model predicted value match with expected value: {predict_y[0]}, {expect_y[0]}\")\n",
    "else:\n",
    "    print(f\"loaded model predicted value unmatch with expected value: {predict_y[0]}, {expect_y[0]}\")"
   ]
  },
  {
   "cell_type": "code",
   "execution_count": null,
   "id": "da15bf1e-77b1-486f-9571-1c124b94e039",
   "metadata": {},
   "outputs": [],
   "source": [
    "# Delete the model file\n",
    "os.remove(temp_joblib_file)\n",
    "print(f\"Temporary joblib file deleted: {temp_joblib_file}\")"
   ]
  },
  {
   "cell_type": "markdown",
   "id": "93c2020a-b05e-4ce3-b9e1-ffe9de919cd1",
   "metadata": {},
   "source": [
    "### KNN modeling with 2 features for 2-D visualization "
   ]
  },
  {
   "cell_type": "code",
   "execution_count": null,
   "id": "a8a1dc11-ade4-4736-aad2-27ac76201b47",
   "metadata": {},
   "outputs": [],
   "source": [
    "_start = time.time()\n",
    "\n",
    "# data  feature, column name and labels for flag column value\n",
    "TWO_ILABELS = [0, 1, 6]  # 0 for normal, 1 for outlier-tem, 6 for outlier-nh3\n",
    "TWO_COLUMNS = [conf.COLUMN_NAMES[TWO_ILABELS[1]], conf.COLUMN_NAMES[TWO_ILABELS[2]]]\n",
    "TWO_LABELS = [\"NORM\"] + TWO_COLUMNS  # NORM for normal, other are for outlier\n",
    "\n",
    "# data\n",
    "X = dfknn.loc[:, TWO_COLUMNS]\n",
    "\n",
    "# label\n",
    "y = dfknn.loc[:, [conf.COLUMN_FLAG]].copy()  # dataframe\n",
    "# clear non-candidate column's flag value\n",
    "y.loc[(y[conf.COLUMN_FLAG] != TWO_ILABELS[1]) & (y[conf.COLUMN_FLAG] != TWO_ILABELS[2]), conf.COLUMN_FLAG] = 0\n",
    "y = y[conf.COLUMN_FLAG]  # series\n",
    "# map y, label values TWO_INDEXES to TWO_LABELS\n",
    "y = kml.make_strlabel(y, TWO_ILABELS, TWO_LABELS)\n",
    "\n",
    "best_k, model, X_test, y_test = kml.train(X, y, TWO_COLUMNS, TWO_LABELS, neighbors=kml.calc_neighbors(y))\n",
    "\n",
    "_elapsed = time.time() - _start\n",
    "print(f\"elapsed time: {human.format_timespan(_elapsed)}\")"
   ]
  },
  {
   "cell_type": "code",
   "execution_count": null,
   "id": "568e465c-8558-4a55-b9b6-e7342350d094",
   "metadata": {},
   "outputs": [],
   "source": [
    "# knn predict\n",
    "_start = time.time()\n",
    "\n",
    "y_pred = kml.predict(model, X_test)\n",
    "\n",
    "_elapsed = time.time() - _start\n",
    "print(f\"elapsed time: {human.format_timespan(_elapsed)}\")"
   ]
  },
  {
   "cell_type": "code",
   "execution_count": null,
   "id": "c25d7deb-bfe3-4b7b-ae79-048a1c8699ce",
   "metadata": {},
   "outputs": [],
   "source": [
    "# knn report\n",
    "\n",
    "dfcm = kml.report(best_k, y_test, y_pred, TWO_LABELS, title=\" & \".join(TWO_COLUMNS))"
   ]
  },
  {
   "cell_type": "code",
   "execution_count": null,
   "id": "d9d322c5-b4df-46dd-ba7b-c85686d6c83a",
   "metadata": {},
   "outputs": [],
   "source": [
    "# knn confusion matrix heatmap chart\n",
    "start = time.time()\n",
    "\n",
    "pngfile = f\"knn-cm-heatmap-{'-'.join(TWO_COLUMNS)}.png\"\n",
    "kml.cm_heatmap(dfcm, title=f\"2 features - {' & '.join(TWO_COLUMNS)}\", pngfile=pngfile)\n",
    "\n",
    "_elapsed = time.time() - _start\n",
    "print(f\"elapsed time: {human.format_timespan(_elapsed)}\")"
   ]
  },
  {
   "cell_type": "code",
   "execution_count": null,
   "id": "f4a06b94-bbac-43f5-9f49-bf0467b1a49b",
   "metadata": {},
   "outputs": [],
   "source": [
    "# knn decision boundary scatter, 2-D visualization\n",
    "start = time.time()\n",
    "\n",
    "pngfile = f\"knn-db-scatter-{'-'.join(TWO_COLUMNS)}.png\"\n",
    "kml.f2_boundary_scatter(X, y, model, best_k, title=\" & \".join(TWO_COLUMNS), pngfile=pngfile)\n",
    "\n",
    "_elapsed = time.time() - _start\n",
    "print(f\"elapsed time: {human.format_timespan(_elapsed)}\")"
   ]
  },
  {
   "cell_type": "code",
   "execution_count": null,
   "id": "22e09d7e-7e75-4daa-b92c-82b188c48176",
   "metadata": {},
   "outputs": [],
   "source": [
    "_elapsed = time.time() - mainstart\n",
    "print(f\"main elapsed time: {human.format_timespan(_elapsed)}\")"
   ]
  },
  {
   "cell_type": "markdown",
   "id": "f7a3a254-c4fb-4802-95f6-acdf51645c93",
   "metadata": {},
   "source": [
    "### eof"
   ]
  }
 ],
 "metadata": {
  "kernelspec": {
   "display_name": "Python 3 (ipykernel)",
   "language": "python",
   "name": "python3"
  },
  "language_info": {
   "codemirror_mode": {
    "name": "ipython",
    "version": 3
   },
   "file_extension": ".py",
   "mimetype": "text/x-python",
   "name": "python",
   "nbconvert_exporter": "python",
   "pygments_lexer": "ipython3",
   "version": "3.12.3"
  }
 },
 "nbformat": 4,
 "nbformat_minor": 5
}
